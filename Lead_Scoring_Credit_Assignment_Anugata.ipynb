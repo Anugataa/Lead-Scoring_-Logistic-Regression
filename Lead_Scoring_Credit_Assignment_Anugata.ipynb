{
 "cells": [
  {
   "cell_type": "markdown",
   "id": "f45f7242",
   "metadata": {},
   "source": [
    "# Problem Statement :\n",
    "- Our client **X Education** sells online courses to industry professionals. Professionals visit their website and explore available online course on a daily basis. Our client promotes their website and courses on varoius websites as well as on several search engines like Google, Bing, Yahoo etc. using ad campaigns in which the interested target audience and potential customers fill a form or watch a promotional video and share their contact details like phone number and email ids for furthur information and discussion. Those customers are knows as **Leads** Also, Word-of-mouth marketing plays a huge role in lead generation for our client. \n",
    "\n",
    "- Employees from the sales team approach these leads via emails, phone calls, text messages etc. Some of these **leads, around 30%** in our client's case, are **converted** which is a very **poor conversion rate**.\n",
    "\n",
    "- There are a lot of leads generated in the initial stage (social media marketing and search engine marketing) but only a few of them come out as paying customers from the bottom. If we demonostarte the entire process in a diagram and keep the 1st step on top and converted leads at bottom it would look like a funnel. In the middle stage, we nurture the potential leads well (i.e. educating the leads about the product, constantly communicating etc. ) in order to get a higher lead conversion.\n",
    "\n",
    "- So, to make this process more efficinet the X education company wants to **identify** the most potential leads, also, known as **Hot Leads**. If they successfully identify this set of leads, the lead **conversion rate should go up** as the sales team will now be focusing more on communicating with the potential leads rather than making calls to everyone.\n",
    "\n",
    "- Our job here is to **help them select the most promising leads**, i.e. the leads that are most likely to convert into paying customers. \n",
    "\n",
    "\n",
    "##### Our Goals in Layman's Language :\n",
    "- To **build a model** wherein you need to **assign a lead score to each of the leads** such that the customers with **higher lead score** have a **higher conversion chance** and the customers with **lower lead score** have a **lower conversion chance**. The CEO, in particular, has given a ballpark of the **target lead conversion rate to be around 80%**.\n",
    "\n"
   ]
  },
  {
   "cell_type": "markdown",
   "id": "65d34f76",
   "metadata": {},
   "source": [
    "# Data :\n",
    "- We have been provided with a **leads dataset** from the past which consists of various **attributes such as Lead Source, Total Time Spent on Website, Total Visits, Last Activity**, etc. which may or may not be useful in ultimately deciding whether a lead will be converted or not. \n",
    "- The **target variable, in this case, is the column ‘Converted’** which tells whether a past lead was converted or not wherein **1 means it was converted and 0 means it wasn’t converted**. \n",
    "\n",
    "- We also need to check out for are the **levels present in the categorical variables**. Many of the **categorical variables have a level called 'Select'** which needs to be handled because it is as good as a null value. SO, we may have to replace them with 'Nan'."
   ]
  },
  {
   "cell_type": "markdown",
   "id": "9d48e11d",
   "metadata": {},
   "source": [
    "# Goals :\n",
    "There are quite a few goals for this case study.\n",
    "\n",
    "- We need to build a logistic regression model to **assign a lead score between 0 and 100 to each of the leads** which can be used by the company to target potential leads. **A higher score would mean that the lead is hot**, i.e. is most likely to convert whereas a **lower score** would mean that the lead is cold and **will mostly not get converted**.\n",
    "- There are some **more problems** presented by the company which our model should be able to adjust to **if the company's requirement changes in the future**.So we will fill these problems which are provided in a **separate doc file**. It should be **based on** the **logistic regression model** we got in the **first step**. Also,we need to include this in our **final PPT** where you'll make **recommendations."
   ]
  },
  {
   "cell_type": "markdown",
   "id": "1495f384",
   "metadata": {},
   "source": [
    "# Steps to follow:\n",
    "- Reading and Understanding the Data\n",
    "- Data Cleaning\n",
    "- Exploratory Data Analysis\n",
    "- Data Preparation\n",
    "- Model Building\n",
    "- Model Evaluation"
   ]
  },
  {
   "cell_type": "markdown",
   "id": "ae44e833",
   "metadata": {},
   "source": [
    "## Step-1: Reading And Understanding the Data:\n"
   ]
  },
  {
   "cell_type": "code",
   "execution_count": 789,
   "id": "8c29e668",
   "metadata": {},
   "outputs": [],
   "source": [
    "# Libraries to read and clean data\n",
    "import numpy as np\n",
    "import pandas as pd\n",
    "\n",
    "# Libraries for data Visualization\n",
    "import matplotlib.pyplot as plt\n",
    "import seaborn as sns\n",
    "\n",
    "# Suppressing Warnings\n",
    "import warnings\n",
    "warnings.filterwarnings('ignore')"
   ]
  },
  {
   "cell_type": "code",
   "execution_count": 790,
   "id": "45489dc5",
   "metadata": {},
   "outputs": [
    {
     "data": {
      "text/html": [
       "<div>\n",
       "<style scoped>\n",
       "    .dataframe tbody tr th:only-of-type {\n",
       "        vertical-align: middle;\n",
       "    }\n",
       "\n",
       "    .dataframe tbody tr th {\n",
       "        vertical-align: top;\n",
       "    }\n",
       "\n",
       "    .dataframe thead th {\n",
       "        text-align: right;\n",
       "    }\n",
       "</style>\n",
       "<table border=\"1\" class=\"dataframe\">\n",
       "  <thead>\n",
       "    <tr style=\"text-align: right;\">\n",
       "      <th></th>\n",
       "      <th>Prospect ID</th>\n",
       "      <th>Lead Number</th>\n",
       "      <th>Lead Origin</th>\n",
       "      <th>Lead Source</th>\n",
       "      <th>Do Not Email</th>\n",
       "      <th>Do Not Call</th>\n",
       "      <th>Converted</th>\n",
       "      <th>TotalVisits</th>\n",
       "      <th>Total Time Spent on Website</th>\n",
       "      <th>Page Views Per Visit</th>\n",
       "      <th>...</th>\n",
       "      <th>Get updates on DM Content</th>\n",
       "      <th>Lead Profile</th>\n",
       "      <th>City</th>\n",
       "      <th>Asymmetrique Activity Index</th>\n",
       "      <th>Asymmetrique Profile Index</th>\n",
       "      <th>Asymmetrique Activity Score</th>\n",
       "      <th>Asymmetrique Profile Score</th>\n",
       "      <th>I agree to pay the amount through cheque</th>\n",
       "      <th>A free copy of Mastering The Interview</th>\n",
       "      <th>Last Notable Activity</th>\n",
       "    </tr>\n",
       "  </thead>\n",
       "  <tbody>\n",
       "    <tr>\n",
       "      <th>0</th>\n",
       "      <td>7927b2df-8bba-4d29-b9a2-b6e0beafe620</td>\n",
       "      <td>660737</td>\n",
       "      <td>API</td>\n",
       "      <td>Olark Chat</td>\n",
       "      <td>No</td>\n",
       "      <td>No</td>\n",
       "      <td>0</td>\n",
       "      <td>0.0</td>\n",
       "      <td>0</td>\n",
       "      <td>0.0</td>\n",
       "      <td>...</td>\n",
       "      <td>No</td>\n",
       "      <td>Select</td>\n",
       "      <td>Select</td>\n",
       "      <td>02.Medium</td>\n",
       "      <td>02.Medium</td>\n",
       "      <td>15.0</td>\n",
       "      <td>15.0</td>\n",
       "      <td>No</td>\n",
       "      <td>No</td>\n",
       "      <td>Modified</td>\n",
       "    </tr>\n",
       "    <tr>\n",
       "      <th>1</th>\n",
       "      <td>2a272436-5132-4136-86fa-dcc88c88f482</td>\n",
       "      <td>660728</td>\n",
       "      <td>API</td>\n",
       "      <td>Organic Search</td>\n",
       "      <td>No</td>\n",
       "      <td>No</td>\n",
       "      <td>0</td>\n",
       "      <td>5.0</td>\n",
       "      <td>674</td>\n",
       "      <td>2.5</td>\n",
       "      <td>...</td>\n",
       "      <td>No</td>\n",
       "      <td>Select</td>\n",
       "      <td>Select</td>\n",
       "      <td>02.Medium</td>\n",
       "      <td>02.Medium</td>\n",
       "      <td>15.0</td>\n",
       "      <td>15.0</td>\n",
       "      <td>No</td>\n",
       "      <td>No</td>\n",
       "      <td>Email Opened</td>\n",
       "    </tr>\n",
       "    <tr>\n",
       "      <th>2</th>\n",
       "      <td>8cc8c611-a219-4f35-ad23-fdfd2656bd8a</td>\n",
       "      <td>660727</td>\n",
       "      <td>Landing Page Submission</td>\n",
       "      <td>Direct Traffic</td>\n",
       "      <td>No</td>\n",
       "      <td>No</td>\n",
       "      <td>1</td>\n",
       "      <td>2.0</td>\n",
       "      <td>1532</td>\n",
       "      <td>2.0</td>\n",
       "      <td>...</td>\n",
       "      <td>No</td>\n",
       "      <td>Potential Lead</td>\n",
       "      <td>Mumbai</td>\n",
       "      <td>02.Medium</td>\n",
       "      <td>01.High</td>\n",
       "      <td>14.0</td>\n",
       "      <td>20.0</td>\n",
       "      <td>No</td>\n",
       "      <td>Yes</td>\n",
       "      <td>Email Opened</td>\n",
       "    </tr>\n",
       "    <tr>\n",
       "      <th>3</th>\n",
       "      <td>0cc2df48-7cf4-4e39-9de9-19797f9b38cc</td>\n",
       "      <td>660719</td>\n",
       "      <td>Landing Page Submission</td>\n",
       "      <td>Direct Traffic</td>\n",
       "      <td>No</td>\n",
       "      <td>No</td>\n",
       "      <td>0</td>\n",
       "      <td>1.0</td>\n",
       "      <td>305</td>\n",
       "      <td>1.0</td>\n",
       "      <td>...</td>\n",
       "      <td>No</td>\n",
       "      <td>Select</td>\n",
       "      <td>Mumbai</td>\n",
       "      <td>02.Medium</td>\n",
       "      <td>01.High</td>\n",
       "      <td>13.0</td>\n",
       "      <td>17.0</td>\n",
       "      <td>No</td>\n",
       "      <td>No</td>\n",
       "      <td>Modified</td>\n",
       "    </tr>\n",
       "    <tr>\n",
       "      <th>4</th>\n",
       "      <td>3256f628-e534-4826-9d63-4a8b88782852</td>\n",
       "      <td>660681</td>\n",
       "      <td>Landing Page Submission</td>\n",
       "      <td>Google</td>\n",
       "      <td>No</td>\n",
       "      <td>No</td>\n",
       "      <td>1</td>\n",
       "      <td>2.0</td>\n",
       "      <td>1428</td>\n",
       "      <td>1.0</td>\n",
       "      <td>...</td>\n",
       "      <td>No</td>\n",
       "      <td>Select</td>\n",
       "      <td>Mumbai</td>\n",
       "      <td>02.Medium</td>\n",
       "      <td>01.High</td>\n",
       "      <td>15.0</td>\n",
       "      <td>18.0</td>\n",
       "      <td>No</td>\n",
       "      <td>No</td>\n",
       "      <td>Modified</td>\n",
       "    </tr>\n",
       "  </tbody>\n",
       "</table>\n",
       "<p>5 rows × 37 columns</p>\n",
       "</div>"
      ],
      "text/plain": [
       "                            Prospect ID  Lead Number              Lead Origin  \\\n",
       "0  7927b2df-8bba-4d29-b9a2-b6e0beafe620       660737                      API   \n",
       "1  2a272436-5132-4136-86fa-dcc88c88f482       660728                      API   \n",
       "2  8cc8c611-a219-4f35-ad23-fdfd2656bd8a       660727  Landing Page Submission   \n",
       "3  0cc2df48-7cf4-4e39-9de9-19797f9b38cc       660719  Landing Page Submission   \n",
       "4  3256f628-e534-4826-9d63-4a8b88782852       660681  Landing Page Submission   \n",
       "\n",
       "      Lead Source Do Not Email Do Not Call  Converted  TotalVisits  \\\n",
       "0      Olark Chat           No          No          0          0.0   \n",
       "1  Organic Search           No          No          0          5.0   \n",
       "2  Direct Traffic           No          No          1          2.0   \n",
       "3  Direct Traffic           No          No          0          1.0   \n",
       "4          Google           No          No          1          2.0   \n",
       "\n",
       "   Total Time Spent on Website  Page Views Per Visit  ...  \\\n",
       "0                            0                   0.0  ...   \n",
       "1                          674                   2.5  ...   \n",
       "2                         1532                   2.0  ...   \n",
       "3                          305                   1.0  ...   \n",
       "4                         1428                   1.0  ...   \n",
       "\n",
       "  Get updates on DM Content    Lead Profile    City  \\\n",
       "0                        No          Select  Select   \n",
       "1                        No          Select  Select   \n",
       "2                        No  Potential Lead  Mumbai   \n",
       "3                        No          Select  Mumbai   \n",
       "4                        No          Select  Mumbai   \n",
       "\n",
       "  Asymmetrique Activity Index Asymmetrique Profile Index  \\\n",
       "0                   02.Medium                  02.Medium   \n",
       "1                   02.Medium                  02.Medium   \n",
       "2                   02.Medium                    01.High   \n",
       "3                   02.Medium                    01.High   \n",
       "4                   02.Medium                    01.High   \n",
       "\n",
       "  Asymmetrique Activity Score Asymmetrique Profile Score  \\\n",
       "0                        15.0                       15.0   \n",
       "1                        15.0                       15.0   \n",
       "2                        14.0                       20.0   \n",
       "3                        13.0                       17.0   \n",
       "4                        15.0                       18.0   \n",
       "\n",
       "  I agree to pay the amount through cheque  \\\n",
       "0                                       No   \n",
       "1                                       No   \n",
       "2                                       No   \n",
       "3                                       No   \n",
       "4                                       No   \n",
       "\n",
       "  A free copy of Mastering The Interview Last Notable Activity  \n",
       "0                                     No              Modified  \n",
       "1                                     No          Email Opened  \n",
       "2                                    Yes          Email Opened  \n",
       "3                                     No              Modified  \n",
       "4                                     No              Modified  \n",
       "\n",
       "[5 rows x 37 columns]"
      ]
     },
     "execution_count": 790,
     "metadata": {},
     "output_type": "execute_result"
    }
   ],
   "source": [
    "# Load and Read the csv file\n",
    "leads = pd.read_csv(\"Leads.csv\", sep=\",\", encoding=\"ISO-8859-1\", header=0)\n",
    "\n",
    "# Checking First Five records of the dataset\n",
    "leads.head()"
   ]
  },
  {
   "cell_type": "code",
   "execution_count": 791,
   "id": "7411766a",
   "metadata": {},
   "outputs": [
    {
     "name": "stdout",
     "output_type": "stream",
     "text": [
      "<class 'pandas.core.frame.DataFrame'>\n",
      "RangeIndex: 9240 entries, 0 to 9239\n",
      "Data columns (total 37 columns):\n",
      " #   Column                                         Non-Null Count  Dtype  \n",
      "---  ------                                         --------------  -----  \n",
      " 0   Prospect ID                                    9240 non-null   object \n",
      " 1   Lead Number                                    9240 non-null   int64  \n",
      " 2   Lead Origin                                    9240 non-null   object \n",
      " 3   Lead Source                                    9204 non-null   object \n",
      " 4   Do Not Email                                   9240 non-null   object \n",
      " 5   Do Not Call                                    9240 non-null   object \n",
      " 6   Converted                                      9240 non-null   int64  \n",
      " 7   TotalVisits                                    9103 non-null   float64\n",
      " 8   Total Time Spent on Website                    9240 non-null   int64  \n",
      " 9   Page Views Per Visit                           9103 non-null   float64\n",
      " 10  Last Activity                                  9137 non-null   object \n",
      " 11  Country                                        6779 non-null   object \n",
      " 12  Specialization                                 7802 non-null   object \n",
      " 13  How did you hear about X Education             7033 non-null   object \n",
      " 14  What is your current occupation                6550 non-null   object \n",
      " 15  What matters most to you in choosing a course  6531 non-null   object \n",
      " 16  Search                                         9240 non-null   object \n",
      " 17  Magazine                                       9240 non-null   object \n",
      " 18  Newspaper Article                              9240 non-null   object \n",
      " 19  X Education Forums                             9240 non-null   object \n",
      " 20  Newspaper                                      9240 non-null   object \n",
      " 21  Digital Advertisement                          9240 non-null   object \n",
      " 22  Through Recommendations                        9240 non-null   object \n",
      " 23  Receive More Updates About Our Courses         9240 non-null   object \n",
      " 24  Tags                                           5887 non-null   object \n",
      " 25  Lead Quality                                   4473 non-null   object \n",
      " 26  Update me on Supply Chain Content              9240 non-null   object \n",
      " 27  Get updates on DM Content                      9240 non-null   object \n",
      " 28  Lead Profile                                   6531 non-null   object \n",
      " 29  City                                           7820 non-null   object \n",
      " 30  Asymmetrique Activity Index                    5022 non-null   object \n",
      " 31  Asymmetrique Profile Index                     5022 non-null   object \n",
      " 32  Asymmetrique Activity Score                    5022 non-null   float64\n",
      " 33  Asymmetrique Profile Score                     5022 non-null   float64\n",
      " 34  I agree to pay the amount through cheque       9240 non-null   object \n",
      " 35  A free copy of Mastering The Interview         9240 non-null   object \n",
      " 36  Last Notable Activity                          9240 non-null   object \n",
      "dtypes: float64(4), int64(3), object(30)\n",
      "memory usage: 2.6+ MB\n"
     ]
    }
   ],
   "source": [
    "# Checking the basic information of dataset\n",
    "leads.info()"
   ]
  },
  {
   "cell_type": "markdown",
   "id": "86144d63",
   "metadata": {},
   "source": [
    "**We have 9240 rows and 37 columns. Looks like we have a lot of categorical variables, also have few null values.**"
   ]
  },
  {
   "cell_type": "code",
   "execution_count": 792,
   "id": "2b8d11c2",
   "metadata": {},
   "outputs": [
    {
     "data": {
      "text/html": [
       "<div>\n",
       "<style scoped>\n",
       "    .dataframe tbody tr th:only-of-type {\n",
       "        vertical-align: middle;\n",
       "    }\n",
       "\n",
       "    .dataframe tbody tr th {\n",
       "        vertical-align: top;\n",
       "    }\n",
       "\n",
       "    .dataframe thead th {\n",
       "        text-align: right;\n",
       "    }\n",
       "</style>\n",
       "<table border=\"1\" class=\"dataframe\">\n",
       "  <thead>\n",
       "    <tr style=\"text-align: right;\">\n",
       "      <th></th>\n",
       "      <th>Lead Number</th>\n",
       "      <th>Converted</th>\n",
       "      <th>TotalVisits</th>\n",
       "      <th>Total Time Spent on Website</th>\n",
       "      <th>Page Views Per Visit</th>\n",
       "      <th>Asymmetrique Activity Score</th>\n",
       "      <th>Asymmetrique Profile Score</th>\n",
       "    </tr>\n",
       "  </thead>\n",
       "  <tbody>\n",
       "    <tr>\n",
       "      <th>count</th>\n",
       "      <td>9240.000000</td>\n",
       "      <td>9240.000000</td>\n",
       "      <td>9103.000000</td>\n",
       "      <td>9240.000000</td>\n",
       "      <td>9103.000000</td>\n",
       "      <td>5022.000000</td>\n",
       "      <td>5022.000000</td>\n",
       "    </tr>\n",
       "    <tr>\n",
       "      <th>mean</th>\n",
       "      <td>617188.435606</td>\n",
       "      <td>0.385390</td>\n",
       "      <td>3.445238</td>\n",
       "      <td>487.698268</td>\n",
       "      <td>2.362820</td>\n",
       "      <td>14.306252</td>\n",
       "      <td>16.344883</td>\n",
       "    </tr>\n",
       "    <tr>\n",
       "      <th>std</th>\n",
       "      <td>23405.995698</td>\n",
       "      <td>0.486714</td>\n",
       "      <td>4.854853</td>\n",
       "      <td>548.021466</td>\n",
       "      <td>2.161418</td>\n",
       "      <td>1.386694</td>\n",
       "      <td>1.811395</td>\n",
       "    </tr>\n",
       "    <tr>\n",
       "      <th>min</th>\n",
       "      <td>579533.000000</td>\n",
       "      <td>0.000000</td>\n",
       "      <td>0.000000</td>\n",
       "      <td>0.000000</td>\n",
       "      <td>0.000000</td>\n",
       "      <td>7.000000</td>\n",
       "      <td>11.000000</td>\n",
       "    </tr>\n",
       "    <tr>\n",
       "      <th>25%</th>\n",
       "      <td>596484.500000</td>\n",
       "      <td>0.000000</td>\n",
       "      <td>1.000000</td>\n",
       "      <td>12.000000</td>\n",
       "      <td>1.000000</td>\n",
       "      <td>14.000000</td>\n",
       "      <td>15.000000</td>\n",
       "    </tr>\n",
       "    <tr>\n",
       "      <th>50%</th>\n",
       "      <td>615479.000000</td>\n",
       "      <td>0.000000</td>\n",
       "      <td>3.000000</td>\n",
       "      <td>248.000000</td>\n",
       "      <td>2.000000</td>\n",
       "      <td>14.000000</td>\n",
       "      <td>16.000000</td>\n",
       "    </tr>\n",
       "    <tr>\n",
       "      <th>75%</th>\n",
       "      <td>637387.250000</td>\n",
       "      <td>1.000000</td>\n",
       "      <td>5.000000</td>\n",
       "      <td>936.000000</td>\n",
       "      <td>3.000000</td>\n",
       "      <td>15.000000</td>\n",
       "      <td>18.000000</td>\n",
       "    </tr>\n",
       "    <tr>\n",
       "      <th>max</th>\n",
       "      <td>660737.000000</td>\n",
       "      <td>1.000000</td>\n",
       "      <td>251.000000</td>\n",
       "      <td>2272.000000</td>\n",
       "      <td>55.000000</td>\n",
       "      <td>18.000000</td>\n",
       "      <td>20.000000</td>\n",
       "    </tr>\n",
       "  </tbody>\n",
       "</table>\n",
       "</div>"
      ],
      "text/plain": [
       "         Lead Number    Converted  TotalVisits  Total Time Spent on Website  \\\n",
       "count    9240.000000  9240.000000  9103.000000                  9240.000000   \n",
       "mean   617188.435606     0.385390     3.445238                   487.698268   \n",
       "std     23405.995698     0.486714     4.854853                   548.021466   \n",
       "min    579533.000000     0.000000     0.000000                     0.000000   \n",
       "25%    596484.500000     0.000000     1.000000                    12.000000   \n",
       "50%    615479.000000     0.000000     3.000000                   248.000000   \n",
       "75%    637387.250000     1.000000     5.000000                   936.000000   \n",
       "max    660737.000000     1.000000   251.000000                  2272.000000   \n",
       "\n",
       "       Page Views Per Visit  Asymmetrique Activity Score  \\\n",
       "count           9103.000000                  5022.000000   \n",
       "mean               2.362820                    14.306252   \n",
       "std                2.161418                     1.386694   \n",
       "min                0.000000                     7.000000   \n",
       "25%                1.000000                    14.000000   \n",
       "50%                2.000000                    14.000000   \n",
       "75%                3.000000                    15.000000   \n",
       "max               55.000000                    18.000000   \n",
       "\n",
       "       Asymmetrique Profile Score  \n",
       "count                 5022.000000  \n",
       "mean                    16.344883  \n",
       "std                      1.811395  \n",
       "min                     11.000000  \n",
       "25%                     15.000000  \n",
       "50%                     16.000000  \n",
       "75%                     18.000000  \n",
       "max                     20.000000  "
      ]
     },
     "execution_count": 792,
     "metadata": {},
     "output_type": "execute_result"
    }
   ],
   "source": [
    "# Checking the statistical distribution of numerical features\n",
    "leads.describe()"
   ]
  },
  {
   "cell_type": "markdown",
   "id": "59828c17",
   "metadata": {},
   "source": [
    "**We also, have some numerical features which have few outliers. We will deal with them in the upcoming steps.**"
   ]
  },
  {
   "cell_type": "code",
   "execution_count": 793,
   "id": "628ea5f0",
   "metadata": {},
   "outputs": [
    {
     "data": {
      "text/html": [
       "<div>\n",
       "<style scoped>\n",
       "    .dataframe tbody tr th:only-of-type {\n",
       "        vertical-align: middle;\n",
       "    }\n",
       "\n",
       "    .dataframe tbody tr th {\n",
       "        vertical-align: top;\n",
       "    }\n",
       "\n",
       "    .dataframe thead th {\n",
       "        text-align: right;\n",
       "    }\n",
       "</style>\n",
       "<table border=\"1\" class=\"dataframe\">\n",
       "  <thead>\n",
       "    <tr style=\"text-align: right;\">\n",
       "      <th></th>\n",
       "      <th>Prospect ID</th>\n",
       "      <th>Lead Number</th>\n",
       "      <th>Lead Origin</th>\n",
       "      <th>Lead Source</th>\n",
       "      <th>Do Not Email</th>\n",
       "      <th>Do Not Call</th>\n",
       "      <th>Converted</th>\n",
       "      <th>TotalVisits</th>\n",
       "      <th>Total Time Spent on Website</th>\n",
       "      <th>Page Views Per Visit</th>\n",
       "      <th>...</th>\n",
       "      <th>Get updates on DM Content</th>\n",
       "      <th>Lead Profile</th>\n",
       "      <th>City</th>\n",
       "      <th>Asymmetrique Activity Index</th>\n",
       "      <th>Asymmetrique Profile Index</th>\n",
       "      <th>Asymmetrique Activity Score</th>\n",
       "      <th>Asymmetrique Profile Score</th>\n",
       "      <th>I agree to pay the amount through cheque</th>\n",
       "      <th>A free copy of Mastering The Interview</th>\n",
       "      <th>Last Notable Activity</th>\n",
       "    </tr>\n",
       "  </thead>\n",
       "  <tbody>\n",
       "    <tr>\n",
       "      <th>count</th>\n",
       "      <td>9240</td>\n",
       "      <td>9240.000000</td>\n",
       "      <td>9240</td>\n",
       "      <td>9204</td>\n",
       "      <td>9240</td>\n",
       "      <td>9240</td>\n",
       "      <td>9240.000000</td>\n",
       "      <td>9103.000000</td>\n",
       "      <td>9240.000000</td>\n",
       "      <td>9103.000000</td>\n",
       "      <td>...</td>\n",
       "      <td>9240</td>\n",
       "      <td>6531</td>\n",
       "      <td>7820</td>\n",
       "      <td>5022</td>\n",
       "      <td>5022</td>\n",
       "      <td>5022.000000</td>\n",
       "      <td>5022.000000</td>\n",
       "      <td>9240</td>\n",
       "      <td>9240</td>\n",
       "      <td>9240</td>\n",
       "    </tr>\n",
       "    <tr>\n",
       "      <th>unique</th>\n",
       "      <td>9240</td>\n",
       "      <td>NaN</td>\n",
       "      <td>5</td>\n",
       "      <td>21</td>\n",
       "      <td>2</td>\n",
       "      <td>2</td>\n",
       "      <td>NaN</td>\n",
       "      <td>NaN</td>\n",
       "      <td>NaN</td>\n",
       "      <td>NaN</td>\n",
       "      <td>...</td>\n",
       "      <td>1</td>\n",
       "      <td>6</td>\n",
       "      <td>7</td>\n",
       "      <td>3</td>\n",
       "      <td>3</td>\n",
       "      <td>NaN</td>\n",
       "      <td>NaN</td>\n",
       "      <td>1</td>\n",
       "      <td>2</td>\n",
       "      <td>16</td>\n",
       "    </tr>\n",
       "    <tr>\n",
       "      <th>top</th>\n",
       "      <td>7927b2df-8bba-4d29-b9a2-b6e0beafe620</td>\n",
       "      <td>NaN</td>\n",
       "      <td>Landing Page Submission</td>\n",
       "      <td>Google</td>\n",
       "      <td>No</td>\n",
       "      <td>No</td>\n",
       "      <td>NaN</td>\n",
       "      <td>NaN</td>\n",
       "      <td>NaN</td>\n",
       "      <td>NaN</td>\n",
       "      <td>...</td>\n",
       "      <td>No</td>\n",
       "      <td>Select</td>\n",
       "      <td>Mumbai</td>\n",
       "      <td>02.Medium</td>\n",
       "      <td>02.Medium</td>\n",
       "      <td>NaN</td>\n",
       "      <td>NaN</td>\n",
       "      <td>No</td>\n",
       "      <td>No</td>\n",
       "      <td>Modified</td>\n",
       "    </tr>\n",
       "    <tr>\n",
       "      <th>freq</th>\n",
       "      <td>1</td>\n",
       "      <td>NaN</td>\n",
       "      <td>4886</td>\n",
       "      <td>2868</td>\n",
       "      <td>8506</td>\n",
       "      <td>9238</td>\n",
       "      <td>NaN</td>\n",
       "      <td>NaN</td>\n",
       "      <td>NaN</td>\n",
       "      <td>NaN</td>\n",
       "      <td>...</td>\n",
       "      <td>9240</td>\n",
       "      <td>4146</td>\n",
       "      <td>3222</td>\n",
       "      <td>3839</td>\n",
       "      <td>2788</td>\n",
       "      <td>NaN</td>\n",
       "      <td>NaN</td>\n",
       "      <td>9240</td>\n",
       "      <td>6352</td>\n",
       "      <td>3407</td>\n",
       "    </tr>\n",
       "    <tr>\n",
       "      <th>mean</th>\n",
       "      <td>NaN</td>\n",
       "      <td>617188.435606</td>\n",
       "      <td>NaN</td>\n",
       "      <td>NaN</td>\n",
       "      <td>NaN</td>\n",
       "      <td>NaN</td>\n",
       "      <td>0.385390</td>\n",
       "      <td>3.445238</td>\n",
       "      <td>487.698268</td>\n",
       "      <td>2.362820</td>\n",
       "      <td>...</td>\n",
       "      <td>NaN</td>\n",
       "      <td>NaN</td>\n",
       "      <td>NaN</td>\n",
       "      <td>NaN</td>\n",
       "      <td>NaN</td>\n",
       "      <td>14.306252</td>\n",
       "      <td>16.344883</td>\n",
       "      <td>NaN</td>\n",
       "      <td>NaN</td>\n",
       "      <td>NaN</td>\n",
       "    </tr>\n",
       "    <tr>\n",
       "      <th>std</th>\n",
       "      <td>NaN</td>\n",
       "      <td>23405.995698</td>\n",
       "      <td>NaN</td>\n",
       "      <td>NaN</td>\n",
       "      <td>NaN</td>\n",
       "      <td>NaN</td>\n",
       "      <td>0.486714</td>\n",
       "      <td>4.854853</td>\n",
       "      <td>548.021466</td>\n",
       "      <td>2.161418</td>\n",
       "      <td>...</td>\n",
       "      <td>NaN</td>\n",
       "      <td>NaN</td>\n",
       "      <td>NaN</td>\n",
       "      <td>NaN</td>\n",
       "      <td>NaN</td>\n",
       "      <td>1.386694</td>\n",
       "      <td>1.811395</td>\n",
       "      <td>NaN</td>\n",
       "      <td>NaN</td>\n",
       "      <td>NaN</td>\n",
       "    </tr>\n",
       "    <tr>\n",
       "      <th>min</th>\n",
       "      <td>NaN</td>\n",
       "      <td>579533.000000</td>\n",
       "      <td>NaN</td>\n",
       "      <td>NaN</td>\n",
       "      <td>NaN</td>\n",
       "      <td>NaN</td>\n",
       "      <td>0.000000</td>\n",
       "      <td>0.000000</td>\n",
       "      <td>0.000000</td>\n",
       "      <td>0.000000</td>\n",
       "      <td>...</td>\n",
       "      <td>NaN</td>\n",
       "      <td>NaN</td>\n",
       "      <td>NaN</td>\n",
       "      <td>NaN</td>\n",
       "      <td>NaN</td>\n",
       "      <td>7.000000</td>\n",
       "      <td>11.000000</td>\n",
       "      <td>NaN</td>\n",
       "      <td>NaN</td>\n",
       "      <td>NaN</td>\n",
       "    </tr>\n",
       "    <tr>\n",
       "      <th>25%</th>\n",
       "      <td>NaN</td>\n",
       "      <td>596484.500000</td>\n",
       "      <td>NaN</td>\n",
       "      <td>NaN</td>\n",
       "      <td>NaN</td>\n",
       "      <td>NaN</td>\n",
       "      <td>0.000000</td>\n",
       "      <td>1.000000</td>\n",
       "      <td>12.000000</td>\n",
       "      <td>1.000000</td>\n",
       "      <td>...</td>\n",
       "      <td>NaN</td>\n",
       "      <td>NaN</td>\n",
       "      <td>NaN</td>\n",
       "      <td>NaN</td>\n",
       "      <td>NaN</td>\n",
       "      <td>14.000000</td>\n",
       "      <td>15.000000</td>\n",
       "      <td>NaN</td>\n",
       "      <td>NaN</td>\n",
       "      <td>NaN</td>\n",
       "    </tr>\n",
       "    <tr>\n",
       "      <th>50%</th>\n",
       "      <td>NaN</td>\n",
       "      <td>615479.000000</td>\n",
       "      <td>NaN</td>\n",
       "      <td>NaN</td>\n",
       "      <td>NaN</td>\n",
       "      <td>NaN</td>\n",
       "      <td>0.000000</td>\n",
       "      <td>3.000000</td>\n",
       "      <td>248.000000</td>\n",
       "      <td>2.000000</td>\n",
       "      <td>...</td>\n",
       "      <td>NaN</td>\n",
       "      <td>NaN</td>\n",
       "      <td>NaN</td>\n",
       "      <td>NaN</td>\n",
       "      <td>NaN</td>\n",
       "      <td>14.000000</td>\n",
       "      <td>16.000000</td>\n",
       "      <td>NaN</td>\n",
       "      <td>NaN</td>\n",
       "      <td>NaN</td>\n",
       "    </tr>\n",
       "    <tr>\n",
       "      <th>75%</th>\n",
       "      <td>NaN</td>\n",
       "      <td>637387.250000</td>\n",
       "      <td>NaN</td>\n",
       "      <td>NaN</td>\n",
       "      <td>NaN</td>\n",
       "      <td>NaN</td>\n",
       "      <td>1.000000</td>\n",
       "      <td>5.000000</td>\n",
       "      <td>936.000000</td>\n",
       "      <td>3.000000</td>\n",
       "      <td>...</td>\n",
       "      <td>NaN</td>\n",
       "      <td>NaN</td>\n",
       "      <td>NaN</td>\n",
       "      <td>NaN</td>\n",
       "      <td>NaN</td>\n",
       "      <td>15.000000</td>\n",
       "      <td>18.000000</td>\n",
       "      <td>NaN</td>\n",
       "      <td>NaN</td>\n",
       "      <td>NaN</td>\n",
       "    </tr>\n",
       "    <tr>\n",
       "      <th>max</th>\n",
       "      <td>NaN</td>\n",
       "      <td>660737.000000</td>\n",
       "      <td>NaN</td>\n",
       "      <td>NaN</td>\n",
       "      <td>NaN</td>\n",
       "      <td>NaN</td>\n",
       "      <td>1.000000</td>\n",
       "      <td>251.000000</td>\n",
       "      <td>2272.000000</td>\n",
       "      <td>55.000000</td>\n",
       "      <td>...</td>\n",
       "      <td>NaN</td>\n",
       "      <td>NaN</td>\n",
       "      <td>NaN</td>\n",
       "      <td>NaN</td>\n",
       "      <td>NaN</td>\n",
       "      <td>18.000000</td>\n",
       "      <td>20.000000</td>\n",
       "      <td>NaN</td>\n",
       "      <td>NaN</td>\n",
       "      <td>NaN</td>\n",
       "    </tr>\n",
       "  </tbody>\n",
       "</table>\n",
       "<p>11 rows × 37 columns</p>\n",
       "</div>"
      ],
      "text/plain": [
       "                                 Prospect ID    Lead Number  \\\n",
       "count                                   9240    9240.000000   \n",
       "unique                                  9240            NaN   \n",
       "top     7927b2df-8bba-4d29-b9a2-b6e0beafe620            NaN   \n",
       "freq                                       1            NaN   \n",
       "mean                                     NaN  617188.435606   \n",
       "std                                      NaN   23405.995698   \n",
       "min                                      NaN  579533.000000   \n",
       "25%                                      NaN  596484.500000   \n",
       "50%                                      NaN  615479.000000   \n",
       "75%                                      NaN  637387.250000   \n",
       "max                                      NaN  660737.000000   \n",
       "\n",
       "                    Lead Origin Lead Source Do Not Email Do Not Call  \\\n",
       "count                      9240        9204         9240        9240   \n",
       "unique                        5          21            2           2   \n",
       "top     Landing Page Submission      Google           No          No   \n",
       "freq                       4886        2868         8506        9238   \n",
       "mean                        NaN         NaN          NaN         NaN   \n",
       "std                         NaN         NaN          NaN         NaN   \n",
       "min                         NaN         NaN          NaN         NaN   \n",
       "25%                         NaN         NaN          NaN         NaN   \n",
       "50%                         NaN         NaN          NaN         NaN   \n",
       "75%                         NaN         NaN          NaN         NaN   \n",
       "max                         NaN         NaN          NaN         NaN   \n",
       "\n",
       "          Converted  TotalVisits  Total Time Spent on Website  \\\n",
       "count   9240.000000  9103.000000                  9240.000000   \n",
       "unique          NaN          NaN                          NaN   \n",
       "top             NaN          NaN                          NaN   \n",
       "freq            NaN          NaN                          NaN   \n",
       "mean       0.385390     3.445238                   487.698268   \n",
       "std        0.486714     4.854853                   548.021466   \n",
       "min        0.000000     0.000000                     0.000000   \n",
       "25%        0.000000     1.000000                    12.000000   \n",
       "50%        0.000000     3.000000                   248.000000   \n",
       "75%        1.000000     5.000000                   936.000000   \n",
       "max        1.000000   251.000000                  2272.000000   \n",
       "\n",
       "        Page Views Per Visit  ... Get updates on DM Content Lead Profile  \\\n",
       "count            9103.000000  ...                      9240         6531   \n",
       "unique                   NaN  ...                         1            6   \n",
       "top                      NaN  ...                        No       Select   \n",
       "freq                     NaN  ...                      9240         4146   \n",
       "mean                2.362820  ...                       NaN          NaN   \n",
       "std                 2.161418  ...                       NaN          NaN   \n",
       "min                 0.000000  ...                       NaN          NaN   \n",
       "25%                 1.000000  ...                       NaN          NaN   \n",
       "50%                 2.000000  ...                       NaN          NaN   \n",
       "75%                 3.000000  ...                       NaN          NaN   \n",
       "max                55.000000  ...                       NaN          NaN   \n",
       "\n",
       "          City Asymmetrique Activity Index Asymmetrique Profile Index  \\\n",
       "count     7820                        5022                       5022   \n",
       "unique       7                           3                          3   \n",
       "top     Mumbai                   02.Medium                  02.Medium   \n",
       "freq      3222                        3839                       2788   \n",
       "mean       NaN                         NaN                        NaN   \n",
       "std        NaN                         NaN                        NaN   \n",
       "min        NaN                         NaN                        NaN   \n",
       "25%        NaN                         NaN                        NaN   \n",
       "50%        NaN                         NaN                        NaN   \n",
       "75%        NaN                         NaN                        NaN   \n",
       "max        NaN                         NaN                        NaN   \n",
       "\n",
       "       Asymmetrique Activity Score Asymmetrique Profile Score  \\\n",
       "count                  5022.000000                5022.000000   \n",
       "unique                         NaN                        NaN   \n",
       "top                            NaN                        NaN   \n",
       "freq                           NaN                        NaN   \n",
       "mean                     14.306252                  16.344883   \n",
       "std                       1.386694                   1.811395   \n",
       "min                       7.000000                  11.000000   \n",
       "25%                      14.000000                  15.000000   \n",
       "50%                      14.000000                  16.000000   \n",
       "75%                      15.000000                  18.000000   \n",
       "max                      18.000000                  20.000000   \n",
       "\n",
       "       I agree to pay the amount through cheque  \\\n",
       "count                                      9240   \n",
       "unique                                        1   \n",
       "top                                          No   \n",
       "freq                                       9240   \n",
       "mean                                        NaN   \n",
       "std                                         NaN   \n",
       "min                                         NaN   \n",
       "25%                                         NaN   \n",
       "50%                                         NaN   \n",
       "75%                                         NaN   \n",
       "max                                         NaN   \n",
       "\n",
       "       A free copy of Mastering The Interview Last Notable Activity  \n",
       "count                                    9240                  9240  \n",
       "unique                                      2                    16  \n",
       "top                                        No              Modified  \n",
       "freq                                     6352                  3407  \n",
       "mean                                      NaN                   NaN  \n",
       "std                                       NaN                   NaN  \n",
       "min                                       NaN                   NaN  \n",
       "25%                                       NaN                   NaN  \n",
       "50%                                       NaN                   NaN  \n",
       "75%                                       NaN                   NaN  \n",
       "max                                       NaN                   NaN  \n",
       "\n",
       "[11 rows x 37 columns]"
      ]
     },
     "execution_count": 793,
     "metadata": {},
     "output_type": "execute_result"
    }
   ],
   "source": [
    "# Checking summary for all the 37 columns in the dataset\n",
    "leads.describe(include='all')"
   ]
  },
  {
   "cell_type": "code",
   "execution_count": 794,
   "id": "c41553bc",
   "metadata": {},
   "outputs": [
    {
     "data": {
      "text/plain": [
       "Lead Quality                                     51.59\n",
       "Asymmetrique Activity Index                      45.65\n",
       "Asymmetrique Profile Score                       45.65\n",
       "Asymmetrique Activity Score                      45.65\n",
       "Asymmetrique Profile Index                       45.65\n",
       "Tags                                             36.29\n",
       "Lead Profile                                     29.32\n",
       "What matters most to you in choosing a course    29.32\n",
       "What is your current occupation                  29.11\n",
       "Country                                          26.63\n",
       "How did you hear about X Education               23.89\n",
       "Specialization                                   15.56\n",
       "City                                             15.37\n",
       "Page Views Per Visit                              1.48\n",
       "TotalVisits                                       1.48\n",
       "Last Activity                                     1.11\n",
       "Lead Source                                       0.39\n",
       "Receive More Updates About Our Courses            0.00\n",
       "I agree to pay the amount through cheque          0.00\n",
       "Get updates on DM Content                         0.00\n",
       "Update me on Supply Chain Content                 0.00\n",
       "A free copy of Mastering The Interview            0.00\n",
       "Prospect ID                                       0.00\n",
       "Newspaper Article                                 0.00\n",
       "Through Recommendations                           0.00\n",
       "Digital Advertisement                             0.00\n",
       "Newspaper                                         0.00\n",
       "X Education Forums                                0.00\n",
       "Lead Number                                       0.00\n",
       "Magazine                                          0.00\n",
       "Search                                            0.00\n",
       "Total Time Spent on Website                       0.00\n",
       "Converted                                         0.00\n",
       "Do Not Call                                       0.00\n",
       "Do Not Email                                      0.00\n",
       "Lead Origin                                       0.00\n",
       "Last Notable Activity                             0.00\n",
       "dtype: float64"
      ]
     },
     "execution_count": 794,
     "metadata": {},
     "output_type": "execute_result"
    }
   ],
   "source": [
    "#Checking the % of null values in each column\n",
    "round(100*(leads.isnull().sum()/len(leads)), 2).sort_values(ascending=False)"
   ]
  },
  {
   "cell_type": "code",
   "execution_count": 795,
   "id": "43d74c78",
   "metadata": {},
   "outputs": [
    {
     "data": {
      "text/plain": [
       "0"
      ]
     },
     "execution_count": 795,
     "metadata": {},
     "output_type": "execute_result"
    }
   ],
   "source": [
    "#Checking for duplicates in the datatset\n",
    "#Using the DataFrame.duplicated().sum() method to return the count of boolean value 'True'\n",
    "bool_series = leads.duplicated().sum()\n",
    "bool_series"
   ]
  },
  {
   "cell_type": "markdown",
   "id": "1e4bd6e0",
   "metadata": {},
   "source": [
    "#### Insights :\n",
    "- There are total **9240 rows** and **37 columns**.\n",
    "- **\"Converted\"** is our **target variable**.\n",
    "- There are few **outliers present** in our dataset.\n",
    "- There are a **few columns** with **more than 30% of missing values**.\n",
    "- We have **no duplicated data** in our dataset."
   ]
  },
  {
   "cell_type": "markdown",
   "id": "ba4a7ff4",
   "metadata": {},
   "source": [
    "## Step-2 : Data Cleaning :"
   ]
  },
  {
   "cell_type": "code",
   "execution_count": 796,
   "id": "0494d146",
   "metadata": {},
   "outputs": [
    {
     "data": {
      "text/plain": [
       "Lead Quality                                     51.59\n",
       "Asymmetrique Activity Index                      45.65\n",
       "Asymmetrique Profile Score                       45.65\n",
       "Asymmetrique Activity Score                      45.65\n",
       "Asymmetrique Profile Index                       45.65\n",
       "Tags                                             36.29\n",
       "Lead Profile                                     29.32\n",
       "What matters most to you in choosing a course    29.32\n",
       "What is your current occupation                  29.11\n",
       "Country                                          26.63\n",
       "How did you hear about X Education               23.89\n",
       "Specialization                                   15.56\n",
       "City                                             15.37\n",
       "Page Views Per Visit                              1.48\n",
       "TotalVisits                                       1.48\n",
       "Last Activity                                     1.11\n",
       "Lead Source                                       0.39\n",
       "Receive More Updates About Our Courses            0.00\n",
       "I agree to pay the amount through cheque          0.00\n",
       "Get updates on DM Content                         0.00\n",
       "Update me on Supply Chain Content                 0.00\n",
       "A free copy of Mastering The Interview            0.00\n",
       "Prospect ID                                       0.00\n",
       "Newspaper Article                                 0.00\n",
       "Through Recommendations                           0.00\n",
       "Digital Advertisement                             0.00\n",
       "Newspaper                                         0.00\n",
       "X Education Forums                                0.00\n",
       "Lead Number                                       0.00\n",
       "Magazine                                          0.00\n",
       "Search                                            0.00\n",
       "Total Time Spent on Website                       0.00\n",
       "Converted                                         0.00\n",
       "Do Not Call                                       0.00\n",
       "Do Not Email                                      0.00\n",
       "Lead Origin                                       0.00\n",
       "Last Notable Activity                             0.00\n",
       "dtype: float64"
      ]
     },
     "execution_count": 796,
     "metadata": {},
     "output_type": "execute_result"
    }
   ],
   "source": [
    "#Let's look at the missing value percentage again\n",
    "#Checking the % of null values in each column\n",
    "round(100*(leads.isnull().sum()/len(leads)), 2).sort_values(ascending=False)"
   ]
  },
  {
   "cell_type": "markdown",
   "id": "155a10bf",
   "metadata": {},
   "source": [
    "- **The columns** : Asymmetrique Activity Index, Asymmetrique Profile Score, Asymmetrique Activity Score, Asymmetrique Profile Index, describe - **An index and score assigned to each customer based on their activity and their profile** which is **not an important factor** in our scenario. Also, each of them have around **46% of missing values**. Let's **drop these columns**.\n",
    "- The column **\"Lead Quality\"** has around **52% missing values** , and we cannot delete these data by row as we'll loose more than half of our records. So, It's better to **drop the column** itself.\n",
    "- The column **\"Tags\"** has **missing value around 36.29%**. The column's description says - \"Tags assigned to customers indicating the current status of the lead.\" which is **not an important factor** for us. So, let's **drop** this column as well.\n",
    "- The columns **Last Activity** and **Last Notable Activity** doesn't look important either. So, let's **drop them** as well."
   ]
  },
  {
   "cell_type": "code",
   "execution_count": 797,
   "id": "a07c2452",
   "metadata": {},
   "outputs": [
    {
     "data": {
      "text/plain": [
       "Index(['Prospect ID', 'Lead Number', 'Lead Origin', 'Lead Source',\n",
       "       'Do Not Email', 'Do Not Call', 'Converted', 'TotalVisits',\n",
       "       'Total Time Spent on Website', 'Page Views Per Visit', 'Last Activity',\n",
       "       'Country', 'Specialization', 'How did you hear about X Education',\n",
       "       'What is your current occupation',\n",
       "       'What matters most to you in choosing a course', 'Search', 'Magazine',\n",
       "       'Newspaper Article', 'X Education Forums', 'Newspaper',\n",
       "       'Digital Advertisement', 'Through Recommendations',\n",
       "       'Receive More Updates About Our Courses', 'Tags', 'Lead Quality',\n",
       "       'Update me on Supply Chain Content', 'Get updates on DM Content',\n",
       "       'Lead Profile', 'City', 'Asymmetrique Activity Index',\n",
       "       'Asymmetrique Profile Index', 'Asymmetrique Activity Score',\n",
       "       'Asymmetrique Profile Score',\n",
       "       'I agree to pay the amount through cheque',\n",
       "       'A free copy of Mastering The Interview', 'Last Notable Activity'],\n",
       "      dtype='object')"
      ]
     },
     "execution_count": 797,
     "metadata": {},
     "output_type": "execute_result"
    }
   ],
   "source": [
    "# Getting the name of columns\n",
    "leads.columns"
   ]
  },
  {
   "cell_type": "code",
   "execution_count": 798,
   "id": "fad29458",
   "metadata": {},
   "outputs": [],
   "source": [
    "# Dropping above mentioned columns\n",
    "leads.drop(['Lead Quality', 'Asymmetrique Activity Index', \n",
    "                      'Asymmetrique Profile Score', 'Asymmetrique Activity Score', 'Asymmetrique Profile Index',\n",
    "        'Tags', 'Last Activity'], \n",
    "        axis = 1, inplace = True)"
   ]
  },
  {
   "cell_type": "code",
   "execution_count": 799,
   "id": "59f09a70",
   "metadata": {},
   "outputs": [],
   "source": [
    "# Missed \"Last Notable Activity\" column, so let's drop that column separately\n",
    "#leads.drop(['Last Notable Activity'],axis = 1, inplace = True)"
   ]
  },
  {
   "cell_type": "code",
   "execution_count": 800,
   "id": "eafb97e8",
   "metadata": {},
   "outputs": [
    {
     "data": {
      "text/plain": [
       "(9240, 24)"
      ]
     },
     "execution_count": 800,
     "metadata": {},
     "output_type": "execute_result"
    }
   ],
   "source": [
    "# Dropping columns after going through data dictionary which don't have much of a role in our current goal.\n",
    "leads.drop(['Magazine','Receive More Updates About Our Courses','I agree to pay the amount through cheque',\n",
    "            'Get updates on DM Content','Update me on Supply Chain Content','A free copy of Mastering The Interview'], \n",
    "           axis = 1, inplace = True)\n",
    "leads.shape"
   ]
  },
  {
   "cell_type": "markdown",
   "id": "01d8259e",
   "metadata": {},
   "source": [
    "**Now, the shape of our dataset is 9240 rows and 23 columns after dropping 8 columns**.\n"
   ]
  },
  {
   "cell_type": "code",
   "execution_count": 801,
   "id": "b5e2c790",
   "metadata": {},
   "outputs": [
    {
     "data": {
      "text/plain": [
       "Lead Profile                                     29.32\n",
       "What matters most to you in choosing a course    29.32\n",
       "What is your current occupation                  29.11\n",
       "Country                                          26.63\n",
       "How did you hear about X Education               23.89\n",
       "Specialization                                   15.56\n",
       "City                                             15.37\n",
       "TotalVisits                                       1.48\n",
       "Page Views Per Visit                              1.48\n",
       "Lead Source                                       0.39\n",
       "Newspaper Article                                 0.00\n",
       "Through Recommendations                           0.00\n",
       "Digital Advertisement                             0.00\n",
       "Newspaper                                         0.00\n",
       "X Education Forums                                0.00\n",
       "Prospect ID                                       0.00\n",
       "Search                                            0.00\n",
       "Lead Number                                       0.00\n",
       "Total Time Spent on Website                       0.00\n",
       "Converted                                         0.00\n",
       "Do Not Call                                       0.00\n",
       "Do Not Email                                      0.00\n",
       "Lead Origin                                       0.00\n",
       "Last Notable Activity                             0.00\n",
       "dtype: float64"
      ]
     },
     "execution_count": 801,
     "metadata": {},
     "output_type": "execute_result"
    }
   ],
   "source": [
    "# Let's check the null count % again\n",
    "round(100*(leads.isnull().sum()/len(leads)), 2).sort_values(ascending=False)"
   ]
  },
  {
   "cell_type": "markdown",
   "id": "a0f44372",
   "metadata": {},
   "source": [
    "**There are still few columns which have missing values** . Let's look at them one by one and see what can we do about them."
   ]
  },
  {
   "cell_type": "code",
   "execution_count": 802,
   "id": "bb2e6222",
   "metadata": {},
   "outputs": [
    {
     "data": {
      "text/plain": [
       "Better Career Prospects      70.649351\n",
       "NaN                          29.318182\n",
       "Flexibility & Convenience     0.021645\n",
       "Other                         0.010823\n",
       "Name: What matters most to you in choosing a course, dtype: float64"
      ]
     },
     "execution_count": 802,
     "metadata": {},
     "output_type": "execute_result"
    }
   ],
   "source": [
    "# Let's start with \"What matters most to you in choosing a course\" column\n",
    "leads[\"What matters most to you in choosing a course\"].value_counts(normalize = True, dropna = False) * 100"
   ]
  },
  {
   "cell_type": "markdown",
   "id": "5b6e9ed4",
   "metadata": {},
   "source": [
    "**As we can see, Better career prospects + null values = approx 100% of the total column data**. Meaning, maximum of the leads are looking forward to improving their career prospect. Also, this column is nor relevant. It is looking safe to drop this column as well."
   ]
  },
  {
   "cell_type": "code",
   "execution_count": 803,
   "id": "014ed9b8",
   "metadata": {},
   "outputs": [],
   "source": [
    "leads.drop([\"What matters most to you in choosing a course\"], axis = 1, inplace = True)"
   ]
  },
  {
   "cell_type": "code",
   "execution_count": 804,
   "id": "9deda0e2",
   "metadata": {},
   "outputs": [
    {
     "data": {
      "text/plain": [
       "(9240, 23)"
      ]
     },
     "execution_count": 804,
     "metadata": {},
     "output_type": "execute_result"
    }
   ],
   "source": [
    "leads.shape"
   ]
  },
  {
   "cell_type": "markdown",
   "id": "888805c8",
   "metadata": {},
   "source": [
    "#### Let's look at the categorical columns with missing values one by one\n",
    "- We can first see there value counts.\n",
    "- Then, we can decide how to deal with them."
   ]
  },
  {
   "cell_type": "code",
   "execution_count": 806,
   "id": "d7249a86",
   "metadata": {},
   "outputs": [
    {
     "data": {
      "text/plain": [
       "Prospect ID                            object\n",
       "Lead Number                             int64\n",
       "Lead Origin                            object\n",
       "Lead Source                            object\n",
       "Do Not Email                           object\n",
       "Do Not Call                            object\n",
       "Converted                               int64\n",
       "TotalVisits                           float64\n",
       "Total Time Spent on Website             int64\n",
       "Page Views Per Visit                  float64\n",
       "Country                                object\n",
       "Specialization                         object\n",
       "How did you hear about X Education     object\n",
       "What is your current occupation        object\n",
       "Search                                 object\n",
       "Newspaper Article                      object\n",
       "X Education Forums                     object\n",
       "Newspaper                              object\n",
       "Digital Advertisement                  object\n",
       "Through Recommendations                object\n",
       "Lead Profile                           object\n",
       "City                                   object\n",
       "Last Notable Activity                  object\n",
       "dtype: object"
      ]
     },
     "execution_count": 806,
     "metadata": {},
     "output_type": "execute_result"
    }
   ],
   "source": [
    "# Let's look at the columns and their datatypes first\n",
    "leads.dtypes"
   ]
  },
  {
   "cell_type": "code",
   "execution_count": 807,
   "id": "e6357ab2",
   "metadata": {},
   "outputs": [
    {
     "data": {
      "text/plain": [
       "Lead Profile                          29.32\n",
       "What is your current occupation       29.11\n",
       "Country                               26.63\n",
       "How did you hear about X Education    23.89\n",
       "Specialization                        15.56\n",
       "City                                  15.37\n",
       "TotalVisits                            1.48\n",
       "Page Views Per Visit                   1.48\n",
       "Lead Source                            0.39\n",
       "Newspaper Article                      0.00\n",
       "Through Recommendations                0.00\n",
       "Digital Advertisement                  0.00\n",
       "Newspaper                              0.00\n",
       "X Education Forums                     0.00\n",
       "Prospect ID                            0.00\n",
       "Search                                 0.00\n",
       "Lead Number                            0.00\n",
       "Total Time Spent on Website            0.00\n",
       "Converted                              0.00\n",
       "Do Not Call                            0.00\n",
       "Do Not Email                           0.00\n",
       "Lead Origin                            0.00\n",
       "Last Notable Activity                  0.00\n",
       "dtype: float64"
      ]
     },
     "execution_count": 807,
     "metadata": {},
     "output_type": "execute_result"
    }
   ],
   "source": [
    "# Let's check the null count % again\n",
    "round(100*(leads.isnull().sum()/len(leads)), 2).sort_values(ascending=False)"
   ]
  },
  {
   "cell_type": "code",
   "execution_count": 808,
   "id": "edbc24c2",
   "metadata": {},
   "outputs": [
    {
     "data": {
      "text/plain": [
       "Select                         44.870130\n",
       "NaN                            29.318182\n",
       "Potential Lead                 17.456710\n",
       "Other Leads                     5.270563\n",
       "Student of SomeSchool           2.608225\n",
       "Lateral Student                 0.259740\n",
       "Dual Specialization Student     0.216450\n",
       "Name: Lead Profile, dtype: float64"
      ]
     },
     "execution_count": 808,
     "metadata": {},
     "output_type": "execute_result"
    }
   ],
   "source": [
    "# Value Count for column 'Lead Profile'\n",
    "leads[\"Lead Profile\"].value_counts(normalize = True, dropna = False) * 100"
   ]
  },
  {
   "cell_type": "markdown",
   "id": "212d6967",
   "metadata": {},
   "source": [
    "- We can see Maximum of the records are left with 'Select' or have missing values.\n",
    "- 'Select' level meaning the none of the options were chosen.\n",
    "- 'Select' is as good as 'NaN'.\n",
    "- We can fill all the 'Select' values with 'NaN'"
   ]
  },
  {
   "cell_type": "code",
   "execution_count": 809,
   "id": "53543021",
   "metadata": {},
   "outputs": [],
   "source": [
    "# Let's convert all the 'Select' into NaN\n",
    "leads = leads.replace('Select', np.nan)"
   ]
  },
  {
   "cell_type": "code",
   "execution_count": 810,
   "id": "1e3339c4",
   "metadata": {},
   "outputs": [
    {
     "data": {
      "text/plain": [
       "NaN                            74.188312\n",
       "Potential Lead                 17.456710\n",
       "Other Leads                     5.270563\n",
       "Student of SomeSchool           2.608225\n",
       "Lateral Student                 0.259740\n",
       "Dual Specialization Student     0.216450\n",
       "Name: Lead Profile, dtype: float64"
      ]
     },
     "execution_count": 810,
     "metadata": {},
     "output_type": "execute_result"
    }
   ],
   "source": [
    "# Let's check Value Count for column 'Lead Profile' again!\n",
    "leads[\"Lead Profile\"].value_counts(normalize = True, dropna = False) * 100"
   ]
  },
  {
   "cell_type": "markdown",
   "id": "f0bddae4",
   "metadata": {},
   "source": [
    "- So, the missing value % is around 75%. This column is of no use to us with that much of missing values.\n",
    "- Let's drop this column as well.|\n"
   ]
  },
  {
   "cell_type": "code",
   "execution_count": 811,
   "id": "c7970fd5",
   "metadata": {},
   "outputs": [],
   "source": [
    "# Dropping 'Lead Profile'\n",
    "leads.drop([\"Lead Profile\"], axis = 1, inplace = True)"
   ]
  },
  {
   "cell_type": "code",
   "execution_count": 812,
   "id": "2675fcab",
   "metadata": {},
   "outputs": [
    {
     "data": {
      "text/plain": [
       "How did you hear about X Education    78.46\n",
       "City                                  39.71\n",
       "Specialization                        36.58\n",
       "What is your current occupation       29.11\n",
       "Country                               26.63\n",
       "TotalVisits                            1.48\n",
       "Page Views Per Visit                   1.48\n",
       "Lead Source                            0.39\n",
       "Search                                 0.00\n",
       "Through Recommendations                0.00\n",
       "Digital Advertisement                  0.00\n",
       "Newspaper                              0.00\n",
       "X Education Forums                     0.00\n",
       "Newspaper Article                      0.00\n",
       "Prospect ID                            0.00\n",
       "Lead Number                            0.00\n",
       "Total Time Spent on Website            0.00\n",
       "Converted                              0.00\n",
       "Do Not Call                            0.00\n",
       "Do Not Email                           0.00\n",
       "Lead Origin                            0.00\n",
       "Last Notable Activity                  0.00\n",
       "dtype: float64"
      ]
     },
     "execution_count": 812,
     "metadata": {},
     "output_type": "execute_result"
    }
   ],
   "source": [
    "# Let's check the null count % again\n",
    "round(100*(leads.isnull().sum()/len(leads)), 2).sort_values(ascending=False)"
   ]
  },
  {
   "cell_type": "code",
   "execution_count": 813,
   "id": "14a822a4",
   "metadata": {},
   "outputs": [],
   "source": [
    "# Let's drop 'How did you hear about X Education' column with 78.5% missing values\n",
    "leads.drop([\"How did you hear about X Education\"], axis = 1, inplace = True)"
   ]
  },
  {
   "cell_type": "markdown",
   "id": "600753d6",
   "metadata": {},
   "source": [
    " **Let's drop Prospect ID and Lead Number as well , because they don't have any relevance here.**"
   ]
  },
  {
   "cell_type": "code",
   "execution_count": 814,
   "id": "7e9ae934",
   "metadata": {},
   "outputs": [],
   "source": [
    "leads.drop([\"Prospect ID\",\"Lead Number\"], axis = 1, inplace = True)"
   ]
  },
  {
   "cell_type": "code",
   "execution_count": 815,
   "id": "9d9841f0",
   "metadata": {},
   "outputs": [
    {
     "data": {
      "text/plain": [
       "Unemployed              60.606061\n",
       "NaN                     29.112554\n",
       "Working Professional     7.640693\n",
       "Student                  2.272727\n",
       "Other                    0.173160\n",
       "Housewife                0.108225\n",
       "Businessman              0.086580\n",
       "Name: What is your current occupation, dtype: float64"
      ]
     },
     "execution_count": 815,
     "metadata": {},
     "output_type": "execute_result"
    }
   ],
   "source": [
    "# Value Count for column 'What is your current occupation'\n",
    "leads[\"What is your current occupation\"].value_counts(normalize = True, dropna = False) * 100"
   ]
  },
  {
   "cell_type": "markdown",
   "id": "4dcbe1ff",
   "metadata": {},
   "source": [
    "- We can see most of the leads are 'Unemployed'\n",
    "- There are around 30% 'Nan' values.\n",
    "- Here, we can combine the minor categories into one category"
   ]
  },
  {
   "cell_type": "code",
   "execution_count": 816,
   "id": "0d1b125f",
   "metadata": {},
   "outputs": [],
   "source": [
    "# Let's rename the column first for our convenience\n",
    "leads.rename(columns = {'What is your current occupation':'occupation'}, inplace = True)"
   ]
  },
  {
   "cell_type": "code",
   "execution_count": 817,
   "id": "ce1767c0",
   "metadata": {},
   "outputs": [
    {
     "data": {
      "text/plain": [
       "Unemployed              85.496183\n",
       "Working Professional    10.778626\n",
       "Student and Others       3.725191\n",
       "Name: occupation, dtype: float64"
      ]
     },
     "execution_count": 817,
     "metadata": {},
     "output_type": "execute_result"
    }
   ],
   "source": [
    "# combine low representing categories\n",
    "leads.loc[(leads.occupation == 'Student') | (leads.occupation == 'Other') | (leads.occupation == 'Housewife') | \n",
    "       (leads.occupation == 'Businessman') , 'occupation'] = 'Student and Others'\n",
    "# Let's check the Value Count for column 'What is your current occupation' again \n",
    "leads[\"occupation\"].value_counts(normalize = True) * 100"
   ]
  },
  {
   "cell_type": "code",
   "execution_count": 818,
   "id": "87f33961",
   "metadata": {},
   "outputs": [],
   "source": [
    "# Let's impute the NaN values proportionately\n",
    "leads['occupation'] = leads.occupation.fillna(pd.Series(np.random.choice(['Unemployed', 'Working Professional', \n",
    "                                                                    'Student and Others'], \n",
    "                                                                   p = [0.8550, 0.1078, 0.0372], size = len(leads))))"
   ]
  },
  {
   "cell_type": "code",
   "execution_count": 819,
   "id": "174447e8",
   "metadata": {},
   "outputs": [
    {
     "data": {
      "text/plain": [
       "India                   70.259740\n",
       "NaN                     26.634199\n",
       "United States            0.746753\n",
       "United Arab Emirates     0.573593\n",
       "Singapore                0.259740\n",
       "Saudi Arabia             0.227273\n",
       "United Kingdom           0.162338\n",
       "Australia                0.140693\n",
       "Qatar                    0.108225\n",
       "Bahrain                  0.075758\n",
       "Hong Kong                0.075758\n",
       "Oman                     0.064935\n",
       "France                   0.064935\n",
       "unknown                  0.054113\n",
       "Kuwait                   0.043290\n",
       "South Africa             0.043290\n",
       "Canada                   0.043290\n",
       "Nigeria                  0.043290\n",
       "Germany                  0.043290\n",
       "Sweden                   0.032468\n",
       "Philippines              0.021645\n",
       "Uganda                   0.021645\n",
       "Italy                    0.021645\n",
       "Bangladesh               0.021645\n",
       "Netherlands              0.021645\n",
       "Asia/Pacific Region      0.021645\n",
       "China                    0.021645\n",
       "Belgium                  0.021645\n",
       "Ghana                    0.021645\n",
       "Kenya                    0.010823\n",
       "Sri Lanka                0.010823\n",
       "Tanzania                 0.010823\n",
       "Malaysia                 0.010823\n",
       "Liberia                  0.010823\n",
       "Switzerland              0.010823\n",
       "Denmark                  0.010823\n",
       "Russia                   0.010823\n",
       "Vietnam                  0.010823\n",
       "Indonesia                0.010823\n",
       "Name: Country, dtype: float64"
      ]
     },
     "execution_count": 819,
     "metadata": {},
     "output_type": "execute_result"
    }
   ],
   "source": [
    "# Value Count for column 'Country'\n",
    "leads[\"Country\"].value_counts(normalize = True, dropna = False) * 100"
   ]
  },
  {
   "cell_type": "markdown",
   "id": "c338369a",
   "metadata": {},
   "source": [
    "- 70% of records have value as 'India' and 'NaN' values are around 27%"
   ]
  },
  {
   "cell_type": "code",
   "execution_count": 820,
   "id": "79e60c5d",
   "metadata": {},
   "outputs": [],
   "source": [
    "# We can drop this column as it doesn't seem that important and highest\n",
    "leads.drop([\"Country\"], axis = 1, inplace = True)"
   ]
  },
  {
   "cell_type": "code",
   "execution_count": 821,
   "id": "d990b468",
   "metadata": {},
   "outputs": [
    {
     "data": {
      "text/plain": [
       "NaN                                  36.580087\n",
       "Finance Management                   10.562771\n",
       "Human Resource Management             9.177489\n",
       "Marketing Management                  9.069264\n",
       "Operations Management                 5.443723\n",
       "Business Administration               4.361472\n",
       "IT Projects Management                3.961039\n",
       "Supply Chain Management               3.777056\n",
       "Banking, Investment And Insurance     3.658009\n",
       "Travel and Tourism                    2.196970\n",
       "Media and Advertising                 2.196970\n",
       "International Business                1.926407\n",
       "Healthcare Management                 1.720779\n",
       "Hospitality Management                1.233766\n",
       "E-COMMERCE                            1.212121\n",
       "Retail Management                     1.082251\n",
       "Rural and Agribusiness                0.790043\n",
       "E-Business                            0.616883\n",
       "Services Excellence                   0.432900\n",
       "Name: Specialization, dtype: float64"
      ]
     },
     "execution_count": 821,
     "metadata": {},
     "output_type": "execute_result"
    }
   ],
   "source": [
    "# Value Count for column 'Specialization'\n",
    "leads[\"Specialization\"].value_counts(normalize = True, dropna = False) * 100"
   ]
  },
  {
   "cell_type": "markdown",
   "id": "19084bf9",
   "metadata": {},
   "source": [
    "- Here as well, We have maximum number of data as 'Nan'\n",
    "- We can see a few management courses, a few business related courses and a few other industry courses.\n",
    "- We can combine them into 3 different categories first, then we can impute values to 'NaN'"
   ]
  },
  {
   "cell_type": "code",
   "execution_count": 822,
   "id": "f031b86c",
   "metadata": {},
   "outputs": [
    {
     "data": {
      "text/plain": [
       "Management Specializations    72.576792\n",
       "Industry Specializations      15.290102\n",
       "Business Specializations      12.133106\n",
       "Name: Specialization, dtype: float64"
      ]
     },
     "execution_count": 822,
     "metadata": {},
     "output_type": "execute_result"
    }
   ],
   "source": [
    "# let's categorize all management courses as 'Management Specialization'\n",
    "leads.loc[(leads.Specialization == 'Finance Management') | (leads.Specialization == 'Human Resource Management') | \n",
    "       (leads.Specialization == 'Marketing Management') |  (leads.Specialization == 'Operations Management') |\n",
    "       (leads.Specialization == 'IT Projects Management') | (leads.Specialization == 'Supply Chain Management') |\n",
    "       (leads.Specialization == 'Healthcare Management') | (leads.Specialization == 'Hospitality Management') |\n",
    "       (leads.Specialization == 'Retail Management') , 'Specialization'] = 'Management Specializations'\n",
    "\n",
    "# let's categorize all busines courses as 'Business Specialization'\n",
    "leads.loc[(leads.Specialization == 'Business Administration') | (leads.Specialization == 'International Business') | \n",
    "       (leads.Specialization == 'Rural and Agribusiness') | (leads.Specialization == 'E-Business') \n",
    "        , 'Specialization'] = 'Business Specializations'\n",
    "\n",
    "# let's categorize all industry courses as 'Industry Specialization'\n",
    "leads.loc[(leads.Specialization == 'Banking, Investment And Insurance') | (leads.Specialization == 'Media and Advertising') |\n",
    "       (leads.Specialization == 'Travel and Tourism') | (leads.Specialization == 'Services Excellence') |\n",
    "       (leads.Specialization == 'E-COMMERCE'), 'Specialization'] = 'Industry Specializations'\n",
    "\n",
    "# Let's see the Value Count for column 'Specialization' again !\n",
    "leads[\"Specialization\"].value_counts(normalize = True) * 100"
   ]
  },
  {
   "cell_type": "code",
   "execution_count": 823,
   "id": "6978b74a",
   "metadata": {},
   "outputs": [],
   "source": [
    "# Let's impute NaN values proportionately\n",
    "leads['Specialization'] = leads.Specialization.fillna(pd.Series(np.random.choice(['Management Specializations',  \n",
    "                                                    'Business Specializations', 'Industry Specializations'], \n",
    "                                                                   p = [0.7258, 0.1213, 0.1529 ], size = len(leads))))\n"
   ]
  },
  {
   "cell_type": "code",
   "execution_count": 824,
   "id": "b1575afa",
   "metadata": {},
   "outputs": [
    {
     "data": {
      "text/plain": [
       "Management Specializations    72.770563\n",
       "Industry Specializations      15.216450\n",
       "Business Specializations      12.012987\n",
       "Name: Specialization, dtype: float64"
      ]
     },
     "execution_count": 824,
     "metadata": {},
     "output_type": "execute_result"
    }
   ],
   "source": [
    "# Let's see the Value Count for column 'Specialization' again !\n",
    "leads[\"Specialization\"].value_counts(normalize = True) * 100"
   ]
  },
  {
   "cell_type": "code",
   "execution_count": 825,
   "id": "019aabd1",
   "metadata": {},
   "outputs": [
    {
     "data": {
      "text/plain": [
       "NaN                            39.707792\n",
       "Mumbai                         34.870130\n",
       "Thane & Outskirts               8.138528\n",
       "Other Cities                    7.424242\n",
       "Other Cities of Maharashtra     4.945887\n",
       "Other Metro Cities              4.112554\n",
       "Tier II Cities                  0.800866\n",
       "Name: City, dtype: float64"
      ]
     },
     "execution_count": 825,
     "metadata": {},
     "output_type": "execute_result"
    }
   ],
   "source": [
    "# Value Count for column 'City'\n",
    "leads[\"City\"].value_counts(normalize = True, dropna = False) * 100"
   ]
  },
  {
   "cell_type": "markdown",
   "id": "8433763b",
   "metadata": {},
   "source": [
    "- There are a few categories we can see here. Mumbai, Thane and Outskirts(which is in Maharashtra), Other cities of Maharashtra, other cities, other metro cities, Tire II cities.\n",
    "- We can categorize all of these into three categories. one Mumbai, second Non Mumbai Maharshtra cities and third, Non Maharshtra cities."
   ]
  },
  {
   "cell_type": "code",
   "execution_count": 826,
   "id": "42dd1226",
   "metadata": {},
   "outputs": [],
   "source": [
    "# categorize all non-mumbai, but Maharashtra cities\n",
    "leads.loc[(leads.City == 'Thane & Outskirts') | (leads.City == 'Other Cities of Maharashtra'), \n",
    "       'City'] = 'Non-Mumbai Maharashtra Cities'\n",
    "\n",
    "# categorize all other cities\n",
    "leads.loc[(leads.City == 'Other Cities') | (leads.City == 'Other Metro Cities') | (leads.City == 'Tier II Cities') , \n",
    "       'City'] = 'Non-Maharashtra Cities'"
   ]
  },
  {
   "cell_type": "code",
   "execution_count": 827,
   "id": "87edd81d",
   "metadata": {},
   "outputs": [
    {
     "data": {
      "text/plain": [
       "Mumbai                           57.835218\n",
       "Non-Mumbai Maharashtra Cities    21.701669\n",
       "Non-Maharashtra Cities           20.463113\n",
       "Name: City, dtype: float64"
      ]
     },
     "execution_count": 827,
     "metadata": {},
     "output_type": "execute_result"
    }
   ],
   "source": [
    "# Let's see the value counts again !\n",
    "leads[\"City\"].value_counts(normalize = True) * 100"
   ]
  },
  {
   "cell_type": "code",
   "execution_count": 828,
   "id": "10c35de2",
   "metadata": {},
   "outputs": [],
   "source": [
    "# Let's impute the 'NaN' values using random choice\n",
    "leads['City'] = leads.City.fillna(pd.Series(np.random.choice(['Mumbai',  \n",
    "                                                    'Non-Mumbai Maharashtra Cities', 'Non-Maharashtra Cities'], \n",
    "                                                                   p = [0.5784, 0.2170, 0.2046 ], size = len(leads))))"
   ]
  },
  {
   "cell_type": "code",
   "execution_count": 829,
   "id": "26ce4413",
   "metadata": {},
   "outputs": [
    {
     "data": {
      "text/plain": [
       "Google               31.038961\n",
       "Direct Traffic       27.521645\n",
       "Olark Chat           18.993506\n",
       "Organic Search       12.489177\n",
       "Reference             5.779221\n",
       "Welingak Website      1.536797\n",
       "Referral Sites        1.352814\n",
       "Facebook              0.595238\n",
       "NaN                   0.389610\n",
       "bing                  0.064935\n",
       "google                0.054113\n",
       "Click2call            0.043290\n",
       "Press_Release         0.021645\n",
       "Social Media          0.021645\n",
       "Live Chat             0.021645\n",
       "youtubechannel        0.010823\n",
       "testone               0.010823\n",
       "Pay per Click Ads     0.010823\n",
       "welearnblog_Home      0.010823\n",
       "WeLearn               0.010823\n",
       "blog                  0.010823\n",
       "NC_EDM                0.010823\n",
       "Name: Lead Source, dtype: float64"
      ]
     },
     "execution_count": 829,
     "metadata": {},
     "output_type": "execute_result"
    }
   ],
   "source": [
    "# Value Count for column 'Lead Source'\n",
    "leads[\"Lead Source\"].value_counts(normalize = True, dropna = False) * 100"
   ]
  },
  {
   "cell_type": "markdown",
   "id": "d75c6a2f",
   "metadata": {},
   "source": [
    "- The column looks kind of clean with only 0.3% of 'NaN' values\n",
    "- We can drop the rows with NaN values as the count is very low."
   ]
  },
  {
   "cell_type": "code",
   "execution_count": 830,
   "id": "1beb312f",
   "metadata": {},
   "outputs": [],
   "source": [
    "# Dropping the null value rows in the column 'Lead Source'\n",
    "\n",
    "leads = leads[~pd.isnull(leads['Lead Source'])]"
   ]
  },
  {
   "cell_type": "code",
   "execution_count": 831,
   "id": "538724ba",
   "metadata": {},
   "outputs": [
    {
     "data": {
      "text/plain": [
       "TotalVisits                    1.41\n",
       "Page Views Per Visit           1.41\n",
       "Lead Origin                    0.00\n",
       "Search                         0.00\n",
       "City                           0.00\n",
       "Through Recommendations        0.00\n",
       "Digital Advertisement          0.00\n",
       "Newspaper                      0.00\n",
       "X Education Forums             0.00\n",
       "Newspaper Article              0.00\n",
       "occupation                     0.00\n",
       "Lead Source                    0.00\n",
       "Specialization                 0.00\n",
       "Total Time Spent on Website    0.00\n",
       "Converted                      0.00\n",
       "Do Not Call                    0.00\n",
       "Do Not Email                   0.00\n",
       "Last Notable Activity          0.00\n",
       "dtype: float64"
      ]
     },
     "execution_count": 831,
     "metadata": {},
     "output_type": "execute_result"
    }
   ],
   "source": [
    "# Let's see the null value counts again and see if we left something\n",
    "round(100*(leads.isnull().sum()/len(leads)), 2).sort_values(ascending=False)"
   ]
  },
  {
   "cell_type": "code",
   "execution_count": 832,
   "id": "b0e8a1e2",
   "metadata": {},
   "outputs": [],
   "source": [
    "# Dropping the null value rows in the column 'Total Visits' as the percentage is too low here too\n",
    "leads = leads[~pd.isnull(leads['TotalVisits'])]"
   ]
  },
  {
   "cell_type": "code",
   "execution_count": 833,
   "id": "f0ab27e8",
   "metadata": {},
   "outputs": [
    {
     "data": {
      "text/plain": [
       "Modified                        3267\n",
       "Email Opened                    2823\n",
       "SMS Sent                        2152\n",
       "Page Visited on Website          318\n",
       "Olark Chat Conversation          183\n",
       "Email Link Clicked               173\n",
       "Email Bounced                     60\n",
       "Unsubscribed                      45\n",
       "Unreachable                       32\n",
       "Had a Phone Conversation          14\n",
       "Email Marked Spam                  2\n",
       "Approached upfront                 1\n",
       "Resubscribed to emails             1\n",
       "View in browser link Clicked       1\n",
       "Form Submitted on Website          1\n",
       "Email Received                     1\n",
       "Name: Last Notable Activity, dtype: int64"
      ]
     },
     "execution_count": 833,
     "metadata": {},
     "output_type": "execute_result"
    }
   ],
   "source": [
    "#checking value counts of last Notable Activity\n",
    "leads['Last Notable Activity'].value_counts()"
   ]
  },
  {
   "cell_type": "code",
   "execution_count": 834,
   "id": "9702fd2e",
   "metadata": {},
   "outputs": [
    {
     "data": {
      "text/plain": [
       "Modified                   3267\n",
       "Email Opened               2823\n",
       "SMS Sent                   2152\n",
       "Page Visited on Website     318\n",
       "Olark Chat Conversation     183\n",
       "Email Link Clicked          173\n",
       "Other Activities            158\n",
       "Name: Last Notable Activity, dtype: int64"
      ]
     },
     "execution_count": 834,
     "metadata": {},
     "output_type": "execute_result"
    }
   ],
   "source": [
    "# categorize all other cities\n",
    "leads.loc[(leads['Last Notable Activity'] == 'Email Bounced') | (leads['Last Notable Activity'] == 'Unsubscribed') | (leads['Last Notable Activity'] == 'Unreachable') | (leads['Last Notable Activity'] == 'Had a Phone Conversation')\n",
    "          |(leads['Last Notable Activity'] == 'Email Marked Spam') | (leads['Last Notable Activity'] == 'Approached upfront')| (leads['Last Notable Activity'] == 'Resubscribed to emails')| (leads['Last Notable Activity'] == 'View in browser link Clicked')\n",
    "          | (leads['Last Notable Activity'] == 'Form Submitted on Website') | (leads['Last Notable Activity'] == 'Email Received'), \n",
    "       'Last Notable Activity'] = 'Other Activities'\n",
    "#checking value counts of last Notable Activity\n",
    "leads['Last Notable Activity'].value_counts()"
   ]
  },
  {
   "cell_type": "markdown",
   "id": "d8152501",
   "metadata": {},
   "source": [
    " **Let's check a few other categorical columns and their value counts**"
   ]
  },
  {
   "cell_type": "code",
   "execution_count": 835,
   "id": "1c99c5c6",
   "metadata": {},
   "outputs": [
    {
     "data": {
      "text/plain": [
       "No     9072\n",
       "Yes       2\n",
       "Name: Do Not Call, dtype: int64"
      ]
     },
     "execution_count": 835,
     "metadata": {},
     "output_type": "execute_result"
    }
   ],
   "source": [
    "# Value counts for 'Do Not Call' column\n",
    "leads[\"Do Not Call\"].value_counts()"
   ]
  },
  {
   "cell_type": "code",
   "execution_count": 836,
   "id": "c443a79b",
   "metadata": {},
   "outputs": [
    {
     "data": {
      "text/plain": [
       "No     8358\n",
       "Yes     716\n",
       "Name: Do Not Email, dtype: int64"
      ]
     },
     "execution_count": 836,
     "metadata": {},
     "output_type": "execute_result"
    }
   ],
   "source": [
    "# Value counts for 'Do Not Email' column\n",
    "leads[\"Do Not Email\"].value_counts()"
   ]
  },
  {
   "cell_type": "code",
   "execution_count": 837,
   "id": "5f567a93",
   "metadata": {},
   "outputs": [
    {
     "data": {
      "text/plain": [
       "No     9060\n",
       "Yes      14\n",
       "Name: Search, dtype: int64"
      ]
     },
     "execution_count": 837,
     "metadata": {},
     "output_type": "execute_result"
    }
   ],
   "source": [
    "# Value counts for 'Search' column\n",
    "leads.Search.value_counts()"
   ]
  },
  {
   "cell_type": "code",
   "execution_count": 838,
   "id": "f21e7521",
   "metadata": {},
   "outputs": [
    {
     "data": {
      "text/plain": [
       "No     9072\n",
       "Yes       2\n",
       "Name: Newspaper Article, dtype: int64"
      ]
     },
     "execution_count": 838,
     "metadata": {},
     "output_type": "execute_result"
    }
   ],
   "source": [
    "# Value counts for 'Newspaper Article' column\n",
    "leads[\"Newspaper Article\"].value_counts()"
   ]
  },
  {
   "cell_type": "code",
   "execution_count": 839,
   "id": "25beb469",
   "metadata": {},
   "outputs": [
    {
     "data": {
      "text/plain": [
       "No     9073\n",
       "Yes       1\n",
       "Name: X Education Forums, dtype: int64"
      ]
     },
     "execution_count": 839,
     "metadata": {},
     "output_type": "execute_result"
    }
   ],
   "source": [
    "# Value counts for 'X Education Forums' column\n",
    "leads['X Education Forums'].value_counts()"
   ]
  },
  {
   "cell_type": "code",
   "execution_count": 840,
   "id": "14c314a6",
   "metadata": {},
   "outputs": [
    {
     "data": {
      "text/plain": [
       "No     9073\n",
       "Yes       1\n",
       "Name: Newspaper, dtype: int64"
      ]
     },
     "execution_count": 840,
     "metadata": {},
     "output_type": "execute_result"
    }
   ],
   "source": [
    "# Value counts for 'Newspaper' column\n",
    "leads['Newspaper'].value_counts()"
   ]
  },
  {
   "cell_type": "code",
   "execution_count": 841,
   "id": "b26ebfb8",
   "metadata": {},
   "outputs": [
    {
     "data": {
      "text/plain": [
       "No     9070\n",
       "Yes       4\n",
       "Name: Digital Advertisement, dtype: int64"
      ]
     },
     "execution_count": 841,
     "metadata": {},
     "output_type": "execute_result"
    }
   ],
   "source": [
    "# Value counts for 'Digital Advertisement' column\n",
    "leads['Digital Advertisement'].value_counts()"
   ]
  },
  {
   "cell_type": "code",
   "execution_count": 842,
   "id": "cff9a11b",
   "metadata": {},
   "outputs": [
    {
     "data": {
      "text/plain": [
       "No     9067\n",
       "Yes       7\n",
       "Name: Through Recommendations, dtype: int64"
      ]
     },
     "execution_count": 842,
     "metadata": {},
     "output_type": "execute_result"
    }
   ],
   "source": [
    "# Value counts for 'Through Recommendations' column\n",
    "leads['Through Recommendations'].value_counts()"
   ]
  },
  {
   "cell_type": "markdown",
   "id": "385cf9d5",
   "metadata": {},
   "source": [
    "#### Insights :\n",
    "\n",
    "- The above 8 columns have two categories only , Yes/No.\n",
    "- And among those two, in almost all of the columns the category level has value count more than 85% as 'No'\n",
    "- And these columns serve no purpose in our goal.\n",
    "- So, We can safely remove these column"
   ]
  },
  {
   "cell_type": "code",
   "execution_count": 843,
   "id": "35837133",
   "metadata": {},
   "outputs": [],
   "source": [
    "leads.drop([\"Do Not Call\", \"Do Not Email\",\"Search\",\"Through Recommendations\",\"Digital Advertisement\",\"Newspaper\",\"X Education Forums\",\"Newspaper Article\"], axis = 1, inplace = True)"
   ]
  },
  {
   "cell_type": "code",
   "execution_count": 844,
   "id": "46b7e825",
   "metadata": {},
   "outputs": [
    {
     "data": {
      "text/plain": [
       "Lead Origin                    0.0\n",
       "Lead Source                    0.0\n",
       "Converted                      0.0\n",
       "TotalVisits                    0.0\n",
       "Total Time Spent on Website    0.0\n",
       "Page Views Per Visit           0.0\n",
       "Specialization                 0.0\n",
       "occupation                     0.0\n",
       "City                           0.0\n",
       "Last Notable Activity          0.0\n",
       "dtype: float64"
      ]
     },
     "execution_count": 844,
     "metadata": {},
     "output_type": "execute_result"
    }
   ],
   "source": [
    "# Let's see the null value counts again for the final time\n",
    "round(100*(leads.isnull().sum()/len(leads)), 2).sort_values(ascending=False)"
   ]
  },
  {
   "cell_type": "code",
   "execution_count": 845,
   "id": "585ecbf7",
   "metadata": {},
   "outputs": [
    {
     "data": {
      "text/plain": [
       "(9074, 10)"
      ]
     },
     "execution_count": 845,
     "metadata": {},
     "output_type": "execute_result"
    }
   ],
   "source": [
    "# Let's check the shape of our Clean dataset\n",
    "leads.shape"
   ]
  },
  {
   "cell_type": "code",
   "execution_count": 846,
   "id": "ae0ee7e2",
   "metadata": {},
   "outputs": [
    {
     "name": "stdout",
     "output_type": "stream",
     "text": [
      "9074\n",
      "0.982034632034632\n"
     ]
    }
   ],
   "source": [
    "# Let's check the percentage of rows that we have retained.\n",
    "print(len(leads.index))\n",
    "print(len(leads.index)/9240)"
   ]
  },
  {
   "cell_type": "markdown",
   "id": "e6ff97cf",
   "metadata": {},
   "source": [
    "### Insights:\n",
    "- We started with 9240 rows and 37 columns. Now, after data cleaning we have **9074 rows and 10 columns** with zero missing values.\n",
    "- We **removed a few of irrelevant features** according to data dictionary and our understanding.\n",
    "- We have **imputed missing values** \"NaN\" using random choice propertionality method.\n",
    "- We have **combined a few levels of some categorical variables** and **created levels which are easy to understand and interpret**.\n",
    "- We have **retained around 98% of our original data**.\n",
    "- Now, we can move on to the next step of our project."
   ]
  },
  {
   "cell_type": "markdown",
   "id": "a624af25",
   "metadata": {},
   "source": [
    "## Step 3: Data Visualization:"
   ]
  },
  {
   "cell_type": "code",
   "execution_count": 847,
   "id": "7143e846",
   "metadata": {},
   "outputs": [],
   "source": [
    "# Let's import necessary libraries\n",
    "import matplotlib.pyplot as plt\n",
    "import seaborn as sns\n",
    "%matplotlib inline"
   ]
  },
  {
   "cell_type": "code",
   "execution_count": 848,
   "id": "47c6f190",
   "metadata": {},
   "outputs": [
    {
     "name": "stdout",
     "output_type": "stream",
     "text": [
      "<class 'pandas.core.frame.DataFrame'>\n",
      "Int64Index: 9074 entries, 0 to 9239\n",
      "Data columns (total 10 columns):\n",
      " #   Column                       Non-Null Count  Dtype  \n",
      "---  ------                       --------------  -----  \n",
      " 0   Lead Origin                  9074 non-null   object \n",
      " 1   Lead Source                  9074 non-null   object \n",
      " 2   Converted                    9074 non-null   int64  \n",
      " 3   TotalVisits                  9074 non-null   float64\n",
      " 4   Total Time Spent on Website  9074 non-null   int64  \n",
      " 5   Page Views Per Visit         9074 non-null   float64\n",
      " 6   Specialization               9074 non-null   object \n",
      " 7   occupation                   9074 non-null   object \n",
      " 8   City                         9074 non-null   object \n",
      " 9   Last Notable Activity        9074 non-null   object \n",
      "dtypes: float64(2), int64(2), object(6)\n",
      "memory usage: 779.8+ KB\n"
     ]
    }
   ],
   "source": [
    "leads.info()"
   ]
  },
  {
   "cell_type": "code",
   "execution_count": 849,
   "id": "3de84f45",
   "metadata": {},
   "outputs": [
    {
     "data": {
      "image/png": "[encoded data removed]",
      "text/plain": [
       "<Figure size 1008x720 with 4 Axes>"
      ]
     },
     "metadata": {},
     "output_type": "display_data"
    }
   ],
   "source": [
    "# Let's look at the pair plot among numerical features from our final and clean datatset\n",
    "# Set style\n",
    "plt.style.use('ggplot')\n",
    "\n",
    "# See distribution of each of these columns\n",
    "fig = plt.figure(figsize = (14, 10))\n",
    "plt.subplot(2, 2, 1)\n",
    "plt.hist(leads.TotalVisits, bins = 20)\n",
    "plt.title('Total website visits')\n",
    "\n",
    "plt.subplot(2, 2, 2)\n",
    "plt.hist(leads[\"Total Time Spent on Website\"], bins = 20)\n",
    "plt.title('Time spent on website')\n",
    "\n",
    "plt.subplot(2, 2, 3)\n",
    "plt.hist(leads[\"Page Views Per Visit\"], bins = 20)\n",
    "plt.title('Average number of page views per visit')\n",
    "\n",
    "plt.subplot(2, 2, 4)\n",
    "plt.hist(leads[\"Converted\"], bins = 20)\n",
    "plt.title('Average number of page views per visit')\n",
    "\n",
    "plt.show()"
   ]
  },
  {
   "cell_type": "markdown",
   "id": "bec32cc2",
   "metadata": {},
   "source": [
    "- As we can see, there are a few high peaks and looks like the data is skewed. There might be a possibility of outliers. We will do outlier treatment next."
   ]
  },
  {
   "cell_type": "code",
   "execution_count": 850,
   "id": "4b7f1f87",
   "metadata": {},
   "outputs": [
    {
     "data": {
      "image/png": "[encoded data removed]",
      "text/plain": [
       "<Figure size 720x360 with 1 Axes>"
      ]
     },
     "metadata": {},
     "output_type": "display_data"
    }
   ],
   "source": [
    "# Let's plot for categorical features against our target variable 'Converted' one by one\n",
    "# Lead Source Vs Converted\n",
    "plt.figure(figsize=(10,5))\n",
    "s1=sns.countplot(leads['Lead Source'], hue=leads.Converted)\n",
    "s1.set_xticklabels(s1.get_xticklabels(),rotation=90)\n",
    "plt.show()"
   ]
  },
  {
   "cell_type": "markdown",
   "id": "4c18be14",
   "metadata": {},
   "source": [
    "- Highest converted leads are from 'Google' and lowest are from 'Referral Sites' .\n",
    "- We can also see, Direct traffic has given good conversion rate too.\n",
    "- There is definitely room for improvement in case of Olark Chat, Organic search and Welingak websites."
   ]
  },
  {
   "cell_type": "code",
   "execution_count": 851,
   "id": "dd95cfe6",
   "metadata": {},
   "outputs": [
    {
     "data": {
      "text/plain": [
       "Mumbai                           5283\n",
       "Non-Mumbai Maharashtra Cities    1959\n",
       "Non-Maharashtra Cities           1832\n",
       "Name: City, dtype: int64"
      ]
     },
     "execution_count": 851,
     "metadata": {},
     "output_type": "execute_result"
    }
   ],
   "source": [
    "leads.City.value_counts()"
   ]
  },
  {
   "cell_type": "code",
   "execution_count": 852,
   "id": "8456668f",
   "metadata": {},
   "outputs": [
    {
     "data": {
      "image/png": "[encoded data removed]",
      "text/plain": [
       "<Figure size 720x360 with 1 Axes>"
      ]
     },
     "metadata": {},
     "output_type": "display_data"
    }
   ],
   "source": [
    "# City Vs Converted\n",
    "plt.figure(figsize=(10,5))\n",
    "s1=sns.countplot(leads.City, hue=leads.Converted)\n",
    "s1.set_xticklabels(s1.get_xticklabels(),rotation=90)\n",
    "plt.show()"
   ]
  },
  {
   "cell_type": "markdown",
   "id": "a395b7b5",
   "metadata": {},
   "source": [
    "- Most of the converted leads are from Mumbai City.\n",
    "- However, if the company focuses on Non Maharashtra cities, the conversion rate might go higher."
   ]
  },
  {
   "cell_type": "code",
   "execution_count": 853,
   "id": "dac7c81d",
   "metadata": {},
   "outputs": [
    {
     "data": {
      "image/png": "[encoded data removed]",
      "text/plain": [
       "<Figure size 720x360 with 1 Axes>"
      ]
     },
     "metadata": {},
     "output_type": "display_data"
    }
   ],
   "source": [
    "# Spcialization Vs Converted\n",
    "plt.figure(figsize=(10,5))\n",
    "s1=sns.countplot(leads.Specialization, hue=leads.Converted)\n",
    "s1.set_xticklabels(s1.get_xticklabels(),rotation=90)\n",
    "plt.show()"
   ]
  },
  {
   "cell_type": "markdown",
   "id": "5b058c3d",
   "metadata": {},
   "source": [
    "- More than 50% of the converted Leads opted for 'Management Type Specializations'.\n",
    "- The Company can introduce more career enhancement and industry relevant programs on the other two category to improvise the conversion rate here."
   ]
  },
  {
   "cell_type": "code",
   "execution_count": 854,
   "id": "40c833d4",
   "metadata": {},
   "outputs": [
    {
     "data": {
      "image/png": "[encoded data removed]",
      "text/plain": [
       "<Figure size 720x360 with 1 Axes>"
      ]
     },
     "metadata": {},
     "output_type": "display_data"
    }
   ],
   "source": [
    "# Occupation vs Converted\n",
    "plt.figure(figsize=(10,5))\n",
    "s1=sns.countplot(leads.occupation, hue=leads.Converted)\n",
    "s1.set_xticklabels(s1.get_xticklabels(),rotation=90)\n",
    "plt.show()"
   ]
  },
  {
   "cell_type": "markdown",
   "id": "82d7ebe2",
   "metadata": {},
   "source": [
    "- Although, unemployed category has highest lead conversion, the company can target working professionals promoting a promising career growth."
   ]
  },
  {
   "cell_type": "code",
   "execution_count": 855,
   "id": "1d75382d",
   "metadata": {},
   "outputs": [
    {
     "data": {
      "image/png": "[encoded data removed]",
      "text/plain": [
       "<Figure size 720x360 with 1 Axes>"
      ]
     },
     "metadata": {},
     "output_type": "display_data"
    }
   ],
   "source": [
    "# Lead Origin Vs Converted\n",
    "plt.figure(figsize=(10,5))\n",
    "s1=sns.countplot(leads[\"Lead Origin\"], hue=leads.Converted)\n",
    "s1.set_xticklabels(s1.get_xticklabels(),rotation=90)\n",
    "plt.show()"
   ]
  },
  {
   "cell_type": "markdown",
   "id": "fd7e01cb",
   "metadata": {},
   "source": [
    "- We have a lot of scope of improving the lead score using Ad campaigns even though the website performance is quite good.\n",
    "- There is also a chance of improving the lead generation and lead conversion using APIs."
   ]
  },
  {
   "cell_type": "code",
   "execution_count": 856,
   "id": "ebc94397",
   "metadata": {},
   "outputs": [
    {
     "data": {
      "image/png": "[encoded data removed]",
      "text/plain": [
       "<Figure size 720x360 with 1 Axes>"
      ]
     },
     "metadata": {},
     "output_type": "display_data"
    }
   ],
   "source": [
    "# Last Notable Activity Vs Converted\n",
    "plt.figure(figsize=(10,5))\n",
    "s1=sns.countplot(leads[\"Last Notable Activity\"], hue=leads.Converted)\n",
    "s1.set_xticklabels(s1.get_xticklabels(),rotation=90)\n",
    "plt.show()"
   ]
  },
  {
   "cell_type": "markdown",
   "id": "ce2f833b",
   "metadata": {},
   "source": [
    "- As we can see, SMS and Emials opend has shown quite good conversion.\n",
    "- However, we sould suggest to improve the 'Olark Chat Conversation' and 'Page Visited Website' conversion rate."
   ]
  },
  {
   "cell_type": "markdown",
   "id": "7adf2c7e",
   "metadata": {},
   "source": [
    "**Let's look at the Numerical Features of our dataset once**"
   ]
  },
  {
   "cell_type": "code",
   "execution_count": 857,
   "id": "d5ea9fb7",
   "metadata": {},
   "outputs": [
    {
     "data": {
      "text/plain": [
       "37.85541106458012"
      ]
     },
     "execution_count": 857,
     "metadata": {},
     "output_type": "execute_result"
    }
   ],
   "source": [
    "# Let's check our target variable 'Converted'\n",
    "# How many 1s - Conversion Happened and How many 0s - Conversion didn't happen\n",
    "Converted = (sum(leads['Converted'])/len(leads['Converted'].index))*100\n",
    "Converted"
   ]
  },
  {
   "cell_type": "markdown",
   "id": "4c1ee8db",
   "metadata": {},
   "source": [
    "- Around 38% of values in 'Converted' column are 1s."
   ]
  },
  {
   "cell_type": "code",
   "execution_count": 858,
   "id": "250d175b",
   "metadata": {},
   "outputs": [
    {
     "data": {
      "image/png": "[encoded data removed]",
      "text/plain": [
       "<Figure size 720x576 with 2 Axes>"
      ]
     },
     "metadata": {},
     "output_type": "display_data"
    }
   ],
   "source": [
    "# Let's Check the correlations among numerical features once\n",
    "plt.figure(figsize=(10,8))\n",
    "\n",
    "# heatmap\n",
    "sns.heatmap(leads.corr(), cmap=\"RdBu\", annot=True)\n",
    "plt.show()"
   ]
  },
  {
   "cell_type": "markdown",
   "id": "f0b14e1a",
   "metadata": {},
   "source": [
    "- It is quite evident that 'Total Visits' and 'Page View Per Visit' has a bit high correlation than others which is expected.\n",
    "- Also, 'Total Time Spent on Website' has a good correlation with our target feature 'Converted'."
   ]
  },
  {
   "cell_type": "code",
   "execution_count": 859,
   "id": "b81ff166",
   "metadata": {},
   "outputs": [
    {
     "data": {
      "image/png": "[encoded data removed]",
      "text/plain": [
       "<Figure size 576x504 with 1 Axes>"
      ]
     },
     "metadata": {},
     "output_type": "display_data"
    }
   ],
   "source": [
    "# 'Total Visits' Outlier check\n",
    "\n",
    "plt.figure(figsize=(8,7))\n",
    "sns.boxplot(y=leads['TotalVisits'])\n",
    "plt.show()"
   ]
  },
  {
   "cell_type": "markdown",
   "id": "c2d5d174",
   "metadata": {},
   "source": [
    "- We can see, there are a few outliers present here."
   ]
  },
  {
   "cell_type": "code",
   "execution_count": 860,
   "id": "2a700218",
   "metadata": {},
   "outputs": [
    {
     "data": {
      "text/plain": [
       "count    9074.000000\n",
       "mean        3.456028\n",
       "std         4.858802\n",
       "min         0.000000\n",
       "5%          0.000000\n",
       "25%         1.000000\n",
       "50%         3.000000\n",
       "75%         5.000000\n",
       "90%         7.000000\n",
       "95%        10.000000\n",
       "99%        17.000000\n",
       "max       251.000000\n",
       "Name: TotalVisits, dtype: float64"
      ]
     },
     "execution_count": 860,
     "metadata": {},
     "output_type": "execute_result"
    }
   ],
   "source": [
    "# Let's check the percentile values for \"Total Visits\" mentioning percentiles values\n",
    "\n",
    "leads['TotalVisits'].describe(percentiles=[0.05,.25, .5, .75, .90, .95, .99])"
   ]
  },
  {
   "cell_type": "markdown",
   "id": "02e0aa12",
   "metadata": {},
   "source": [
    "- The 'max' value is 251, where as the '99%' value is 17, there is a huge gap in between.\n",
    "- Suggests the presence of outliers."
   ]
  },
  {
   "cell_type": "code",
   "execution_count": 861,
   "id": "2d9d3f33",
   "metadata": {},
   "outputs": [
    {
     "data": {
      "image/png": "[encoded data removed]",
      "text/plain": [
       "<Figure size 432x288 with 1 Axes>"
      ]
     },
     "metadata": {},
     "output_type": "display_data"
    }
   ],
   "source": [
    "#Outlier Treatment: Let's Remove the top & the bottom 2% of the Column Outlier values\n",
    "\n",
    "Q3 = leads.TotalVisits.quantile(0.98)\n",
    "leads = leads[(leads.TotalVisits <= Q3)]\n",
    "Q1 = leads.TotalVisits.quantile(0.02)\n",
    "leads = leads[(leads.TotalVisits >= Q1)]\n",
    "sns.boxplot(y=leads['TotalVisits'])\n",
    "plt.show()"
   ]
  },
  {
   "cell_type": "code",
   "execution_count": 862,
   "id": "3551749d",
   "metadata": {},
   "outputs": [
    {
     "data": {
      "text/plain": [
       "count    8900.000000\n",
       "mean        3.094719\n",
       "std         2.745061\n",
       "min         0.000000\n",
       "5%          0.000000\n",
       "25%         1.000000\n",
       "50%         3.000000\n",
       "75%         5.000000\n",
       "90%         7.000000\n",
       "95%         9.000000\n",
       "99%        12.000000\n",
       "max        13.000000\n",
       "Name: TotalVisits, dtype: float64"
      ]
     },
     "execution_count": 862,
     "metadata": {},
     "output_type": "execute_result"
    }
   ],
   "source": [
    "#Let's check the percentiles again\n",
    "leads['TotalVisits'].describe(percentiles=[0.05,.25, .5, .75, .90, .95, .99])"
   ]
  },
  {
   "cell_type": "markdown",
   "id": "6576cd2e",
   "metadata": {},
   "source": [
    "- Now, we have a pretty good and balanced distribution of percentile values. "
   ]
  },
  {
   "cell_type": "code",
   "execution_count": 863,
   "id": "a71ac7ce",
   "metadata": {},
   "outputs": [
    {
     "data": {
      "image/png": "[encoded data removed]",
      "text/plain": [
       "<Figure size 432x360 with 1 Axes>"
      ]
     },
     "metadata": {},
     "output_type": "display_data"
    }
   ],
   "source": [
    "# 'Total Time Spent on Website' Outlier check\n",
    "\n",
    "plt.figure(figsize=(6,5))\n",
    "sns.boxplot(y=leads['Total Time Spent on Website'])\n",
    "plt.show()"
   ]
  },
  {
   "cell_type": "code",
   "execution_count": 864,
   "id": "82e6bf60",
   "metadata": {},
   "outputs": [
    {
     "data": {
      "text/plain": [
       "count    8900.000000\n",
       "mean      477.797416\n",
       "std       543.539000\n",
       "min         0.000000\n",
       "5%          0.000000\n",
       "25%         6.750000\n",
       "50%       241.000000\n",
       "75%       908.000000\n",
       "90%      1369.100000\n",
       "95%      1552.000000\n",
       "99%      1837.020000\n",
       "max      2272.000000\n",
       "Name: Total Time Spent on Website, dtype: float64"
      ]
     },
     "execution_count": 864,
     "metadata": {},
     "output_type": "execute_result"
    }
   ],
   "source": [
    "# Let's check percentiles for \"Total Time Spent on Website\"\n",
    "\n",
    "leads['Total Time Spent on Website'].describe(percentiles=[0.05,.25, .5, .75, .90, .95, .99])"
   ]
  },
  {
   "cell_type": "markdown",
   "id": "48ddc72d",
   "metadata": {},
   "source": [
    "- As, it is evident that there are no major Outliers for the above feature we don't need to perform any Outlier Treatment for this above Column."
   ]
  },
  {
   "cell_type": "code",
   "execution_count": 865,
   "id": "8d9eb00d",
   "metadata": {},
   "outputs": [
    {
     "data": {
      "text/plain": [
       "count    8900.000000\n",
       "mean        2.310474\n",
       "std         1.992907\n",
       "min         0.000000\n",
       "5%          0.000000\n",
       "25%         1.000000\n",
       "50%         2.000000\n",
       "75%         3.000000\n",
       "90%         5.000000\n",
       "95%         6.000000\n",
       "99%         9.000000\n",
       "max        13.000000\n",
       "Name: Page Views Per Visit, dtype: float64"
      ]
     },
     "execution_count": 865,
     "metadata": {},
     "output_type": "execute_result"
    }
   ],
   "source": [
    "#checking spread of \"Page Views Per Visit\" with percentiles distribution\n",
    "\n",
    "leads['Page Views Per Visit'].describe(percentiles=[0.05,.25, .5, .75, .90, .95, .99])"
   ]
  },
  {
   "cell_type": "code",
   "execution_count": 866,
   "id": "efa1855d",
   "metadata": {},
   "outputs": [
    {
     "data": {
      "image/png": "[encoded data removed]",
      "text/plain": [
       "<Figure size 432x360 with 1 Axes>"
      ]
     },
     "metadata": {},
     "output_type": "display_data"
    }
   ],
   "source": [
    "# 'Page Views Per Visit' Outlier check\n",
    "\n",
    "plt.figure(figsize=(6,5))\n",
    "sns.boxplot(y=leads['Page Views Per Visit'])\n",
    "plt.show()"
   ]
  },
  {
   "cell_type": "markdown",
   "id": "073728cd",
   "metadata": {},
   "source": [
    "- There are outliers present in the above column.\n",
    "- Outlier Treatment: Let's Remove the top & the bottom 2% of the Column Outlier values"
   ]
  },
  {
   "cell_type": "code",
   "execution_count": 867,
   "id": "8fffd644",
   "metadata": {},
   "outputs": [
    {
     "data": {
      "image/png": "[encoded data removed]",
      "text/plain": [
       "<Figure size 432x288 with 1 Axes>"
      ]
     },
     "metadata": {},
     "output_type": "display_data"
    }
   ],
   "source": [
    "# Outlier treatment\n",
    "Q3 = leads.TotalVisits.quantile(0.97)\n",
    "leads = leads[(leads.TotalVisits <= Q3)]\n",
    "Q1 = leads.TotalVisits.quantile(0.03)\n",
    "leads = leads[(leads.TotalVisits >= Q1)]\n",
    "sns.boxplot(y=leads['Page Views Per Visit'])\n",
    "plt.show()"
   ]
  },
  {
   "cell_type": "code",
   "execution_count": 868,
   "id": "7d0831de",
   "metadata": {},
   "outputs": [
    {
     "data": {
      "image/png": "[encoded data removed]",
      "text/plain": [
       "<Figure size 432x288 with 1 Axes>"
      ]
     },
     "metadata": {},
     "output_type": "display_data"
    }
   ],
   "source": [
    "# Let's check \"Total Visits\" vs Converted variable\n",
    "sns.boxplot(y = 'TotalVisits', x = 'Converted', data = leads)\n",
    "plt.show()"
   ]
  },
  {
   "cell_type": "markdown",
   "id": "c580706e",
   "metadata": {},
   "source": [
    "##### Insight:\n",
    "\n",
    "- Median for converted and not converted leads are close.\n",
    "- Leads having 'Total Visits' around 3-4 times seems to have converted better.\n",
    "- Still, we can't be sure at this moment."
   ]
  },
  {
   "cell_type": "code",
   "execution_count": 869,
   "id": "5f263687",
   "metadata": {},
   "outputs": [
    {
     "data": {
      "image/png": "[encoded data removed]",
      "text/plain": [
       "<Figure size 432x288 with 1 Axes>"
      ]
     },
     "metadata": {},
     "output_type": "display_data"
    }
   ],
   "source": [
    "# Let's check \"Total Time Spent on Website\" vs Converted variable\n",
    "\n",
    "sns.boxplot(x=leads.Converted, y=leads['Total Time Spent on Website'])\n",
    "plt.show()"
   ]
  },
  {
   "cell_type": "markdown",
   "id": "f7b9a2f3",
   "metadata": {},
   "source": [
    "##### Insight:\n",
    "\n",
    "- Evidently, leads who have spent more time on website have a higher rate of converting.\n",
    "- If the company would improve website content and enagagement on website, there would be more leads converting."
   ]
  },
  {
   "cell_type": "code",
   "execution_count": 870,
   "id": "ed21eb3a",
   "metadata": {},
   "outputs": [
    {
     "data": {
      "image/png": "[encoded data removed]",
      "text/plain": [
       "<Figure size 432x288 with 1 Axes>"
      ]
     },
     "metadata": {},
     "output_type": "display_data"
    }
   ],
   "source": [
    "# Let's check \"Page Views Per Visit\" vs Converted variable\n",
    "\n",
    "sns.boxplot(x=leads.Converted,y=leads['Page Views Per Visit'])\n",
    "plt.show()"
   ]
  },
  {
   "cell_type": "markdown",
   "id": "c8178192",
   "metadata": {},
   "source": [
    "##### Insight:\n",
    "\n",
    "- The median of both converted and non-converted are on the same level.\n",
    "- We can't be certain about the interpretation on lead conversion here."
   ]
  },
  {
   "cell_type": "code",
   "execution_count": 871,
   "id": "5ba1f071",
   "metadata": {},
   "outputs": [
    {
     "data": {
      "text/plain": [
       "(8721, 10)"
      ]
     },
     "execution_count": 871,
     "metadata": {},
     "output_type": "execute_result"
    }
   ],
   "source": [
    "# let's check the shape of our dataset\n",
    "leads.shape"
   ]
  },
  {
   "cell_type": "code",
   "execution_count": 872,
   "id": "2af022b4",
   "metadata": {},
   "outputs": [
    {
     "name": "stdout",
     "output_type": "stream",
     "text": [
      "8721\n",
      "0.9438311688311688\n"
     ]
    }
   ],
   "source": [
    "# Let's check the percentage of rows that we have retained after outlier treatment.\n",
    "print(len(leads.index))\n",
    "print(len(leads.index)/9240)"
   ]
  },
  {
   "cell_type": "markdown",
   "id": "a1f1752a",
   "metadata": {},
   "source": [
    "##### Insight:\n",
    "- After the data cleaning and outlier treatment we have 8721 rows and 10 columns.\n",
    "- After the null value imputation and the outlier treatment we have retained 94% of the original data.\n",
    "- Now, we can move on and start with our next step, Data Preparation."
   ]
  },
  {
   "cell_type": "markdown",
   "id": "be9d98cd",
   "metadata": {},
   "source": [
    "### Step 4: Data Preparation:"
   ]
  },
  {
   "cell_type": "markdown",
   "id": "59ab8c3d",
   "metadata": {},
   "source": [
    "##### Let's start with Dummy Variable Creation"
   ]
  },
  {
   "cell_type": "code",
   "execution_count": 873,
   "id": "9d21ecc1",
   "metadata": {},
   "outputs": [
    {
     "data": {
      "text/plain": [
       "Index(['Lead Origin', 'Lead Source', 'Specialization', 'occupation', 'City',\n",
       "       'Last Notable Activity'],\n",
       "      dtype='object')"
      ]
     },
     "execution_count": 873,
     "metadata": {},
     "output_type": "execute_result"
    }
   ],
   "source": [
    "# Let's look at all the categorical features we have\n",
    "# Then, create an instance and save them together\n",
    "cat_cols= leads.select_dtypes(include=['object']).columns\n",
    "cat_cols"
   ]
  },
  {
   "cell_type": "code",
   "execution_count": 874,
   "id": "a0d39080",
   "metadata": {},
   "outputs": [],
   "source": [
    "# Let's Create dummy variables using the 'get_dummies' command for our cactegorical variables\n",
    "# We shall also drop the first dummy column to avoid multicollinearity\n",
    "dummy = pd.get_dummies(leads[['Lead Origin', 'Lead Source', 'Specialization', 'Last Notable Activity',\n",
    "                              'occupation','City']], drop_first=True)\n",
    "\n",
    "# Let's concat the results to the master dataframe\n",
    "leads = pd.concat([leads, dummy], axis=1)"
   ]
  },
  {
   "cell_type": "code",
   "execution_count": 875,
   "id": "5a1d6394",
   "metadata": {},
   "outputs": [
    {
     "data": {
      "text/html": [
       "<div>\n",
       "<style scoped>\n",
       "    .dataframe tbody tr th:only-of-type {\n",
       "        vertical-align: middle;\n",
       "    }\n",
       "\n",
       "    .dataframe tbody tr th {\n",
       "        vertical-align: top;\n",
       "    }\n",
       "\n",
       "    .dataframe thead th {\n",
       "        text-align: right;\n",
       "    }\n",
       "</style>\n",
       "<table border=\"1\" class=\"dataframe\">\n",
       "  <thead>\n",
       "    <tr style=\"text-align: right;\">\n",
       "      <th></th>\n",
       "      <th>Lead Origin</th>\n",
       "      <th>Lead Source</th>\n",
       "      <th>Converted</th>\n",
       "      <th>TotalVisits</th>\n",
       "      <th>Total Time Spent on Website</th>\n",
       "      <th>Page Views Per Visit</th>\n",
       "      <th>Specialization</th>\n",
       "      <th>occupation</th>\n",
       "      <th>City</th>\n",
       "      <th>Last Notable Activity</th>\n",
       "      <th>...</th>\n",
       "      <th>Last Notable Activity_Email Opened</th>\n",
       "      <th>Last Notable Activity_Modified</th>\n",
       "      <th>Last Notable Activity_Olark Chat Conversation</th>\n",
       "      <th>Last Notable Activity_Other Activities</th>\n",
       "      <th>Last Notable Activity_Page Visited on Website</th>\n",
       "      <th>Last Notable Activity_SMS Sent</th>\n",
       "      <th>occupation_Unemployed</th>\n",
       "      <th>occupation_Working Professional</th>\n",
       "      <th>City_Non-Maharashtra Cities</th>\n",
       "      <th>City_Non-Mumbai Maharashtra Cities</th>\n",
       "    </tr>\n",
       "  </thead>\n",
       "  <tbody>\n",
       "    <tr>\n",
       "      <th>0</th>\n",
       "      <td>API</td>\n",
       "      <td>Olark Chat</td>\n",
       "      <td>0</td>\n",
       "      <td>0.0</td>\n",
       "      <td>0</td>\n",
       "      <td>0.0</td>\n",
       "      <td>Industry Specializations</td>\n",
       "      <td>Unemployed</td>\n",
       "      <td>Mumbai</td>\n",
       "      <td>Modified</td>\n",
       "      <td>...</td>\n",
       "      <td>0</td>\n",
       "      <td>1</td>\n",
       "      <td>0</td>\n",
       "      <td>0</td>\n",
       "      <td>0</td>\n",
       "      <td>0</td>\n",
       "      <td>1</td>\n",
       "      <td>0</td>\n",
       "      <td>0</td>\n",
       "      <td>0</td>\n",
       "    </tr>\n",
       "    <tr>\n",
       "      <th>1</th>\n",
       "      <td>API</td>\n",
       "      <td>Organic Search</td>\n",
       "      <td>0</td>\n",
       "      <td>5.0</td>\n",
       "      <td>674</td>\n",
       "      <td>2.5</td>\n",
       "      <td>Management Specializations</td>\n",
       "      <td>Unemployed</td>\n",
       "      <td>Mumbai</td>\n",
       "      <td>Email Opened</td>\n",
       "      <td>...</td>\n",
       "      <td>1</td>\n",
       "      <td>0</td>\n",
       "      <td>0</td>\n",
       "      <td>0</td>\n",
       "      <td>0</td>\n",
       "      <td>0</td>\n",
       "      <td>1</td>\n",
       "      <td>0</td>\n",
       "      <td>0</td>\n",
       "      <td>0</td>\n",
       "    </tr>\n",
       "    <tr>\n",
       "      <th>2</th>\n",
       "      <td>Landing Page Submission</td>\n",
       "      <td>Direct Traffic</td>\n",
       "      <td>1</td>\n",
       "      <td>2.0</td>\n",
       "      <td>1532</td>\n",
       "      <td>2.0</td>\n",
       "      <td>Business Specializations</td>\n",
       "      <td>Student and Others</td>\n",
       "      <td>Mumbai</td>\n",
       "      <td>Email Opened</td>\n",
       "      <td>...</td>\n",
       "      <td>1</td>\n",
       "      <td>0</td>\n",
       "      <td>0</td>\n",
       "      <td>0</td>\n",
       "      <td>0</td>\n",
       "      <td>0</td>\n",
       "      <td>0</td>\n",
       "      <td>0</td>\n",
       "      <td>0</td>\n",
       "      <td>0</td>\n",
       "    </tr>\n",
       "    <tr>\n",
       "      <th>3</th>\n",
       "      <td>Landing Page Submission</td>\n",
       "      <td>Direct Traffic</td>\n",
       "      <td>0</td>\n",
       "      <td>1.0</td>\n",
       "      <td>305</td>\n",
       "      <td>1.0</td>\n",
       "      <td>Industry Specializations</td>\n",
       "      <td>Unemployed</td>\n",
       "      <td>Mumbai</td>\n",
       "      <td>Modified</td>\n",
       "      <td>...</td>\n",
       "      <td>0</td>\n",
       "      <td>1</td>\n",
       "      <td>0</td>\n",
       "      <td>0</td>\n",
       "      <td>0</td>\n",
       "      <td>0</td>\n",
       "      <td>1</td>\n",
       "      <td>0</td>\n",
       "      <td>0</td>\n",
       "      <td>0</td>\n",
       "    </tr>\n",
       "    <tr>\n",
       "      <th>4</th>\n",
       "      <td>Landing Page Submission</td>\n",
       "      <td>Google</td>\n",
       "      <td>1</td>\n",
       "      <td>2.0</td>\n",
       "      <td>1428</td>\n",
       "      <td>1.0</td>\n",
       "      <td>Management Specializations</td>\n",
       "      <td>Unemployed</td>\n",
       "      <td>Mumbai</td>\n",
       "      <td>Modified</td>\n",
       "      <td>...</td>\n",
       "      <td>0</td>\n",
       "      <td>1</td>\n",
       "      <td>0</td>\n",
       "      <td>0</td>\n",
       "      <td>0</td>\n",
       "      <td>0</td>\n",
       "      <td>1</td>\n",
       "      <td>0</td>\n",
       "      <td>0</td>\n",
       "      <td>0</td>\n",
       "    </tr>\n",
       "  </tbody>\n",
       "</table>\n",
       "<p>5 rows × 45 columns</p>\n",
       "</div>"
      ],
      "text/plain": [
       "               Lead Origin     Lead Source  Converted  TotalVisits  \\\n",
       "0                      API      Olark Chat          0          0.0   \n",
       "1                      API  Organic Search          0          5.0   \n",
       "2  Landing Page Submission  Direct Traffic          1          2.0   \n",
       "3  Landing Page Submission  Direct Traffic          0          1.0   \n",
       "4  Landing Page Submission          Google          1          2.0   \n",
       "\n",
       "   Total Time Spent on Website  Page Views Per Visit  \\\n",
       "0                            0                   0.0   \n",
       "1                          674                   2.5   \n",
       "2                         1532                   2.0   \n",
       "3                          305                   1.0   \n",
       "4                         1428                   1.0   \n",
       "\n",
       "               Specialization          occupation    City  \\\n",
       "0    Industry Specializations          Unemployed  Mumbai   \n",
       "1  Management Specializations          Unemployed  Mumbai   \n",
       "2    Business Specializations  Student and Others  Mumbai   \n",
       "3    Industry Specializations          Unemployed  Mumbai   \n",
       "4  Management Specializations          Unemployed  Mumbai   \n",
       "\n",
       "  Last Notable Activity  ...  Last Notable Activity_Email Opened  \\\n",
       "0              Modified  ...                                   0   \n",
       "1          Email Opened  ...                                   1   \n",
       "2          Email Opened  ...                                   1   \n",
       "3              Modified  ...                                   0   \n",
       "4              Modified  ...                                   0   \n",
       "\n",
       "   Last Notable Activity_Modified  \\\n",
       "0                               1   \n",
       "1                               0   \n",
       "2                               0   \n",
       "3                               1   \n",
       "4                               1   \n",
       "\n",
       "   Last Notable Activity_Olark Chat Conversation  \\\n",
       "0                                              0   \n",
       "1                                              0   \n",
       "2                                              0   \n",
       "3                                              0   \n",
       "4                                              0   \n",
       "\n",
       "   Last Notable Activity_Other Activities  \\\n",
       "0                                       0   \n",
       "1                                       0   \n",
       "2                                       0   \n",
       "3                                       0   \n",
       "4                                       0   \n",
       "\n",
       "   Last Notable Activity_Page Visited on Website  \\\n",
       "0                                              0   \n",
       "1                                              0   \n",
       "2                                              0   \n",
       "3                                              0   \n",
       "4                                              0   \n",
       "\n",
       "   Last Notable Activity_SMS Sent  occupation_Unemployed  \\\n",
       "0                               0                      1   \n",
       "1                               0                      1   \n",
       "2                               0                      0   \n",
       "3                               0                      1   \n",
       "4                               0                      1   \n",
       "\n",
       "   occupation_Working Professional  City_Non-Maharashtra Cities  \\\n",
       "0                                0                            0   \n",
       "1                                0                            0   \n",
       "2                                0                            0   \n",
       "3                                0                            0   \n",
       "4                                0                            0   \n",
       "\n",
       "   City_Non-Mumbai Maharashtra Cities  \n",
       "0                                   0  \n",
       "1                                   0  \n",
       "2                                   0  \n",
       "3                                   0  \n",
       "4                                   0  \n",
       "\n",
       "[5 rows x 45 columns]"
      ]
     },
     "execution_count": 875,
     "metadata": {},
     "output_type": "execute_result"
    }
   ],
   "source": [
    "# Let's check our dataframe\n",
    "leads.head()"
   ]
  },
  {
   "cell_type": "code",
   "execution_count": 876,
   "id": "66e3ce60",
   "metadata": {},
   "outputs": [
    {
     "data": {
      "text/html": [
       "<div>\n",
       "<style scoped>\n",
       "    .dataframe tbody tr th:only-of-type {\n",
       "        vertical-align: middle;\n",
       "    }\n",
       "\n",
       "    .dataframe tbody tr th {\n",
       "        vertical-align: top;\n",
       "    }\n",
       "\n",
       "    .dataframe thead th {\n",
       "        text-align: right;\n",
       "    }\n",
       "</style>\n",
       "<table border=\"1\" class=\"dataframe\">\n",
       "  <thead>\n",
       "    <tr style=\"text-align: right;\">\n",
       "      <th></th>\n",
       "      <th>Converted</th>\n",
       "      <th>TotalVisits</th>\n",
       "      <th>Total Time Spent on Website</th>\n",
       "      <th>Page Views Per Visit</th>\n",
       "      <th>Lead Origin_Landing Page Submission</th>\n",
       "      <th>Lead Origin_Lead Add Form</th>\n",
       "      <th>Lead Origin_Lead Import</th>\n",
       "      <th>Lead Source_Direct Traffic</th>\n",
       "      <th>Lead Source_Facebook</th>\n",
       "      <th>Lead Source_Google</th>\n",
       "      <th>...</th>\n",
       "      <th>Last Notable Activity_Email Opened</th>\n",
       "      <th>Last Notable Activity_Modified</th>\n",
       "      <th>Last Notable Activity_Olark Chat Conversation</th>\n",
       "      <th>Last Notable Activity_Other Activities</th>\n",
       "      <th>Last Notable Activity_Page Visited on Website</th>\n",
       "      <th>Last Notable Activity_SMS Sent</th>\n",
       "      <th>occupation_Unemployed</th>\n",
       "      <th>occupation_Working Professional</th>\n",
       "      <th>City_Non-Maharashtra Cities</th>\n",
       "      <th>City_Non-Mumbai Maharashtra Cities</th>\n",
       "    </tr>\n",
       "  </thead>\n",
       "  <tbody>\n",
       "    <tr>\n",
       "      <th>0</th>\n",
       "      <td>0</td>\n",
       "      <td>0.0</td>\n",
       "      <td>0</td>\n",
       "      <td>0.0</td>\n",
       "      <td>0</td>\n",
       "      <td>0</td>\n",
       "      <td>0</td>\n",
       "      <td>0</td>\n",
       "      <td>0</td>\n",
       "      <td>0</td>\n",
       "      <td>...</td>\n",
       "      <td>0</td>\n",
       "      <td>1</td>\n",
       "      <td>0</td>\n",
       "      <td>0</td>\n",
       "      <td>0</td>\n",
       "      <td>0</td>\n",
       "      <td>1</td>\n",
       "      <td>0</td>\n",
       "      <td>0</td>\n",
       "      <td>0</td>\n",
       "    </tr>\n",
       "    <tr>\n",
       "      <th>1</th>\n",
       "      <td>0</td>\n",
       "      <td>5.0</td>\n",
       "      <td>674</td>\n",
       "      <td>2.5</td>\n",
       "      <td>0</td>\n",
       "      <td>0</td>\n",
       "      <td>0</td>\n",
       "      <td>0</td>\n",
       "      <td>0</td>\n",
       "      <td>0</td>\n",
       "      <td>...</td>\n",
       "      <td>1</td>\n",
       "      <td>0</td>\n",
       "      <td>0</td>\n",
       "      <td>0</td>\n",
       "      <td>0</td>\n",
       "      <td>0</td>\n",
       "      <td>1</td>\n",
       "      <td>0</td>\n",
       "      <td>0</td>\n",
       "      <td>0</td>\n",
       "    </tr>\n",
       "    <tr>\n",
       "      <th>2</th>\n",
       "      <td>1</td>\n",
       "      <td>2.0</td>\n",
       "      <td>1532</td>\n",
       "      <td>2.0</td>\n",
       "      <td>1</td>\n",
       "      <td>0</td>\n",
       "      <td>0</td>\n",
       "      <td>1</td>\n",
       "      <td>0</td>\n",
       "      <td>0</td>\n",
       "      <td>...</td>\n",
       "      <td>1</td>\n",
       "      <td>0</td>\n",
       "      <td>0</td>\n",
       "      <td>0</td>\n",
       "      <td>0</td>\n",
       "      <td>0</td>\n",
       "      <td>0</td>\n",
       "      <td>0</td>\n",
       "      <td>0</td>\n",
       "      <td>0</td>\n",
       "    </tr>\n",
       "    <tr>\n",
       "      <th>3</th>\n",
       "      <td>0</td>\n",
       "      <td>1.0</td>\n",
       "      <td>305</td>\n",
       "      <td>1.0</td>\n",
       "      <td>1</td>\n",
       "      <td>0</td>\n",
       "      <td>0</td>\n",
       "      <td>1</td>\n",
       "      <td>0</td>\n",
       "      <td>0</td>\n",
       "      <td>...</td>\n",
       "      <td>0</td>\n",
       "      <td>1</td>\n",
       "      <td>0</td>\n",
       "      <td>0</td>\n",
       "      <td>0</td>\n",
       "      <td>0</td>\n",
       "      <td>1</td>\n",
       "      <td>0</td>\n",
       "      <td>0</td>\n",
       "      <td>0</td>\n",
       "    </tr>\n",
       "    <tr>\n",
       "      <th>4</th>\n",
       "      <td>1</td>\n",
       "      <td>2.0</td>\n",
       "      <td>1428</td>\n",
       "      <td>1.0</td>\n",
       "      <td>1</td>\n",
       "      <td>0</td>\n",
       "      <td>0</td>\n",
       "      <td>0</td>\n",
       "      <td>0</td>\n",
       "      <td>1</td>\n",
       "      <td>...</td>\n",
       "      <td>0</td>\n",
       "      <td>1</td>\n",
       "      <td>0</td>\n",
       "      <td>0</td>\n",
       "      <td>0</td>\n",
       "      <td>0</td>\n",
       "      <td>1</td>\n",
       "      <td>0</td>\n",
       "      <td>0</td>\n",
       "      <td>0</td>\n",
       "    </tr>\n",
       "  </tbody>\n",
       "</table>\n",
       "<p>5 rows × 39 columns</p>\n",
       "</div>"
      ],
      "text/plain": [
       "   Converted  TotalVisits  Total Time Spent on Website  Page Views Per Visit  \\\n",
       "0          0          0.0                            0                   0.0   \n",
       "1          0          5.0                          674                   2.5   \n",
       "2          1          2.0                         1532                   2.0   \n",
       "3          0          1.0                          305                   1.0   \n",
       "4          1          2.0                         1428                   1.0   \n",
       "\n",
       "   Lead Origin_Landing Page Submission  Lead Origin_Lead Add Form  \\\n",
       "0                                    0                          0   \n",
       "1                                    0                          0   \n",
       "2                                    1                          0   \n",
       "3                                    1                          0   \n",
       "4                                    1                          0   \n",
       "\n",
       "   Lead Origin_Lead Import  Lead Source_Direct Traffic  Lead Source_Facebook  \\\n",
       "0                        0                           0                     0   \n",
       "1                        0                           0                     0   \n",
       "2                        0                           1                     0   \n",
       "3                        0                           1                     0   \n",
       "4                        0                           0                     0   \n",
       "\n",
       "   Lead Source_Google  ...  Last Notable Activity_Email Opened  \\\n",
       "0                   0  ...                                   0   \n",
       "1                   0  ...                                   1   \n",
       "2                   0  ...                                   1   \n",
       "3                   0  ...                                   0   \n",
       "4                   1  ...                                   0   \n",
       "\n",
       "   Last Notable Activity_Modified  \\\n",
       "0                               1   \n",
       "1                               0   \n",
       "2                               0   \n",
       "3                               1   \n",
       "4                               1   \n",
       "\n",
       "   Last Notable Activity_Olark Chat Conversation  \\\n",
       "0                                              0   \n",
       "1                                              0   \n",
       "2                                              0   \n",
       "3                                              0   \n",
       "4                                              0   \n",
       "\n",
       "   Last Notable Activity_Other Activities  \\\n",
       "0                                       0   \n",
       "1                                       0   \n",
       "2                                       0   \n",
       "3                                       0   \n",
       "4                                       0   \n",
       "\n",
       "   Last Notable Activity_Page Visited on Website  \\\n",
       "0                                              0   \n",
       "1                                              0   \n",
       "2                                              0   \n",
       "3                                              0   \n",
       "4                                              0   \n",
       "\n",
       "   Last Notable Activity_SMS Sent  occupation_Unemployed  \\\n",
       "0                               0                      1   \n",
       "1                               0                      1   \n",
       "2                               0                      0   \n",
       "3                               0                      1   \n",
       "4                               0                      1   \n",
       "\n",
       "   occupation_Working Professional  City_Non-Maharashtra Cities  \\\n",
       "0                                0                            0   \n",
       "1                                0                            0   \n",
       "2                                0                            0   \n",
       "3                                0                            0   \n",
       "4                                0                            0   \n",
       "\n",
       "   City_Non-Mumbai Maharashtra Cities  \n",
       "0                                   0  \n",
       "1                                   0  \n",
       "2                                   0  \n",
       "3                                   0  \n",
       "4                                   0  \n",
       "\n",
       "[5 rows x 39 columns]"
      ]
     },
     "execution_count": 876,
     "metadata": {},
     "output_type": "execute_result"
    }
   ],
   "source": [
    "# Now, let's Drop the variables for which the dummy variables have been created\n",
    "\n",
    "leads.drop(cat_cols,1,inplace = True)\n",
    "# checking the dataframe again\n",
    "leads.head()"
   ]
  },
  {
   "cell_type": "code",
   "execution_count": 877,
   "id": "e4109703",
   "metadata": {},
   "outputs": [
    {
     "name": "stdout",
     "output_type": "stream",
     "text": [
      "<class 'pandas.core.frame.DataFrame'>\n",
      "Int64Index: 8721 entries, 0 to 9239\n",
      "Data columns (total 39 columns):\n",
      " #   Column                                         Non-Null Count  Dtype  \n",
      "---  ------                                         --------------  -----  \n",
      " 0   Converted                                      8721 non-null   int64  \n",
      " 1   TotalVisits                                    8721 non-null   float64\n",
      " 2   Total Time Spent on Website                    8721 non-null   int64  \n",
      " 3   Page Views Per Visit                           8721 non-null   float64\n",
      " 4   Lead Origin_Landing Page Submission            8721 non-null   uint8  \n",
      " 5   Lead Origin_Lead Add Form                      8721 non-null   uint8  \n",
      " 6   Lead Origin_Lead Import                        8721 non-null   uint8  \n",
      " 7   Lead Source_Direct Traffic                     8721 non-null   uint8  \n",
      " 8   Lead Source_Facebook                           8721 non-null   uint8  \n",
      " 9   Lead Source_Google                             8721 non-null   uint8  \n",
      " 10  Lead Source_Live Chat                          8721 non-null   uint8  \n",
      " 11  Lead Source_NC_EDM                             8721 non-null   uint8  \n",
      " 12  Lead Source_Olark Chat                         8721 non-null   uint8  \n",
      " 13  Lead Source_Organic Search                     8721 non-null   uint8  \n",
      " 14  Lead Source_Pay per Click Ads                  8721 non-null   uint8  \n",
      " 15  Lead Source_Press_Release                      8721 non-null   uint8  \n",
      " 16  Lead Source_Reference                          8721 non-null   uint8  \n",
      " 17  Lead Source_Referral Sites                     8721 non-null   uint8  \n",
      " 18  Lead Source_Social Media                       8721 non-null   uint8  \n",
      " 19  Lead Source_WeLearn                            8721 non-null   uint8  \n",
      " 20  Lead Source_Welingak Website                   8721 non-null   uint8  \n",
      " 21  Lead Source_bing                               8721 non-null   uint8  \n",
      " 22  Lead Source_blog                               8721 non-null   uint8  \n",
      " 23  Lead Source_google                             8721 non-null   uint8  \n",
      " 24  Lead Source_testone                            8721 non-null   uint8  \n",
      " 25  Lead Source_welearnblog_Home                   8721 non-null   uint8  \n",
      " 26  Lead Source_youtubechannel                     8721 non-null   uint8  \n",
      " 27  Specialization_Industry Specializations        8721 non-null   uint8  \n",
      " 28  Specialization_Management Specializations      8721 non-null   uint8  \n",
      " 29  Last Notable Activity_Email Opened             8721 non-null   uint8  \n",
      " 30  Last Notable Activity_Modified                 8721 non-null   uint8  \n",
      " 31  Last Notable Activity_Olark Chat Conversation  8721 non-null   uint8  \n",
      " 32  Last Notable Activity_Other Activities         8721 non-null   uint8  \n",
      " 33  Last Notable Activity_Page Visited on Website  8721 non-null   uint8  \n",
      " 34  Last Notable Activity_SMS Sent                 8721 non-null   uint8  \n",
      " 35  occupation_Unemployed                          8721 non-null   uint8  \n",
      " 36  occupation_Working Professional                8721 non-null   uint8  \n",
      " 37  City_Non-Maharashtra Cities                    8721 non-null   uint8  \n",
      " 38  City_Non-Mumbai Maharashtra Cities             8721 non-null   uint8  \n",
      "dtypes: float64(2), int64(2), uint8(35)\n",
      "memory usage: 896.8 KB\n"
     ]
    }
   ],
   "source": [
    "# Let's check the basic info of our dataframe again\n",
    "leads.info()"
   ]
  },
  {
   "cell_type": "markdown",
   "id": "bfec48b7",
   "metadata": {},
   "source": [
    "##### Let's move on to Splitting the dataset into Train and Test Data Set"
   ]
  },
  {
   "cell_type": "code",
   "execution_count": 878,
   "id": "86fc44ce",
   "metadata": {},
   "outputs": [],
   "source": [
    "# Importing necessary libraries\n",
    "from sklearn.model_selection import train_test_split"
   ]
  },
  {
   "cell_type": "code",
   "execution_count": 879,
   "id": "2b94c5bb",
   "metadata": {},
   "outputs": [],
   "source": [
    "# Assigning target variable to y\n",
    "y = leads['Converted']\n",
    "\n",
    "# Putting Rest of the features in X\n",
    "X=leads.drop('Converted', axis=1)"
   ]
  },
  {
   "cell_type": "code",
   "execution_count": 880,
   "id": "fdd52e2c",
   "metadata": {},
   "outputs": [],
   "source": [
    "# Splitting the data into train and test\n",
    "X_train, X_test, y_train, y_test = train_test_split(X, y, train_size=0.7, test_size=0.3, random_state=100)"
   ]
  },
  {
   "cell_type": "code",
   "execution_count": 881,
   "id": "41254f0c",
   "metadata": {},
   "outputs": [
    {
     "name": "stdout",
     "output_type": "stream",
     "text": [
      "<class 'pandas.core.frame.DataFrame'>\n",
      "Int64Index: 6104 entries, 7220 to 5991\n",
      "Data columns (total 38 columns):\n",
      " #   Column                                         Non-Null Count  Dtype  \n",
      "---  ------                                         --------------  -----  \n",
      " 0   TotalVisits                                    6104 non-null   float64\n",
      " 1   Total Time Spent on Website                    6104 non-null   int64  \n",
      " 2   Page Views Per Visit                           6104 non-null   float64\n",
      " 3   Lead Origin_Landing Page Submission            6104 non-null   uint8  \n",
      " 4   Lead Origin_Lead Add Form                      6104 non-null   uint8  \n",
      " 5   Lead Origin_Lead Import                        6104 non-null   uint8  \n",
      " 6   Lead Source_Direct Traffic                     6104 non-null   uint8  \n",
      " 7   Lead Source_Facebook                           6104 non-null   uint8  \n",
      " 8   Lead Source_Google                             6104 non-null   uint8  \n",
      " 9   Lead Source_Live Chat                          6104 non-null   uint8  \n",
      " 10  Lead Source_NC_EDM                             6104 non-null   uint8  \n",
      " 11  Lead Source_Olark Chat                         6104 non-null   uint8  \n",
      " 12  Lead Source_Organic Search                     6104 non-null   uint8  \n",
      " 13  Lead Source_Pay per Click Ads                  6104 non-null   uint8  \n",
      " 14  Lead Source_Press_Release                      6104 non-null   uint8  \n",
      " 15  Lead Source_Reference                          6104 non-null   uint8  \n",
      " 16  Lead Source_Referral Sites                     6104 non-null   uint8  \n",
      " 17  Lead Source_Social Media                       6104 non-null   uint8  \n",
      " 18  Lead Source_WeLearn                            6104 non-null   uint8  \n",
      " 19  Lead Source_Welingak Website                   6104 non-null   uint8  \n",
      " 20  Lead Source_bing                               6104 non-null   uint8  \n",
      " 21  Lead Source_blog                               6104 non-null   uint8  \n",
      " 22  Lead Source_google                             6104 non-null   uint8  \n",
      " 23  Lead Source_testone                            6104 non-null   uint8  \n",
      " 24  Lead Source_welearnblog_Home                   6104 non-null   uint8  \n",
      " 25  Lead Source_youtubechannel                     6104 non-null   uint8  \n",
      " 26  Specialization_Industry Specializations        6104 non-null   uint8  \n",
      " 27  Specialization_Management Specializations      6104 non-null   uint8  \n",
      " 28  Last Notable Activity_Email Opened             6104 non-null   uint8  \n",
      " 29  Last Notable Activity_Modified                 6104 non-null   uint8  \n",
      " 30  Last Notable Activity_Olark Chat Conversation  6104 non-null   uint8  \n",
      " 31  Last Notable Activity_Other Activities         6104 non-null   uint8  \n",
      " 32  Last Notable Activity_Page Visited on Website  6104 non-null   uint8  \n",
      " 33  Last Notable Activity_SMS Sent                 6104 non-null   uint8  \n",
      " 34  occupation_Unemployed                          6104 non-null   uint8  \n",
      " 35  occupation_Working Professional                6104 non-null   uint8  \n",
      " 36  City_Non-Maharashtra Cities                    6104 non-null   uint8  \n",
      " 37  City_Non-Mumbai Maharashtra Cities             6104 non-null   uint8  \n",
      "dtypes: float64(2), int64(1), uint8(35)\n",
      "memory usage: 399.4 KB\n"
     ]
    }
   ],
   "source": [
    "X_train.info()"
   ]
  },
  {
   "cell_type": "markdown",
   "id": "fe3f4031",
   "metadata": {},
   "source": [
    "**Scaling the columns**"
   ]
  },
  {
   "cell_type": "code",
   "execution_count": 882,
   "id": "288aa509",
   "metadata": {},
   "outputs": [
    {
     "data": {
      "text/html": [
       "<div>\n",
       "<style scoped>\n",
       "    .dataframe tbody tr th:only-of-type {\n",
       "        vertical-align: middle;\n",
       "    }\n",
       "\n",
       "    .dataframe tbody tr th {\n",
       "        vertical-align: top;\n",
       "    }\n",
       "\n",
       "    .dataframe thead th {\n",
       "        text-align: right;\n",
       "    }\n",
       "</style>\n",
       "<table border=\"1\" class=\"dataframe\">\n",
       "  <thead>\n",
       "    <tr style=\"text-align: right;\">\n",
       "      <th></th>\n",
       "      <th>TotalVisits</th>\n",
       "      <th>Total Time Spent on Website</th>\n",
       "      <th>Page Views Per Visit</th>\n",
       "      <th>Lead Origin_Landing Page Submission</th>\n",
       "      <th>Lead Origin_Lead Add Form</th>\n",
       "      <th>Lead Origin_Lead Import</th>\n",
       "      <th>Lead Source_Direct Traffic</th>\n",
       "      <th>Lead Source_Facebook</th>\n",
       "      <th>Lead Source_Google</th>\n",
       "      <th>Lead Source_Live Chat</th>\n",
       "      <th>...</th>\n",
       "      <th>Last Notable Activity_Email Opened</th>\n",
       "      <th>Last Notable Activity_Modified</th>\n",
       "      <th>Last Notable Activity_Olark Chat Conversation</th>\n",
       "      <th>Last Notable Activity_Other Activities</th>\n",
       "      <th>Last Notable Activity_Page Visited on Website</th>\n",
       "      <th>Last Notable Activity_SMS Sent</th>\n",
       "      <th>occupation_Unemployed</th>\n",
       "      <th>occupation_Working Professional</th>\n",
       "      <th>City_Non-Maharashtra Cities</th>\n",
       "      <th>City_Non-Mumbai Maharashtra Cities</th>\n",
       "    </tr>\n",
       "  </thead>\n",
       "  <tbody>\n",
       "    <tr>\n",
       "      <th>7220</th>\n",
       "      <td>0.436186</td>\n",
       "      <td>2.091938</td>\n",
       "      <td>0.918347</td>\n",
       "      <td>1</td>\n",
       "      <td>0</td>\n",
       "      <td>0</td>\n",
       "      <td>1</td>\n",
       "      <td>0</td>\n",
       "      <td>0</td>\n",
       "      <td>0</td>\n",
       "      <td>...</td>\n",
       "      <td>1</td>\n",
       "      <td>0</td>\n",
       "      <td>0</td>\n",
       "      <td>0</td>\n",
       "      <td>0</td>\n",
       "      <td>0</td>\n",
       "      <td>1</td>\n",
       "      <td>0</td>\n",
       "      <td>1</td>\n",
       "      <td>0</td>\n",
       "    </tr>\n",
       "    <tr>\n",
       "      <th>3383</th>\n",
       "      <td>0.028331</td>\n",
       "      <td>0.230687</td>\n",
       "      <td>0.391804</td>\n",
       "      <td>1</td>\n",
       "      <td>0</td>\n",
       "      <td>0</td>\n",
       "      <td>0</td>\n",
       "      <td>0</td>\n",
       "      <td>0</td>\n",
       "      <td>0</td>\n",
       "      <td>...</td>\n",
       "      <td>0</td>\n",
       "      <td>0</td>\n",
       "      <td>0</td>\n",
       "      <td>0</td>\n",
       "      <td>0</td>\n",
       "      <td>1</td>\n",
       "      <td>1</td>\n",
       "      <td>0</td>\n",
       "      <td>1</td>\n",
       "      <td>0</td>\n",
       "    </tr>\n",
       "    <tr>\n",
       "      <th>770</th>\n",
       "      <td>0.436186</td>\n",
       "      <td>-0.244329</td>\n",
       "      <td>0.918347</td>\n",
       "      <td>1</td>\n",
       "      <td>0</td>\n",
       "      <td>0</td>\n",
       "      <td>0</td>\n",
       "      <td>0</td>\n",
       "      <td>1</td>\n",
       "      <td>0</td>\n",
       "      <td>...</td>\n",
       "      <td>0</td>\n",
       "      <td>0</td>\n",
       "      <td>0</td>\n",
       "      <td>0</td>\n",
       "      <td>0</td>\n",
       "      <td>1</td>\n",
       "      <td>1</td>\n",
       "      <td>0</td>\n",
       "      <td>1</td>\n",
       "      <td>0</td>\n",
       "    </tr>\n",
       "    <tr>\n",
       "      <th>5785</th>\n",
       "      <td>-1.195236</td>\n",
       "      <td>-0.876452</td>\n",
       "      <td>-1.187826</td>\n",
       "      <td>0</td>\n",
       "      <td>1</td>\n",
       "      <td>0</td>\n",
       "      <td>0</td>\n",
       "      <td>0</td>\n",
       "      <td>0</td>\n",
       "      <td>0</td>\n",
       "      <td>...</td>\n",
       "      <td>0</td>\n",
       "      <td>0</td>\n",
       "      <td>0</td>\n",
       "      <td>0</td>\n",
       "      <td>0</td>\n",
       "      <td>1</td>\n",
       "      <td>0</td>\n",
       "      <td>1</td>\n",
       "      <td>1</td>\n",
       "      <td>0</td>\n",
       "    </tr>\n",
       "    <tr>\n",
       "      <th>5252</th>\n",
       "      <td>1.251898</td>\n",
       "      <td>-0.464278</td>\n",
       "      <td>-0.134740</td>\n",
       "      <td>1</td>\n",
       "      <td>0</td>\n",
       "      <td>0</td>\n",
       "      <td>1</td>\n",
       "      <td>0</td>\n",
       "      <td>0</td>\n",
       "      <td>0</td>\n",
       "      <td>...</td>\n",
       "      <td>0</td>\n",
       "      <td>0</td>\n",
       "      <td>0</td>\n",
       "      <td>0</td>\n",
       "      <td>0</td>\n",
       "      <td>1</td>\n",
       "      <td>1</td>\n",
       "      <td>0</td>\n",
       "      <td>0</td>\n",
       "      <td>0</td>\n",
       "    </tr>\n",
       "  </tbody>\n",
       "</table>\n",
       "<p>5 rows × 38 columns</p>\n",
       "</div>"
      ],
      "text/plain": [
       "      TotalVisits  Total Time Spent on Website  Page Views Per Visit  \\\n",
       "7220     0.436186                     2.091938              0.918347   \n",
       "3383     0.028331                     0.230687              0.391804   \n",
       "770      0.436186                    -0.244329              0.918347   \n",
       "5785    -1.195236                    -0.876452             -1.187826   \n",
       "5252     1.251898                    -0.464278             -0.134740   \n",
       "\n",
       "      Lead Origin_Landing Page Submission  Lead Origin_Lead Add Form  \\\n",
       "7220                                    1                          0   \n",
       "3383                                    1                          0   \n",
       "770                                     1                          0   \n",
       "5785                                    0                          1   \n",
       "5252                                    1                          0   \n",
       "\n",
       "      Lead Origin_Lead Import  Lead Source_Direct Traffic  \\\n",
       "7220                        0                           1   \n",
       "3383                        0                           0   \n",
       "770                         0                           0   \n",
       "5785                        0                           0   \n",
       "5252                        0                           1   \n",
       "\n",
       "      Lead Source_Facebook  Lead Source_Google  Lead Source_Live Chat  ...  \\\n",
       "7220                     0                   0                      0  ...   \n",
       "3383                     0                   0                      0  ...   \n",
       "770                      0                   1                      0  ...   \n",
       "5785                     0                   0                      0  ...   \n",
       "5252                     0                   0                      0  ...   \n",
       "\n",
       "      Last Notable Activity_Email Opened  Last Notable Activity_Modified  \\\n",
       "7220                                   1                               0   \n",
       "3383                                   0                               0   \n",
       "770                                    0                               0   \n",
       "5785                                   0                               0   \n",
       "5252                                   0                               0   \n",
       "\n",
       "      Last Notable Activity_Olark Chat Conversation  \\\n",
       "7220                                              0   \n",
       "3383                                              0   \n",
       "770                                               0   \n",
       "5785                                              0   \n",
       "5252                                              0   \n",
       "\n",
       "      Last Notable Activity_Other Activities  \\\n",
       "7220                                       0   \n",
       "3383                                       0   \n",
       "770                                        0   \n",
       "5785                                       0   \n",
       "5252                                       0   \n",
       "\n",
       "      Last Notable Activity_Page Visited on Website  \\\n",
       "7220                                              0   \n",
       "3383                                              0   \n",
       "770                                               0   \n",
       "5785                                              0   \n",
       "5252                                              0   \n",
       "\n",
       "      Last Notable Activity_SMS Sent  occupation_Unemployed  \\\n",
       "7220                               0                      1   \n",
       "3383                               1                      1   \n",
       "770                                1                      1   \n",
       "5785                               1                      0   \n",
       "5252                               1                      1   \n",
       "\n",
       "      occupation_Working Professional  City_Non-Maharashtra Cities  \\\n",
       "7220                                0                            1   \n",
       "3383                                0                            1   \n",
       "770                                 0                            1   \n",
       "5785                                1                            1   \n",
       "5252                                0                            0   \n",
       "\n",
       "      City_Non-Mumbai Maharashtra Cities  \n",
       "7220                                   0  \n",
       "3383                                   0  \n",
       "770                                    0  \n",
       "5785                                   0  \n",
       "5252                                   0  \n",
       "\n",
       "[5 rows x 38 columns]"
      ]
     },
     "execution_count": 882,
     "metadata": {},
     "output_type": "execute_result"
    }
   ],
   "source": [
    "# scaling the numeric columns in train data set\n",
    "# Let's import necessary libraries\n",
    "from sklearn.preprocessing import StandardScaler\n",
    "\n",
    "scaler = StandardScaler()\n",
    "\n",
    "num_cols=X_train.select_dtypes(include=['float64', 'int64']).columns\n",
    "\n",
    "X_train[num_cols] = scaler.fit_transform(X_train[num_cols])\n",
    "\n",
    "X_train.head()"
   ]
  },
  {
   "cell_type": "markdown",
   "id": "f3f248fd",
   "metadata": {},
   "source": [
    "### Step 5: Model Building:"
   ]
  },
  {
   "cell_type": "markdown",
   "id": "cff60e80",
   "metadata": {},
   "source": [
    "**Using statsmodel and RFE for model building here**"
   ]
  },
  {
   "cell_type": "code",
   "execution_count": 883,
   "id": "e0a41da5",
   "metadata": {},
   "outputs": [],
   "source": [
    "# Importing necessary libraries\n",
    "import statsmodels.api as sm\n",
    "from sklearn.linear_model import LogisticRegression\n",
    "logreg = LogisticRegression()\n",
    "\n",
    "# We shall use RFE for selecting features that are most relevant in predicting the target variable\n",
    "from sklearn.feature_selection import RFE\n",
    "\n",
    "# We want 15 most reelevant columns here\n",
    "rfe = RFE(logreg, 15)             \n",
    "rfe = rfe.fit(X_train, y_train)"
   ]
  },
  {
   "cell_type": "code",
   "execution_count": 884,
   "id": "16076520",
   "metadata": {},
   "outputs": [
    {
     "data": {
      "text/plain": [
       "[('TotalVisits', False, 7),\n",
       " ('Total Time Spent on Website', True, 1),\n",
       " ('Page Views Per Visit', False, 8),\n",
       " ('Lead Origin_Landing Page Submission', False, 15),\n",
       " ('Lead Origin_Lead Add Form', True, 1),\n",
       " ('Lead Origin_Lead Import', True, 1),\n",
       " ('Lead Source_Direct Traffic', True, 1),\n",
       " ('Lead Source_Facebook', False, 19),\n",
       " ('Lead Source_Google', True, 1),\n",
       " ('Lead Source_Live Chat', False, 13),\n",
       " ('Lead Source_NC_EDM', False, 9),\n",
       " ('Lead Source_Olark Chat', False, 5),\n",
       " ('Lead Source_Organic Search', True, 1),\n",
       " ('Lead Source_Pay per Click Ads', False, 12),\n",
       " ('Lead Source_Press_Release', False, 14),\n",
       " ('Lead Source_Reference', True, 1),\n",
       " ('Lead Source_Referral Sites', True, 1),\n",
       " ('Lead Source_Social Media', True, 1),\n",
       " ('Lead Source_WeLearn', False, 6),\n",
       " ('Lead Source_Welingak Website', True, 1),\n",
       " ('Lead Source_bing', False, 11),\n",
       " ('Lead Source_blog', False, 24),\n",
       " ('Lead Source_google', False, 17),\n",
       " ('Lead Source_testone', False, 10),\n",
       " ('Lead Source_welearnblog_Home', True, 1),\n",
       " ('Lead Source_youtubechannel', False, 23),\n",
       " ('Specialization_Industry Specializations', False, 16),\n",
       " ('Specialization_Management Specializations', False, 22),\n",
       " ('Last Notable Activity_Email Opened', False, 4),\n",
       " ('Last Notable Activity_Modified', True, 1),\n",
       " ('Last Notable Activity_Olark Chat Conversation', True, 1),\n",
       " ('Last Notable Activity_Other Activities', False, 3),\n",
       " ('Last Notable Activity_Page Visited on Website', False, 18),\n",
       " ('Last Notable Activity_SMS Sent', True, 1),\n",
       " ('occupation_Unemployed', False, 2),\n",
       " ('occupation_Working Professional', True, 1),\n",
       " ('City_Non-Maharashtra Cities', False, 21),\n",
       " ('City_Non-Mumbai Maharashtra Cities', False, 20)]"
      ]
     },
     "execution_count": 884,
     "metadata": {},
     "output_type": "execute_result"
    }
   ],
   "source": [
    "# Let's see all the 15 chosen columns in a zipped list with their ranks\n",
    "list(zip(X_train.columns, rfe.support_, rfe.ranking_))"
   ]
  },
  {
   "cell_type": "markdown",
   "id": "44e760b4",
   "metadata": {},
   "source": [
    "**All the columns with value True and 1 have been selected among the most relevant 15 features**"
   ]
  },
  {
   "cell_type": "code",
   "execution_count": 885,
   "id": "71104f9a",
   "metadata": {},
   "outputs": [
    {
     "data": {
      "text/plain": [
       "Index(['Total Time Spent on Website', 'Lead Origin_Lead Add Form',\n",
       "       'Lead Origin_Lead Import', 'Lead Source_Direct Traffic',\n",
       "       'Lead Source_Google', 'Lead Source_Organic Search',\n",
       "       'Lead Source_Reference', 'Lead Source_Referral Sites',\n",
       "       'Lead Source_Social Media', 'Lead Source_Welingak Website',\n",
       "       'Lead Source_welearnblog_Home', 'Last Notable Activity_Modified',\n",
       "       'Last Notable Activity_Olark Chat Conversation',\n",
       "       'Last Notable Activity_SMS Sent', 'occupation_Working Professional'],\n",
       "      dtype='object')"
      ]
     },
     "execution_count": 885,
     "metadata": {},
     "output_type": "execute_result"
    }
   ],
   "source": [
    "# let's list the RFE supported columns\n",
    "col = X_train.columns[rfe.support_]\n",
    "col"
   ]
  },
  {
   "cell_type": "markdown",
   "id": "b75823b9",
   "metadata": {},
   "source": [
    "- Out of 38 columns now we have above 15 columns.\n",
    "- Rest of the columns have been dropped from train dataset."
   ]
  },
  {
   "cell_type": "markdown",
   "id": "36bdb839",
   "metadata": {},
   "source": [
    "**Model 1**"
   ]
  },
  {
   "cell_type": "code",
   "execution_count": 886,
   "id": "8a92b618",
   "metadata": {},
   "outputs": [
    {
     "data": {
      "text/html": [
       "<table class=\"simpletable\">\n",
       "<caption>Generalized Linear Model Regression Results</caption>\n",
       "<tr>\n",
       "  <th>Dep. Variable:</th>       <td>Converted</td>    <th>  No. Observations:  </th>  <td>  6104</td> \n",
       "</tr>\n",
       "<tr>\n",
       "  <th>Model:</th>                  <td>GLM</td>       <th>  Df Residuals:      </th>  <td>  6088</td> \n",
       "</tr>\n",
       "<tr>\n",
       "  <th>Model Family:</th>        <td>Binomial</td>     <th>  Df Model:          </th>  <td>    15</td> \n",
       "</tr>\n",
       "<tr>\n",
       "  <th>Link Function:</th>         <td>logit</td>      <th>  Scale:             </th> <td>  1.0000</td>\n",
       "</tr>\n",
       "<tr>\n",
       "  <th>Method:</th>                <td>IRLS</td>       <th>  Log-Likelihood:    </th> <td> -2700.5</td>\n",
       "</tr>\n",
       "<tr>\n",
       "  <th>Date:</th>            <td>Sun, 29 May 2022</td> <th>  Deviance:          </th> <td>  5401.0</td>\n",
       "</tr>\n",
       "<tr>\n",
       "  <th>Time:</th>                <td>17:32:27</td>     <th>  Pearson chi2:      </th> <td>6.27e+03</td>\n",
       "</tr>\n",
       "<tr>\n",
       "  <th>No. Iterations:</th>         <td>19</td>        <th>                     </th>     <td> </td>   \n",
       "</tr>\n",
       "<tr>\n",
       "  <th>Covariance Type:</th>     <td>nonrobust</td>    <th>                     </th>     <td> </td>   \n",
       "</tr>\n",
       "</table>\n",
       "<table class=\"simpletable\">\n",
       "<tr>\n",
       "                        <td></td>                           <th>coef</th>     <th>std err</th>      <th>z</th>      <th>P>|z|</th>  <th>[0.025</th>    <th>0.975]</th>  \n",
       "</tr>\n",
       "<tr>\n",
       "  <th>const</th>                                         <td>   -0.3078</td> <td>    0.092</td> <td>   -3.344</td> <td> 0.001</td> <td>   -0.488</td> <td>   -0.127</td>\n",
       "</tr>\n",
       "<tr>\n",
       "  <th>Total Time Spent on Website</th>                   <td>    1.0947</td> <td>    0.039</td> <td>   27.765</td> <td> 0.000</td> <td>    1.017</td> <td>    1.172</td>\n",
       "</tr>\n",
       "<tr>\n",
       "  <th>Lead Origin_Lead Add Form</th>                     <td>    1.0490</td> <td>    0.993</td> <td>    1.057</td> <td> 0.291</td> <td>   -0.897</td> <td>    2.995</td>\n",
       "</tr>\n",
       "<tr>\n",
       "  <th>Lead Origin_Lead Import</th>                       <td>    0.4888</td> <td>    0.489</td> <td>    0.999</td> <td> 0.318</td> <td>   -0.470</td> <td>    1.448</td>\n",
       "</tr>\n",
       "<tr>\n",
       "  <th>Lead Source_Direct Traffic</th>                    <td>   -1.2229</td> <td>    0.111</td> <td>  -11.051</td> <td> 0.000</td> <td>   -1.440</td> <td>   -1.006</td>\n",
       "</tr>\n",
       "<tr>\n",
       "  <th>Lead Source_Google</th>                            <td>   -0.7530</td> <td>    0.106</td> <td>   -7.114</td> <td> 0.000</td> <td>   -0.960</td> <td>   -0.545</td>\n",
       "</tr>\n",
       "<tr>\n",
       "  <th>Lead Source_Organic Search</th>                    <td>   -0.9652</td> <td>    0.131</td> <td>   -7.342</td> <td> 0.000</td> <td>   -1.223</td> <td>   -0.708</td>\n",
       "</tr>\n",
       "<tr>\n",
       "  <th>Lead Source_Reference</th>                         <td>    2.4461</td> <td>    1.020</td> <td>    2.397</td> <td> 0.017</td> <td>    0.446</td> <td>    4.446</td>\n",
       "</tr>\n",
       "<tr>\n",
       "  <th>Lead Source_Referral Sites</th>                    <td>   -0.9638</td> <td>    0.321</td> <td>   -3.005</td> <td> 0.003</td> <td>   -1.592</td> <td>   -0.335</td>\n",
       "</tr>\n",
       "<tr>\n",
       "  <th>Lead Source_Social Media</th>                      <td>    0.9211</td> <td>    1.528</td> <td>    0.603</td> <td> 0.547</td> <td>   -2.074</td> <td>    3.916</td>\n",
       "</tr>\n",
       "<tr>\n",
       "  <th>Lead Source_Welingak Website</th>                  <td>    4.5326</td> <td>    1.416</td> <td>    3.202</td> <td> 0.001</td> <td>    1.758</td> <td>    7.307</td>\n",
       "</tr>\n",
       "<tr>\n",
       "  <th>Lead Source_welearnblog_Home</th>                  <td>  -20.0434</td> <td> 1.77e+04</td> <td>   -0.001</td> <td> 0.999</td> <td>-3.48e+04</td> <td> 3.47e+04</td>\n",
       "</tr>\n",
       "<tr>\n",
       "  <th>Last Notable Activity_Modified</th>                <td>   -0.7728</td> <td>    0.082</td> <td>   -9.448</td> <td> 0.000</td> <td>   -0.933</td> <td>   -0.612</td>\n",
       "</tr>\n",
       "<tr>\n",
       "  <th>Last Notable Activity_Olark Chat Conversation</th> <td>   -1.7023</td> <td>    0.321</td> <td>   -5.305</td> <td> 0.000</td> <td>   -2.331</td> <td>   -1.073</td>\n",
       "</tr>\n",
       "<tr>\n",
       "  <th>Last Notable Activity_SMS Sent</th>                <td>    1.4331</td> <td>    0.085</td> <td>   16.856</td> <td> 0.000</td> <td>    1.266</td> <td>    1.600</td>\n",
       "</tr>\n",
       "<tr>\n",
       "  <th>occupation_Working Professional</th>               <td>    1.4143</td> <td>    0.111</td> <td>   12.777</td> <td> 0.000</td> <td>    1.197</td> <td>    1.631</td>\n",
       "</tr>\n",
       "</table>"
      ],
      "text/plain": [
       "<class 'statsmodels.iolib.summary.Summary'>\n",
       "\"\"\"\n",
       "                 Generalized Linear Model Regression Results                  \n",
       "==============================================================================\n",
       "Dep. Variable:              Converted   No. Observations:                 6104\n",
       "Model:                            GLM   Df Residuals:                     6088\n",
       "Model Family:                Binomial   Df Model:                           15\n",
       "Link Function:                  logit   Scale:                          1.0000\n",
       "Method:                          IRLS   Log-Likelihood:                -2700.5\n",
       "Date:                Sun, 29 May 2022   Deviance:                       5401.0\n",
       "Time:                        17:32:27   Pearson chi2:                 6.27e+03\n",
       "No. Iterations:                    19                                         \n",
       "Covariance Type:            nonrobust                                         \n",
       "=================================================================================================================\n",
       "                                                    coef    std err          z      P>|z|      [0.025      0.975]\n",
       "-----------------------------------------------------------------------------------------------------------------\n",
       "const                                            -0.3078      0.092     -3.344      0.001      -0.488      -0.127\n",
       "Total Time Spent on Website                       1.0947      0.039     27.765      0.000       1.017       1.172\n",
       "Lead Origin_Lead Add Form                         1.0490      0.993      1.057      0.291      -0.897       2.995\n",
       "Lead Origin_Lead Import                           0.4888      0.489      0.999      0.318      -0.470       1.448\n",
       "Lead Source_Direct Traffic                       -1.2229      0.111    -11.051      0.000      -1.440      -1.006\n",
       "Lead Source_Google                               -0.7530      0.106     -7.114      0.000      -0.960      -0.545\n",
       "Lead Source_Organic Search                       -0.9652      0.131     -7.342      0.000      -1.223      -0.708\n",
       "Lead Source_Reference                             2.4461      1.020      2.397      0.017       0.446       4.446\n",
       "Lead Source_Referral Sites                       -0.9638      0.321     -3.005      0.003      -1.592      -0.335\n",
       "Lead Source_Social Media                          0.9211      1.528      0.603      0.547      -2.074       3.916\n",
       "Lead Source_Welingak Website                      4.5326      1.416      3.202      0.001       1.758       7.307\n",
       "Lead Source_welearnblog_Home                    -20.0434   1.77e+04     -0.001      0.999   -3.48e+04    3.47e+04\n",
       "Last Notable Activity_Modified                   -0.7728      0.082     -9.448      0.000      -0.933      -0.612\n",
       "Last Notable Activity_Olark Chat Conversation    -1.7023      0.321     -5.305      0.000      -2.331      -1.073\n",
       "Last Notable Activity_SMS Sent                    1.4331      0.085     16.856      0.000       1.266       1.600\n",
       "occupation_Working Professional                   1.4143      0.111     12.777      0.000       1.197       1.631\n",
       "=================================================================================================================\n",
       "\"\"\""
      ]
     },
     "execution_count": 886,
     "metadata": {},
     "output_type": "execute_result"
    }
   ],
   "source": [
    "# Let's Fit a logistic Regression model on X_train after adding a constant and output the summary\n",
    "X_train_sm = sm.add_constant(X_train[col])\n",
    "logm1 = sm.GLM(y_train, X_train_sm, family = sm.families.Binomial())\n",
    "res = logm1.fit()\n",
    "res.summary()"
   ]
  },
  {
   "cell_type": "markdown",
   "id": "f1bf7439",
   "metadata": {},
   "source": [
    "- p-value for 'Lead Source_welearnblog_Home' is high. Let's drop it"
   ]
  },
  {
   "cell_type": "code",
   "execution_count": 887,
   "id": "288d82da",
   "metadata": {},
   "outputs": [],
   "source": [
    "#dropping column with high p-value\n",
    "\n",
    "col = col.drop('Lead Source_welearnblog_Home',1)"
   ]
  },
  {
   "cell_type": "markdown",
   "id": "aa7f9254",
   "metadata": {},
   "source": [
    "**Model 2**"
   ]
  },
  {
   "cell_type": "code",
   "execution_count": 888,
   "id": "75ba8d1d",
   "metadata": {},
   "outputs": [
    {
     "data": {
      "text/html": [
       "<table class=\"simpletable\">\n",
       "<caption>Generalized Linear Model Regression Results</caption>\n",
       "<tr>\n",
       "  <th>Dep. Variable:</th>       <td>Converted</td>    <th>  No. Observations:  </th>  <td>  6104</td> \n",
       "</tr>\n",
       "<tr>\n",
       "  <th>Model:</th>                  <td>GLM</td>       <th>  Df Residuals:      </th>  <td>  6089</td> \n",
       "</tr>\n",
       "<tr>\n",
       "  <th>Model Family:</th>        <td>Binomial</td>     <th>  Df Model:          </th>  <td>    14</td> \n",
       "</tr>\n",
       "<tr>\n",
       "  <th>Link Function:</th>         <td>logit</td>      <th>  Scale:             </th> <td>  1.0000</td>\n",
       "</tr>\n",
       "<tr>\n",
       "  <th>Method:</th>                <td>IRLS</td>       <th>  Log-Likelihood:    </th> <td> -2701.0</td>\n",
       "</tr>\n",
       "<tr>\n",
       "  <th>Date:</th>            <td>Sun, 29 May 2022</td> <th>  Deviance:          </th> <td>  5402.0</td>\n",
       "</tr>\n",
       "<tr>\n",
       "  <th>Time:</th>                <td>17:32:27</td>     <th>  Pearson chi2:      </th> <td>6.27e+03</td>\n",
       "</tr>\n",
       "<tr>\n",
       "  <th>No. Iterations:</th>          <td>7</td>        <th>                     </th>     <td> </td>   \n",
       "</tr>\n",
       "<tr>\n",
       "  <th>Covariance Type:</th>     <td>nonrobust</td>    <th>                     </th>     <td> </td>   \n",
       "</tr>\n",
       "</table>\n",
       "<table class=\"simpletable\">\n",
       "<tr>\n",
       "                        <td></td>                           <th>coef</th>     <th>std err</th>      <th>z</th>      <th>P>|z|</th>  <th>[0.025</th>    <th>0.975]</th>  \n",
       "</tr>\n",
       "<tr>\n",
       "  <th>const</th>                                         <td>   -0.3109</td> <td>    0.092</td> <td>   -3.379</td> <td> 0.001</td> <td>   -0.491</td> <td>   -0.131</td>\n",
       "</tr>\n",
       "<tr>\n",
       "  <th>Total Time Spent on Website</th>                   <td>    1.0943</td> <td>    0.039</td> <td>   27.762</td> <td> 0.000</td> <td>    1.017</td> <td>    1.172</td>\n",
       "</tr>\n",
       "<tr>\n",
       "  <th>Lead Origin_Lead Add Form</th>                     <td>    1.0513</td> <td>    0.993</td> <td>    1.059</td> <td> 0.290</td> <td>   -0.895</td> <td>    2.997</td>\n",
       "</tr>\n",
       "<tr>\n",
       "  <th>Lead Origin_Lead Import</th>                       <td>    0.4912</td> <td>    0.489</td> <td>    1.004</td> <td> 0.315</td> <td>   -0.468</td> <td>    1.450</td>\n",
       "</tr>\n",
       "<tr>\n",
       "  <th>Lead Source_Direct Traffic</th>                    <td>   -1.2203</td> <td>    0.111</td> <td>  -11.032</td> <td> 0.000</td> <td>   -1.437</td> <td>   -1.003</td>\n",
       "</tr>\n",
       "<tr>\n",
       "  <th>Lead Source_Google</th>                            <td>   -0.7504</td> <td>    0.106</td> <td>   -7.092</td> <td> 0.000</td> <td>   -0.958</td> <td>   -0.543</td>\n",
       "</tr>\n",
       "<tr>\n",
       "  <th>Lead Source_Organic Search</th>                    <td>   -0.9627</td> <td>    0.131</td> <td>   -7.325</td> <td> 0.000</td> <td>   -1.220</td> <td>   -0.705</td>\n",
       "</tr>\n",
       "<tr>\n",
       "  <th>Lead Source_Reference</th>                         <td>    2.4458</td> <td>    1.020</td> <td>    2.397</td> <td> 0.017</td> <td>    0.446</td> <td>    4.446</td>\n",
       "</tr>\n",
       "<tr>\n",
       "  <th>Lead Source_Referral Sites</th>                    <td>   -0.9612</td> <td>    0.321</td> <td>   -2.998</td> <td> 0.003</td> <td>   -1.590</td> <td>   -0.333</td>\n",
       "</tr>\n",
       "<tr>\n",
       "  <th>Lead Source_Social Media</th>                      <td>    0.9231</td> <td>    1.528</td> <td>    0.604</td> <td> 0.546</td> <td>   -2.072</td> <td>    3.918</td>\n",
       "</tr>\n",
       "<tr>\n",
       "  <th>Lead Source_Welingak Website</th>                  <td>    4.5323</td> <td>    1.415</td> <td>    3.202</td> <td> 0.001</td> <td>    1.758</td> <td>    7.307</td>\n",
       "</tr>\n",
       "<tr>\n",
       "  <th>Last Notable Activity_Modified</th>                <td>   -0.7716</td> <td>    0.082</td> <td>   -9.435</td> <td> 0.000</td> <td>   -0.932</td> <td>   -0.611</td>\n",
       "</tr>\n",
       "<tr>\n",
       "  <th>Last Notable Activity_Olark Chat Conversation</th> <td>   -1.7002</td> <td>    0.321</td> <td>   -5.298</td> <td> 0.000</td> <td>   -2.329</td> <td>   -1.071</td>\n",
       "</tr>\n",
       "<tr>\n",
       "  <th>Last Notable Activity_SMS Sent</th>                <td>    1.4341</td> <td>    0.085</td> <td>   16.868</td> <td> 0.000</td> <td>    1.267</td> <td>    1.601</td>\n",
       "</tr>\n",
       "<tr>\n",
       "  <th>occupation_Working Professional</th>               <td>    1.4148</td> <td>    0.111</td> <td>   12.782</td> <td> 0.000</td> <td>    1.198</td> <td>    1.632</td>\n",
       "</tr>\n",
       "</table>"
      ],
      "text/plain": [
       "<class 'statsmodels.iolib.summary.Summary'>\n",
       "\"\"\"\n",
       "                 Generalized Linear Model Regression Results                  \n",
       "==============================================================================\n",
       "Dep. Variable:              Converted   No. Observations:                 6104\n",
       "Model:                            GLM   Df Residuals:                     6089\n",
       "Model Family:                Binomial   Df Model:                           14\n",
       "Link Function:                  logit   Scale:                          1.0000\n",
       "Method:                          IRLS   Log-Likelihood:                -2701.0\n",
       "Date:                Sun, 29 May 2022   Deviance:                       5402.0\n",
       "Time:                        17:32:27   Pearson chi2:                 6.27e+03\n",
       "No. Iterations:                     7                                         \n",
       "Covariance Type:            nonrobust                                         \n",
       "=================================================================================================================\n",
       "                                                    coef    std err          z      P>|z|      [0.025      0.975]\n",
       "-----------------------------------------------------------------------------------------------------------------\n",
       "const                                            -0.3109      0.092     -3.379      0.001      -0.491      -0.131\n",
       "Total Time Spent on Website                       1.0943      0.039     27.762      0.000       1.017       1.172\n",
       "Lead Origin_Lead Add Form                         1.0513      0.993      1.059      0.290      -0.895       2.997\n",
       "Lead Origin_Lead Import                           0.4912      0.489      1.004      0.315      -0.468       1.450\n",
       "Lead Source_Direct Traffic                       -1.2203      0.111    -11.032      0.000      -1.437      -1.003\n",
       "Lead Source_Google                               -0.7504      0.106     -7.092      0.000      -0.958      -0.543\n",
       "Lead Source_Organic Search                       -0.9627      0.131     -7.325      0.000      -1.220      -0.705\n",
       "Lead Source_Reference                             2.4458      1.020      2.397      0.017       0.446       4.446\n",
       "Lead Source_Referral Sites                       -0.9612      0.321     -2.998      0.003      -1.590      -0.333\n",
       "Lead Source_Social Media                          0.9231      1.528      0.604      0.546      -2.072       3.918\n",
       "Lead Source_Welingak Website                      4.5323      1.415      3.202      0.001       1.758       7.307\n",
       "Last Notable Activity_Modified                   -0.7716      0.082     -9.435      0.000      -0.932      -0.611\n",
       "Last Notable Activity_Olark Chat Conversation    -1.7002      0.321     -5.298      0.000      -2.329      -1.071\n",
       "Last Notable Activity_SMS Sent                    1.4341      0.085     16.868      0.000       1.267       1.601\n",
       "occupation_Working Professional                   1.4148      0.111     12.782      0.000       1.198       1.632\n",
       "=================================================================================================================\n",
       "\"\"\""
      ]
     },
     "execution_count": 888,
     "metadata": {},
     "output_type": "execute_result"
    }
   ],
   "source": [
    "# Let's build model 2\n",
    "X_train_sm = sm.add_constant(X_train[col])\n",
    "logm2 = sm.GLM(y_train,X_train_sm, family = sm.families.Binomial())\n",
    "res = logm2.fit()\n",
    "res.summary()"
   ]
  },
  {
   "cell_type": "markdown",
   "id": "feca48a4",
   "metadata": {},
   "source": [
    "- p-value for 'Lead Source_Social Media' is high. Let's drop it."
   ]
  },
  {
   "cell_type": "code",
   "execution_count": 889,
   "id": "55651031",
   "metadata": {},
   "outputs": [],
   "source": [
    "#dropping column with high p-value\n",
    "\n",
    "col = col.drop('Lead Source_Social Media',1)"
   ]
  },
  {
   "cell_type": "markdown",
   "id": "c1e96e90",
   "metadata": {},
   "source": [
    "**Model 3**"
   ]
  },
  {
   "cell_type": "code",
   "execution_count": 890,
   "id": "52ce193e",
   "metadata": {},
   "outputs": [
    {
     "data": {
      "text/html": [
       "<table class=\"simpletable\">\n",
       "<caption>Generalized Linear Model Regression Results</caption>\n",
       "<tr>\n",
       "  <th>Dep. Variable:</th>       <td>Converted</td>    <th>  No. Observations:  </th>  <td>  6104</td> \n",
       "</tr>\n",
       "<tr>\n",
       "  <th>Model:</th>                  <td>GLM</td>       <th>  Df Residuals:      </th>  <td>  6090</td> \n",
       "</tr>\n",
       "<tr>\n",
       "  <th>Model Family:</th>        <td>Binomial</td>     <th>  Df Model:          </th>  <td>    13</td> \n",
       "</tr>\n",
       "<tr>\n",
       "  <th>Link Function:</th>         <td>logit</td>      <th>  Scale:             </th> <td>  1.0000</td>\n",
       "</tr>\n",
       "<tr>\n",
       "  <th>Method:</th>                <td>IRLS</td>       <th>  Log-Likelihood:    </th> <td> -2701.2</td>\n",
       "</tr>\n",
       "<tr>\n",
       "  <th>Date:</th>            <td>Sun, 29 May 2022</td> <th>  Deviance:          </th> <td>  5402.3</td>\n",
       "</tr>\n",
       "<tr>\n",
       "  <th>Time:</th>                <td>17:32:27</td>     <th>  Pearson chi2:      </th> <td>6.27e+03</td>\n",
       "</tr>\n",
       "<tr>\n",
       "  <th>No. Iterations:</th>          <td>7</td>        <th>                     </th>     <td> </td>   \n",
       "</tr>\n",
       "<tr>\n",
       "  <th>Covariance Type:</th>     <td>nonrobust</td>    <th>                     </th>     <td> </td>   \n",
       "</tr>\n",
       "</table>\n",
       "<table class=\"simpletable\">\n",
       "<tr>\n",
       "                        <td></td>                           <th>coef</th>     <th>std err</th>      <th>z</th>      <th>P>|z|</th>  <th>[0.025</th>    <th>0.975]</th>  \n",
       "</tr>\n",
       "<tr>\n",
       "  <th>const</th>                                         <td>   -0.3088</td> <td>    0.092</td> <td>   -3.359</td> <td> 0.001</td> <td>   -0.489</td> <td>   -0.129</td>\n",
       "</tr>\n",
       "<tr>\n",
       "  <th>Total Time Spent on Website</th>                   <td>    1.0949</td> <td>    0.039</td> <td>   27.778</td> <td> 0.000</td> <td>    1.018</td> <td>    1.172</td>\n",
       "</tr>\n",
       "<tr>\n",
       "  <th>Lead Origin_Lead Add Form</th>                     <td>    1.0490</td> <td>    0.993</td> <td>    1.057</td> <td> 0.291</td> <td>   -0.897</td> <td>    2.995</td>\n",
       "</tr>\n",
       "<tr>\n",
       "  <th>Lead Origin_Lead Import</th>                       <td>    0.4893</td> <td>    0.489</td> <td>    1.000</td> <td> 0.317</td> <td>   -0.470</td> <td>    1.448</td>\n",
       "</tr>\n",
       "<tr>\n",
       "  <th>Lead Source_Direct Traffic</th>                    <td>   -1.2229</td> <td>    0.111</td> <td>  -11.065</td> <td> 0.000</td> <td>   -1.440</td> <td>   -1.006</td>\n",
       "</tr>\n",
       "<tr>\n",
       "  <th>Lead Source_Google</th>                            <td>   -0.7531</td> <td>    0.106</td> <td>   -7.125</td> <td> 0.000</td> <td>   -0.960</td> <td>   -0.546</td>\n",
       "</tr>\n",
       "<tr>\n",
       "  <th>Lead Source_Organic Search</th>                    <td>   -0.9654</td> <td>    0.131</td> <td>   -7.350</td> <td> 0.000</td> <td>   -1.223</td> <td>   -0.708</td>\n",
       "</tr>\n",
       "<tr>\n",
       "  <th>Lead Source_Reference</th>                         <td>    2.4459</td> <td>    1.020</td> <td>    2.397</td> <td> 0.017</td> <td>    0.446</td> <td>    4.446</td>\n",
       "</tr>\n",
       "<tr>\n",
       "  <th>Lead Source_Referral Sites</th>                    <td>   -0.9639</td> <td>    0.321</td> <td>   -3.006</td> <td> 0.003</td> <td>   -1.592</td> <td>   -0.335</td>\n",
       "</tr>\n",
       "<tr>\n",
       "  <th>Lead Source_Welingak Website</th>                  <td>    4.5323</td> <td>    1.415</td> <td>    3.202</td> <td> 0.001</td> <td>    1.758</td> <td>    7.307</td>\n",
       "</tr>\n",
       "<tr>\n",
       "  <th>Last Notable Activity_Modified</th>                <td>   -0.7703</td> <td>    0.082</td> <td>   -9.424</td> <td> 0.000</td> <td>   -0.931</td> <td>   -0.610</td>\n",
       "</tr>\n",
       "<tr>\n",
       "  <th>Last Notable Activity_Olark Chat Conversation</th> <td>   -1.7013</td> <td>    0.321</td> <td>   -5.302</td> <td> 0.000</td> <td>   -2.330</td> <td>   -1.072</td>\n",
       "</tr>\n",
       "<tr>\n",
       "  <th>Last Notable Activity_SMS Sent</th>                <td>    1.4342</td> <td>    0.085</td> <td>   16.869</td> <td> 0.000</td> <td>    1.268</td> <td>    1.601</td>\n",
       "</tr>\n",
       "<tr>\n",
       "  <th>occupation_Working Professional</th>               <td>    1.4142</td> <td>    0.111</td> <td>   12.778</td> <td> 0.000</td> <td>    1.197</td> <td>    1.631</td>\n",
       "</tr>\n",
       "</table>"
      ],
      "text/plain": [
       "<class 'statsmodels.iolib.summary.Summary'>\n",
       "\"\"\"\n",
       "                 Generalized Linear Model Regression Results                  \n",
       "==============================================================================\n",
       "Dep. Variable:              Converted   No. Observations:                 6104\n",
       "Model:                            GLM   Df Residuals:                     6090\n",
       "Model Family:                Binomial   Df Model:                           13\n",
       "Link Function:                  logit   Scale:                          1.0000\n",
       "Method:                          IRLS   Log-Likelihood:                -2701.2\n",
       "Date:                Sun, 29 May 2022   Deviance:                       5402.3\n",
       "Time:                        17:32:27   Pearson chi2:                 6.27e+03\n",
       "No. Iterations:                     7                                         \n",
       "Covariance Type:            nonrobust                                         \n",
       "=================================================================================================================\n",
       "                                                    coef    std err          z      P>|z|      [0.025      0.975]\n",
       "-----------------------------------------------------------------------------------------------------------------\n",
       "const                                            -0.3088      0.092     -3.359      0.001      -0.489      -0.129\n",
       "Total Time Spent on Website                       1.0949      0.039     27.778      0.000       1.018       1.172\n",
       "Lead Origin_Lead Add Form                         1.0490      0.993      1.057      0.291      -0.897       2.995\n",
       "Lead Origin_Lead Import                           0.4893      0.489      1.000      0.317      -0.470       1.448\n",
       "Lead Source_Direct Traffic                       -1.2229      0.111    -11.065      0.000      -1.440      -1.006\n",
       "Lead Source_Google                               -0.7531      0.106     -7.125      0.000      -0.960      -0.546\n",
       "Lead Source_Organic Search                       -0.9654      0.131     -7.350      0.000      -1.223      -0.708\n",
       "Lead Source_Reference                             2.4459      1.020      2.397      0.017       0.446       4.446\n",
       "Lead Source_Referral Sites                       -0.9639      0.321     -3.006      0.003      -1.592      -0.335\n",
       "Lead Source_Welingak Website                      4.5323      1.415      3.202      0.001       1.758       7.307\n",
       "Last Notable Activity_Modified                   -0.7703      0.082     -9.424      0.000      -0.931      -0.610\n",
       "Last Notable Activity_Olark Chat Conversation    -1.7013      0.321     -5.302      0.000      -2.330      -1.072\n",
       "Last Notable Activity_SMS Sent                    1.4342      0.085     16.869      0.000       1.268       1.601\n",
       "occupation_Working Professional                   1.4142      0.111     12.778      0.000       1.197       1.631\n",
       "=================================================================================================================\n",
       "\"\"\""
      ]
     },
     "execution_count": 890,
     "metadata": {},
     "output_type": "execute_result"
    }
   ],
   "source": [
    "# Let's build model 3\n",
    "X_train_sm = sm.add_constant(X_train[col])\n",
    "logm3 = sm.GLM(y_train,X_train_sm, family = sm.families.Binomial())\n",
    "res = logm3.fit()\n",
    "res.summary()"
   ]
  },
  {
   "cell_type": "markdown",
   "id": "84a5e081",
   "metadata": {},
   "source": [
    "p-value for 'Lead Origin_Lead Import' is high. Let's drop it."
   ]
  },
  {
   "cell_type": "code",
   "execution_count": 891,
   "id": "1196d063",
   "metadata": {},
   "outputs": [],
   "source": [
    "#dropping column with high p-value\n",
    "col = col.drop('Lead Origin_Lead Import',1)"
   ]
  },
  {
   "cell_type": "markdown",
   "id": "aaa7c78c",
   "metadata": {},
   "source": [
    "**Model 4**"
   ]
  },
  {
   "cell_type": "code",
   "execution_count": 892,
   "id": "90e6cf94",
   "metadata": {},
   "outputs": [
    {
     "data": {
      "text/html": [
       "<table class=\"simpletable\">\n",
       "<caption>Generalized Linear Model Regression Results</caption>\n",
       "<tr>\n",
       "  <th>Dep. Variable:</th>       <td>Converted</td>    <th>  No. Observations:  </th>  <td>  6104</td> \n",
       "</tr>\n",
       "<tr>\n",
       "  <th>Model:</th>                  <td>GLM</td>       <th>  Df Residuals:      </th>  <td>  6091</td> \n",
       "</tr>\n",
       "<tr>\n",
       "  <th>Model Family:</th>        <td>Binomial</td>     <th>  Df Model:          </th>  <td>    12</td> \n",
       "</tr>\n",
       "<tr>\n",
       "  <th>Link Function:</th>         <td>logit</td>      <th>  Scale:             </th> <td>  1.0000</td>\n",
       "</tr>\n",
       "<tr>\n",
       "  <th>Method:</th>                <td>IRLS</td>       <th>  Log-Likelihood:    </th> <td> -2701.6</td>\n",
       "</tr>\n",
       "<tr>\n",
       "  <th>Date:</th>            <td>Sun, 29 May 2022</td> <th>  Deviance:          </th> <td>  5403.3</td>\n",
       "</tr>\n",
       "<tr>\n",
       "  <th>Time:</th>                <td>17:32:28</td>     <th>  Pearson chi2:      </th> <td>6.27e+03</td>\n",
       "</tr>\n",
       "<tr>\n",
       "  <th>No. Iterations:</th>          <td>7</td>        <th>                     </th>     <td> </td>   \n",
       "</tr>\n",
       "<tr>\n",
       "  <th>Covariance Type:</th>     <td>nonrobust</td>    <th>                     </th>     <td> </td>   \n",
       "</tr>\n",
       "</table>\n",
       "<table class=\"simpletable\">\n",
       "<tr>\n",
       "                        <td></td>                           <th>coef</th>     <th>std err</th>      <th>z</th>      <th>P>|z|</th>  <th>[0.025</th>    <th>0.975]</th>  \n",
       "</tr>\n",
       "<tr>\n",
       "  <th>const</th>                                         <td>   -0.2967</td> <td>    0.091</td> <td>   -3.260</td> <td> 0.001</td> <td>   -0.475</td> <td>   -0.118</td>\n",
       "</tr>\n",
       "<tr>\n",
       "  <th>Total Time Spent on Website</th>                   <td>    1.0945</td> <td>    0.039</td> <td>   27.771</td> <td> 0.000</td> <td>    1.017</td> <td>    1.172</td>\n",
       "</tr>\n",
       "<tr>\n",
       "  <th>Lead Origin_Lead Add Form</th>                     <td>    1.0386</td> <td>    0.993</td> <td>    1.046</td> <td> 0.295</td> <td>   -0.907</td> <td>    2.984</td>\n",
       "</tr>\n",
       "<tr>\n",
       "  <th>Lead Source_Direct Traffic</th>                    <td>   -1.2332</td> <td>    0.110</td> <td>  -11.214</td> <td> 0.000</td> <td>   -1.449</td> <td>   -1.018</td>\n",
       "</tr>\n",
       "<tr>\n",
       "  <th>Lead Source_Google</th>                            <td>   -0.7634</td> <td>    0.105</td> <td>   -7.262</td> <td> 0.000</td> <td>   -0.969</td> <td>   -0.557</td>\n",
       "</tr>\n",
       "<tr>\n",
       "  <th>Lead Source_Organic Search</th>                    <td>   -0.9755</td> <td>    0.131</td> <td>   -7.453</td> <td> 0.000</td> <td>   -1.232</td> <td>   -0.719</td>\n",
       "</tr>\n",
       "<tr>\n",
       "  <th>Lead Source_Reference</th>                         <td>    2.4457</td> <td>    1.020</td> <td>    2.397</td> <td> 0.017</td> <td>    0.446</td> <td>    4.445</td>\n",
       "</tr>\n",
       "<tr>\n",
       "  <th>Lead Source_Referral Sites</th>                    <td>   -0.9746</td> <td>    0.320</td> <td>   -3.042</td> <td> 0.002</td> <td>   -1.603</td> <td>   -0.347</td>\n",
       "</tr>\n",
       "<tr>\n",
       "  <th>Lead Source_Welingak Website</th>                  <td>    4.5325</td> <td>    1.415</td> <td>    3.202</td> <td> 0.001</td> <td>    1.758</td> <td>    7.307</td>\n",
       "</tr>\n",
       "<tr>\n",
       "  <th>Last Notable Activity_Modified</th>                <td>   -0.7730</td> <td>    0.082</td> <td>   -9.463</td> <td> 0.000</td> <td>   -0.933</td> <td>   -0.613</td>\n",
       "</tr>\n",
       "<tr>\n",
       "  <th>Last Notable Activity_Olark Chat Conversation</th> <td>   -1.7095</td> <td>    0.321</td> <td>   -5.331</td> <td> 0.000</td> <td>   -2.338</td> <td>   -1.081</td>\n",
       "</tr>\n",
       "<tr>\n",
       "  <th>Last Notable Activity_SMS Sent</th>                <td>    1.4310</td> <td>    0.085</td> <td>   16.848</td> <td> 0.000</td> <td>    1.265</td> <td>    1.598</td>\n",
       "</tr>\n",
       "<tr>\n",
       "  <th>occupation_Working Professional</th>               <td>    1.4143</td> <td>    0.111</td> <td>   12.782</td> <td> 0.000</td> <td>    1.197</td> <td>    1.631</td>\n",
       "</tr>\n",
       "</table>"
      ],
      "text/plain": [
       "<class 'statsmodels.iolib.summary.Summary'>\n",
       "\"\"\"\n",
       "                 Generalized Linear Model Regression Results                  \n",
       "==============================================================================\n",
       "Dep. Variable:              Converted   No. Observations:                 6104\n",
       "Model:                            GLM   Df Residuals:                     6091\n",
       "Model Family:                Binomial   Df Model:                           12\n",
       "Link Function:                  logit   Scale:                          1.0000\n",
       "Method:                          IRLS   Log-Likelihood:                -2701.6\n",
       "Date:                Sun, 29 May 2022   Deviance:                       5403.3\n",
       "Time:                        17:32:28   Pearson chi2:                 6.27e+03\n",
       "No. Iterations:                     7                                         \n",
       "Covariance Type:            nonrobust                                         \n",
       "=================================================================================================================\n",
       "                                                    coef    std err          z      P>|z|      [0.025      0.975]\n",
       "-----------------------------------------------------------------------------------------------------------------\n",
       "const                                            -0.2967      0.091     -3.260      0.001      -0.475      -0.118\n",
       "Total Time Spent on Website                       1.0945      0.039     27.771      0.000       1.017       1.172\n",
       "Lead Origin_Lead Add Form                         1.0386      0.993      1.046      0.295      -0.907       2.984\n",
       "Lead Source_Direct Traffic                       -1.2332      0.110    -11.214      0.000      -1.449      -1.018\n",
       "Lead Source_Google                               -0.7634      0.105     -7.262      0.000      -0.969      -0.557\n",
       "Lead Source_Organic Search                       -0.9755      0.131     -7.453      0.000      -1.232      -0.719\n",
       "Lead Source_Reference                             2.4457      1.020      2.397      0.017       0.446       4.445\n",
       "Lead Source_Referral Sites                       -0.9746      0.320     -3.042      0.002      -1.603      -0.347\n",
       "Lead Source_Welingak Website                      4.5325      1.415      3.202      0.001       1.758       7.307\n",
       "Last Notable Activity_Modified                   -0.7730      0.082     -9.463      0.000      -0.933      -0.613\n",
       "Last Notable Activity_Olark Chat Conversation    -1.7095      0.321     -5.331      0.000      -2.338      -1.081\n",
       "Last Notable Activity_SMS Sent                    1.4310      0.085     16.848      0.000       1.265       1.598\n",
       "occupation_Working Professional                   1.4143      0.111     12.782      0.000       1.197       1.631\n",
       "=================================================================================================================\n",
       "\"\"\""
      ]
     },
     "execution_count": 892,
     "metadata": {},
     "output_type": "execute_result"
    }
   ],
   "source": [
    "# Let's build model 4\n",
    "X_train_sm = sm.add_constant(X_train[col])\n",
    "logm4 = sm.GLM(y_train,X_train_sm, family = sm.families.Binomial())\n",
    "res = logm4.fit()\n",
    "res.summary()"
   ]
  },
  {
   "cell_type": "markdown",
   "id": "31e55e6b",
   "metadata": {},
   "source": [
    "- p-value for 'Lead Origin_Lead Add Form' is high. We can drop it too."
   ]
  },
  {
   "cell_type": "code",
   "execution_count": 893,
   "id": "678ebccc",
   "metadata": {},
   "outputs": [],
   "source": [
    "#dropping column with high p-value\n",
    "col = col.drop('Lead Origin_Lead Add Form',1)"
   ]
  },
  {
   "cell_type": "markdown",
   "id": "33782403",
   "metadata": {},
   "source": [
    "**Model 5**"
   ]
  },
  {
   "cell_type": "code",
   "execution_count": 894,
   "id": "f5212522",
   "metadata": {},
   "outputs": [
    {
     "data": {
      "text/html": [
       "<table class=\"simpletable\">\n",
       "<caption>Generalized Linear Model Regression Results</caption>\n",
       "<tr>\n",
       "  <th>Dep. Variable:</th>       <td>Converted</td>    <th>  No. Observations:  </th>  <td>  6104</td> \n",
       "</tr>\n",
       "<tr>\n",
       "  <th>Model:</th>                  <td>GLM</td>       <th>  Df Residuals:      </th>  <td>  6092</td> \n",
       "</tr>\n",
       "<tr>\n",
       "  <th>Model Family:</th>        <td>Binomial</td>     <th>  Df Model:          </th>  <td>    11</td> \n",
       "</tr>\n",
       "<tr>\n",
       "  <th>Link Function:</th>         <td>logit</td>      <th>  Scale:             </th> <td>  1.0000</td>\n",
       "</tr>\n",
       "<tr>\n",
       "  <th>Method:</th>                <td>IRLS</td>       <th>  Log-Likelihood:    </th> <td> -2702.2</td>\n",
       "</tr>\n",
       "<tr>\n",
       "  <th>Date:</th>            <td>Sun, 29 May 2022</td> <th>  Deviance:          </th> <td>  5404.4</td>\n",
       "</tr>\n",
       "<tr>\n",
       "  <th>Time:</th>                <td>17:32:28</td>     <th>  Pearson chi2:      </th> <td>6.28e+03</td>\n",
       "</tr>\n",
       "<tr>\n",
       "  <th>No. Iterations:</th>          <td>7</td>        <th>                     </th>     <td> </td>   \n",
       "</tr>\n",
       "<tr>\n",
       "  <th>Covariance Type:</th>     <td>nonrobust</td>    <th>                     </th>     <td> </td>   \n",
       "</tr>\n",
       "</table>\n",
       "<table class=\"simpletable\">\n",
       "<tr>\n",
       "                        <td></td>                           <th>coef</th>     <th>std err</th>      <th>z</th>      <th>P>|z|</th>  <th>[0.025</th>    <th>0.975]</th>  \n",
       "</tr>\n",
       "<tr>\n",
       "  <th>const</th>                                         <td>   -0.2895</td> <td>    0.091</td> <td>   -3.193</td> <td> 0.001</td> <td>   -0.467</td> <td>   -0.112</td>\n",
       "</tr>\n",
       "<tr>\n",
       "  <th>Total Time Spent on Website</th>                   <td>    1.0955</td> <td>    0.039</td> <td>   27.807</td> <td> 0.000</td> <td>    1.018</td> <td>    1.173</td>\n",
       "</tr>\n",
       "<tr>\n",
       "  <th>Lead Source_Direct Traffic</th>                    <td>   -1.2409</td> <td>    0.110</td> <td>  -11.313</td> <td> 0.000</td> <td>   -1.456</td> <td>   -1.026</td>\n",
       "</tr>\n",
       "<tr>\n",
       "  <th>Lead Source_Google</th>                            <td>   -0.7709</td> <td>    0.105</td> <td>   -7.354</td> <td> 0.000</td> <td>   -0.976</td> <td>   -0.565</td>\n",
       "</tr>\n",
       "<tr>\n",
       "  <th>Lead Source_Organic Search</th>                    <td>   -0.9832</td> <td>    0.131</td> <td>   -7.525</td> <td> 0.000</td> <td>   -1.239</td> <td>   -0.727</td>\n",
       "</tr>\n",
       "<tr>\n",
       "  <th>Lead Source_Reference</th>                         <td>    3.4783</td> <td>    0.257</td> <td>   13.540</td> <td> 0.000</td> <td>    2.975</td> <td>    3.982</td>\n",
       "</tr>\n",
       "<tr>\n",
       "  <th>Lead Source_Referral Sites</th>                    <td>   -0.9820</td> <td>    0.320</td> <td>   -3.065</td> <td> 0.002</td> <td>   -1.610</td> <td>   -0.354</td>\n",
       "</tr>\n",
       "<tr>\n",
       "  <th>Lead Source_Welingak Website</th>                  <td>    5.5652</td> <td>    1.014</td> <td>    5.487</td> <td> 0.000</td> <td>    3.577</td> <td>    7.553</td>\n",
       "</tr>\n",
       "<tr>\n",
       "  <th>Last Notable Activity_Modified</th>                <td>   -0.7735</td> <td>    0.082</td> <td>   -9.470</td> <td> 0.000</td> <td>   -0.934</td> <td>   -0.613</td>\n",
       "</tr>\n",
       "<tr>\n",
       "  <th>Last Notable Activity_Olark Chat Conversation</th> <td>   -1.7138</td> <td>    0.321</td> <td>   -5.345</td> <td> 0.000</td> <td>   -2.342</td> <td>   -1.085</td>\n",
       "</tr>\n",
       "<tr>\n",
       "  <th>Last Notable Activity_SMS Sent</th>                <td>    1.4322</td> <td>    0.085</td> <td>   16.862</td> <td> 0.000</td> <td>    1.266</td> <td>    1.599</td>\n",
       "</tr>\n",
       "<tr>\n",
       "  <th>occupation_Working Professional</th>               <td>    1.4130</td> <td>    0.111</td> <td>   12.770</td> <td> 0.000</td> <td>    1.196</td> <td>    1.630</td>\n",
       "</tr>\n",
       "</table>"
      ],
      "text/plain": [
       "<class 'statsmodels.iolib.summary.Summary'>\n",
       "\"\"\"\n",
       "                 Generalized Linear Model Regression Results                  \n",
       "==============================================================================\n",
       "Dep. Variable:              Converted   No. Observations:                 6104\n",
       "Model:                            GLM   Df Residuals:                     6092\n",
       "Model Family:                Binomial   Df Model:                           11\n",
       "Link Function:                  logit   Scale:                          1.0000\n",
       "Method:                          IRLS   Log-Likelihood:                -2702.2\n",
       "Date:                Sun, 29 May 2022   Deviance:                       5404.4\n",
       "Time:                        17:32:28   Pearson chi2:                 6.28e+03\n",
       "No. Iterations:                     7                                         \n",
       "Covariance Type:            nonrobust                                         \n",
       "=================================================================================================================\n",
       "                                                    coef    std err          z      P>|z|      [0.025      0.975]\n",
       "-----------------------------------------------------------------------------------------------------------------\n",
       "const                                            -0.2895      0.091     -3.193      0.001      -0.467      -0.112\n",
       "Total Time Spent on Website                       1.0955      0.039     27.807      0.000       1.018       1.173\n",
       "Lead Source_Direct Traffic                       -1.2409      0.110    -11.313      0.000      -1.456      -1.026\n",
       "Lead Source_Google                               -0.7709      0.105     -7.354      0.000      -0.976      -0.565\n",
       "Lead Source_Organic Search                       -0.9832      0.131     -7.525      0.000      -1.239      -0.727\n",
       "Lead Source_Reference                             3.4783      0.257     13.540      0.000       2.975       3.982\n",
       "Lead Source_Referral Sites                       -0.9820      0.320     -3.065      0.002      -1.610      -0.354\n",
       "Lead Source_Welingak Website                      5.5652      1.014      5.487      0.000       3.577       7.553\n",
       "Last Notable Activity_Modified                   -0.7735      0.082     -9.470      0.000      -0.934      -0.613\n",
       "Last Notable Activity_Olark Chat Conversation    -1.7138      0.321     -5.345      0.000      -2.342      -1.085\n",
       "Last Notable Activity_SMS Sent                    1.4322      0.085     16.862      0.000       1.266       1.599\n",
       "occupation_Working Professional                   1.4130      0.111     12.770      0.000       1.196       1.630\n",
       "=================================================================================================================\n",
       "\"\"\""
      ]
     },
     "execution_count": 894,
     "metadata": {},
     "output_type": "execute_result"
    }
   ],
   "source": [
    "# Let's build model 5\n",
    "X_train_sm = sm.add_constant(X_train[col])\n",
    "logm4 = sm.GLM(y_train,X_train_sm, family = sm.families.Binomial())\n",
    "res = logm4.fit()\n",
    "res.summary()"
   ]
  },
  {
   "cell_type": "markdown",
   "id": "6a41c59d",
   "metadata": {},
   "source": [
    "- Now, the p-values look okay. we can now move on and calculate VIF to check the correlation between the variables."
   ]
  },
  {
   "cell_type": "code",
   "execution_count": 895,
   "id": "e066a880",
   "metadata": {},
   "outputs": [],
   "source": [
    "# Let's import VIF calculation library\n",
    "from statsmodels.stats.outliers_influence import variance_inflation_factor"
   ]
  },
  {
   "cell_type": "code",
   "execution_count": 896,
   "id": "4a9af1d8",
   "metadata": {},
   "outputs": [
    {
     "data": {
      "text/html": [
       "<div>\n",
       "<style scoped>\n",
       "    .dataframe tbody tr th:only-of-type {\n",
       "        vertical-align: middle;\n",
       "    }\n",
       "\n",
       "    .dataframe tbody tr th {\n",
       "        vertical-align: top;\n",
       "    }\n",
       "\n",
       "    .dataframe thead th {\n",
       "        text-align: right;\n",
       "    }\n",
       "</style>\n",
       "<table border=\"1\" class=\"dataframe\">\n",
       "  <thead>\n",
       "    <tr style=\"text-align: right;\">\n",
       "      <th></th>\n",
       "      <th>Features</th>\n",
       "      <th>VIF</th>\n",
       "    </tr>\n",
       "  </thead>\n",
       "  <tbody>\n",
       "    <tr>\n",
       "      <th>7</th>\n",
       "      <td>Last Notable Activity_Modified</td>\n",
       "      <td>1.58</td>\n",
       "    </tr>\n",
       "    <tr>\n",
       "      <th>9</th>\n",
       "      <td>Last Notable Activity_SMS Sent</td>\n",
       "      <td>1.48</td>\n",
       "    </tr>\n",
       "    <tr>\n",
       "      <th>2</th>\n",
       "      <td>Lead Source_Google</td>\n",
       "      <td>1.47</td>\n",
       "    </tr>\n",
       "    <tr>\n",
       "      <th>1</th>\n",
       "      <td>Lead Source_Direct Traffic</td>\n",
       "      <td>1.37</td>\n",
       "    </tr>\n",
       "    <tr>\n",
       "      <th>3</th>\n",
       "      <td>Lead Source_Organic Search</td>\n",
       "      <td>1.20</td>\n",
       "    </tr>\n",
       "    <tr>\n",
       "      <th>0</th>\n",
       "      <td>Total Time Spent on Website</td>\n",
       "      <td>1.17</td>\n",
       "    </tr>\n",
       "    <tr>\n",
       "      <th>4</th>\n",
       "      <td>Lead Source_Reference</td>\n",
       "      <td>1.16</td>\n",
       "    </tr>\n",
       "    <tr>\n",
       "      <th>10</th>\n",
       "      <td>occupation_Working Professional</td>\n",
       "      <td>1.15</td>\n",
       "    </tr>\n",
       "    <tr>\n",
       "      <th>6</th>\n",
       "      <td>Lead Source_Welingak Website</td>\n",
       "      <td>1.03</td>\n",
       "    </tr>\n",
       "    <tr>\n",
       "      <th>5</th>\n",
       "      <td>Lead Source_Referral Sites</td>\n",
       "      <td>1.01</td>\n",
       "    </tr>\n",
       "    <tr>\n",
       "      <th>8</th>\n",
       "      <td>Last Notable Activity_Olark Chat Conversation</td>\n",
       "      <td>1.01</td>\n",
       "    </tr>\n",
       "  </tbody>\n",
       "</table>\n",
       "</div>"
      ],
      "text/plain": [
       "                                         Features   VIF\n",
       "7                  Last Notable Activity_Modified  1.58\n",
       "9                  Last Notable Activity_SMS Sent  1.48\n",
       "2                              Lead Source_Google  1.47\n",
       "1                      Lead Source_Direct Traffic  1.37\n",
       "3                      Lead Source_Organic Search  1.20\n",
       "0                     Total Time Spent on Website  1.17\n",
       "4                           Lead Source_Reference  1.16\n",
       "10                occupation_Working Professional  1.15\n",
       "6                    Lead Source_Welingak Website  1.03\n",
       "5                      Lead Source_Referral Sites  1.01\n",
       "8   Last Notable Activity_Olark Chat Conversation  1.01"
      ]
     },
     "execution_count": 896,
     "metadata": {},
     "output_type": "execute_result"
    }
   ],
   "source": [
    "# Let's Create a dataframe that will contain the names of all the feature variables available and their respective VIFs\n",
    "vif = pd.DataFrame()\n",
    "vif['Features'] = X_train[col].columns\n",
    "vif['VIF'] = [variance_inflation_factor(X_train[col].values, i) for i in range(X_train[col].shape[1])]\n",
    "vif['VIF'] = round(vif['VIF'], 2)\n",
    "vif = vif.sort_values(by = \"VIF\", ascending = False)\n",
    "vif"
   ]
  },
  {
   "cell_type": "markdown",
   "id": "fd749ec1",
   "metadata": {},
   "source": [
    "- As we can see, all the values seem to be in order, so, let's move on to derive the Probabilities, Lead Score, Predictions on Train Data."
   ]
  },
  {
   "cell_type": "code",
   "execution_count": 897,
   "id": "20b64d97",
   "metadata": {},
   "outputs": [
    {
     "data": {
      "text/plain": [
       "7220    0.681637\n",
       "3383    0.601622\n",
       "770     0.526006\n",
       "5785    0.993781\n",
       "5252    0.352790\n",
       "9123    0.129733\n",
       "226     0.243062\n",
       "6352    0.356465\n",
       "653     0.070842\n",
       "2010    0.981696\n",
       "dtype: float64"
      ]
     },
     "execution_count": 897,
     "metadata": {},
     "output_type": "execute_result"
    }
   ],
   "source": [
    "# Let's get the Predicted values on the train set\n",
    "y_train_pred = res.predict(X_train_sm)\n",
    "y_train_pred[:10]"
   ]
  },
  {
   "cell_type": "code",
   "execution_count": 898,
   "id": "0bedb8ac",
   "metadata": {},
   "outputs": [
    {
     "data": {
      "text/plain": [
       "array([0.68163672, 0.60162159, 0.52600602, 0.99378077, 0.35278976,\n",
       "       0.12973277, 0.24306213, 0.356465  , 0.07084219, 0.98169587])"
      ]
     },
     "execution_count": 898,
     "metadata": {},
     "output_type": "execute_result"
    }
   ],
   "source": [
    "# Let's Reshape it into an 'Array'\n",
    "y_train_pred = y_train_pred.values.reshape(-1)\n",
    "y_train_pred[:10]"
   ]
  },
  {
   "cell_type": "code",
   "execution_count": 899,
   "id": "2f8a88a7",
   "metadata": {},
   "outputs": [
    {
     "data": {
      "text/html": [
       "<div>\n",
       "<style scoped>\n",
       "    .dataframe tbody tr th:only-of-type {\n",
       "        vertical-align: middle;\n",
       "    }\n",
       "\n",
       "    .dataframe tbody tr th {\n",
       "        vertical-align: top;\n",
       "    }\n",
       "\n",
       "    .dataframe thead th {\n",
       "        text-align: right;\n",
       "    }\n",
       "</style>\n",
       "<table border=\"1\" class=\"dataframe\">\n",
       "  <thead>\n",
       "    <tr style=\"text-align: right;\">\n",
       "      <th></th>\n",
       "      <th>Converted</th>\n",
       "      <th>Converted_prob</th>\n",
       "    </tr>\n",
       "  </thead>\n",
       "  <tbody>\n",
       "    <tr>\n",
       "      <th>0</th>\n",
       "      <td>1</td>\n",
       "      <td>0.681637</td>\n",
       "    </tr>\n",
       "    <tr>\n",
       "      <th>1</th>\n",
       "      <td>0</td>\n",
       "      <td>0.601622</td>\n",
       "    </tr>\n",
       "    <tr>\n",
       "      <th>2</th>\n",
       "      <td>0</td>\n",
       "      <td>0.526006</td>\n",
       "    </tr>\n",
       "    <tr>\n",
       "      <th>3</th>\n",
       "      <td>1</td>\n",
       "      <td>0.993781</td>\n",
       "    </tr>\n",
       "    <tr>\n",
       "      <th>4</th>\n",
       "      <td>1</td>\n",
       "      <td>0.352790</td>\n",
       "    </tr>\n",
       "  </tbody>\n",
       "</table>\n",
       "</div>"
      ],
      "text/plain": [
       "   Converted  Converted_prob\n",
       "0          1        0.681637\n",
       "1          0        0.601622\n",
       "2          0        0.526006\n",
       "3          1        0.993781\n",
       "4          1        0.352790"
      ]
     },
     "execution_count": 899,
     "metadata": {},
     "output_type": "execute_result"
    }
   ],
   "source": [
    "# Let's Create a new dataframe containing the actual conversion flag and the probabilities predicted by the model\n",
    "\n",
    "y_train_pred_final = pd.DataFrame({'Converted':y_train.values, 'Converted_prob':y_train_pred})\n",
    "y_train_pred_final.head()"
   ]
  },
  {
   "cell_type": "code",
   "execution_count": 900,
   "id": "d53e81f6",
   "metadata": {},
   "outputs": [
    {
     "data": {
      "text/html": [
       "<div>\n",
       "<style scoped>\n",
       "    .dataframe tbody tr th:only-of-type {\n",
       "        vertical-align: middle;\n",
       "    }\n",
       "\n",
       "    .dataframe tbody tr th {\n",
       "        vertical-align: top;\n",
       "    }\n",
       "\n",
       "    .dataframe thead th {\n",
       "        text-align: right;\n",
       "    }\n",
       "</style>\n",
       "<table border=\"1\" class=\"dataframe\">\n",
       "  <thead>\n",
       "    <tr style=\"text-align: right;\">\n",
       "      <th></th>\n",
       "      <th>Converted</th>\n",
       "      <th>Converted_prob</th>\n",
       "      <th>Predicted</th>\n",
       "    </tr>\n",
       "  </thead>\n",
       "  <tbody>\n",
       "    <tr>\n",
       "      <th>0</th>\n",
       "      <td>1</td>\n",
       "      <td>0.681637</td>\n",
       "      <td>1</td>\n",
       "    </tr>\n",
       "    <tr>\n",
       "      <th>1</th>\n",
       "      <td>0</td>\n",
       "      <td>0.601622</td>\n",
       "      <td>1</td>\n",
       "    </tr>\n",
       "    <tr>\n",
       "      <th>2</th>\n",
       "      <td>0</td>\n",
       "      <td>0.526006</td>\n",
       "      <td>1</td>\n",
       "    </tr>\n",
       "    <tr>\n",
       "      <th>3</th>\n",
       "      <td>1</td>\n",
       "      <td>0.993781</td>\n",
       "      <td>1</td>\n",
       "    </tr>\n",
       "    <tr>\n",
       "      <th>4</th>\n",
       "      <td>1</td>\n",
       "      <td>0.352790</td>\n",
       "      <td>0</td>\n",
       "    </tr>\n",
       "  </tbody>\n",
       "</table>\n",
       "</div>"
      ],
      "text/plain": [
       "   Converted  Converted_prob  Predicted\n",
       "0          1        0.681637          1\n",
       "1          0        0.601622          1\n",
       "2          0        0.526006          1\n",
       "3          1        0.993781          1\n",
       "4          1        0.352790          0"
      ]
     },
     "execution_count": 900,
     "metadata": {},
     "output_type": "execute_result"
    }
   ],
   "source": [
    "# Let's create a column 'predicted' with 1 if Converted_prob > 0.5 else, 0\n",
    "y_train_pred_final['Predicted'] = y_train_pred_final.Converted_prob.map(lambda x: 1 if x > 0.5 else 0)\n",
    "\n",
    "# Let's see the first five records\n",
    "y_train_pred_final.head()"
   ]
  },
  {
   "cell_type": "markdown",
   "id": "872ac9b9",
   "metadata": {},
   "source": [
    "### Step 6: Model Evaluation : Train Dataset\n"
   ]
  },
  {
   "cell_type": "code",
   "execution_count": 901,
   "id": "be521fe3",
   "metadata": {},
   "outputs": [
    {
     "name": "stdout",
     "output_type": "stream",
     "text": [
      "[[3353  456]\n",
      " [ 778 1517]]\n"
     ]
    }
   ],
   "source": [
    "# let's improt metrics library\n",
    "from sklearn import metrics\n",
    "\n",
    "# Let's create the Confusion matrix \n",
    "confusion = metrics.confusion_matrix(y_train_pred_final.Converted, y_train_pred_final.Predicted )\n",
    "print(confusion)"
   ]
  },
  {
   "cell_type": "markdown",
   "id": "64b8b1f9",
   "metadata": {},
   "source": [
    "- So, the result of confusion matrix is 3353 True Negative, 1517 True Positive , 778 False Negative and 456 False Positive. "
   ]
  },
  {
   "cell_type": "code",
   "execution_count": 913,
   "id": "fb0c056c",
   "metadata": {},
   "outputs": [
    {
     "data": {
      "text/plain": [
       "0.7978374836173001"
      ]
     },
     "execution_count": 913,
     "metadata": {},
     "output_type": "execute_result"
    }
   ],
   "source": [
    "# Let's check the overall accuracy.\n",
    "acc = metrics.accuracy_score(y_train_pred_final.Converted, y_train_pred_final.Predicted)\n",
    "acc"
   ]
  },
  {
   "cell_type": "markdown",
   "id": "84b0ee83",
   "metadata": {},
   "source": [
    "**Accuracy is around 80%**"
   ]
  },
  {
   "cell_type": "code",
   "execution_count": null,
   "id": "bf2547fd",
   "metadata": {},
   "outputs": [],
   "source": [
    "#let's check the sensitivity now."
   ]
  },
  {
   "cell_type": "code",
   "execution_count": 904,
   "id": "7b8a41fe",
   "metadata": {},
   "outputs": [],
   "source": [
    "TP = confusion[1,1] # true positive \n",
    "TN = confusion[0,0] # true negatives\n",
    "FP = confusion[0,1] # false positives\n",
    "FN = confusion[1,0] # false negatives"
   ]
  },
  {
   "cell_type": "code",
   "execution_count": 905,
   "id": "41403a2e",
   "metadata": {},
   "outputs": [
    {
     "data": {
      "text/plain": [
       "0.6610021786492375"
      ]
     },
     "execution_count": 905,
     "metadata": {},
     "output_type": "execute_result"
    }
   ],
   "source": [
    "sens = TP / float(TP+FN)\n",
    "sens"
   ]
  },
  {
   "cell_type": "markdown",
   "id": "0a6a50f9",
   "metadata": {},
   "source": [
    "**Sensitivity is 66%**"
   ]
  },
  {
   "cell_type": "code",
   "execution_count": 906,
   "id": "57d943f8",
   "metadata": {},
   "outputs": [
    {
     "data": {
      "text/plain": [
       "0.8802835389866107"
      ]
     },
     "execution_count": 906,
     "metadata": {},
     "output_type": "execute_result"
    }
   ],
   "source": [
    "# Let us calculate specificity\n",
    "spec = TN / float(TN+FP)\n",
    "spec"
   ]
  },
  {
   "cell_type": "markdown",
   "id": "3e876d67",
   "metadata": {},
   "source": [
    "**Specificity is 88%**"
   ]
  },
  {
   "cell_type": "code",
   "execution_count": 907,
   "id": "1d4b015a",
   "metadata": {},
   "outputs": [
    {
     "name": "stdout",
     "output_type": "stream",
     "text": [
      "0.11971646101338934\n"
     ]
    }
   ],
   "source": [
    "# Let's now Calculate False Postive Rate - predicting conversion when customer does not convert\n",
    "print(FP/ float(TN+FP))"
   ]
  },
  {
   "cell_type": "markdown",
   "id": "551ce19e",
   "metadata": {},
   "source": [
    "**False positive rate is 11%**"
   ]
  },
  {
   "cell_type": "code",
   "execution_count": 908,
   "id": "9d6e1f30",
   "metadata": {},
   "outputs": [
    {
     "name": "stdout",
     "output_type": "stream",
     "text": [
      "0.7688798783578307\n"
     ]
    }
   ],
   "source": [
    "# Let's calculate positive predictive value \n",
    "print (TP / float(TP+FP))"
   ]
  },
  {
   "cell_type": "markdown",
   "id": "6341ba1a",
   "metadata": {},
   "source": [
    "**Positive Predictive Value is 77%**"
   ]
  },
  {
   "cell_type": "code",
   "execution_count": 909,
   "id": "067da010",
   "metadata": {},
   "outputs": [
    {
     "name": "stdout",
     "output_type": "stream",
     "text": [
      "0.8116678770273541\n"
     ]
    }
   ],
   "source": [
    "# Let's calculate Negative predictive value\n",
    "print (TN / float(TN+ FN))"
   ]
  },
  {
   "cell_type": "markdown",
   "id": "5b7f88e4",
   "metadata": {},
   "source": [
    "**Negative Predictive Value is 81%**"
   ]
  },
  {
   "cell_type": "markdown",
   "id": "1abf704c",
   "metadata": {},
   "source": [
    "#### Let's plot the ROC curve now."
   ]
  },
  {
   "cell_type": "code",
   "execution_count": 910,
   "id": "cfb70d33",
   "metadata": {},
   "outputs": [],
   "source": [
    "def plot_roc( actual, probs ):\n",
    "    fpr, tpr, thresholds = metrics.roc_curve( actual, probs,\n",
    "                                              drop_intermediate = False )\n",
    "    auc_score = metrics.roc_auc_score( actual, probs )\n",
    "    plt.figure(figsize=(5, 5))\n",
    "    plt.plot( fpr, tpr, label='ROC curve (area = %0.2f)' % auc_score )\n",
    "    plt.plot([0, 1], [0, 1], 'k--')\n",
    "    plt.xlim([0.0, 1.0])\n",
    "    plt.ylim([0.0, 1.05])\n",
    "    plt.xlabel('False Positive Rate or [1 - True Negative Rate]')\n",
    "    plt.ylabel('True Positive Rate')\n",
    "    plt.title('Receiver operating characteristic example')\n",
    "    plt.legend(loc=\"lower right\")\n",
    "    plt.show()\n",
    "\n",
    "    return None"
   ]
  },
  {
   "cell_type": "code",
   "execution_count": 911,
   "id": "614dea82",
   "metadata": {},
   "outputs": [],
   "source": [
    "fpr, tpr, thresholds = metrics.roc_curve( y_train_pred_final.Converted, y_train_pred_final.Converted_prob, drop_intermediate = False )"
   ]
  },
  {
   "cell_type": "code",
   "execution_count": 912,
   "id": "c0d7d9b9",
   "metadata": {},
   "outputs": [
    {
     "data": {
      "image/png": "[encoded data removed]",
      "text/plain": [
       "<Figure size 360x360 with 1 Axes>"
      ]
     },
     "metadata": {},
     "output_type": "display_data"
    }
   ],
   "source": [
    "plot_roc(y_train_pred_final.Converted, y_train_pred_final.Converted_prob)"
   ]
  },
  {
   "cell_type": "markdown",
   "id": "2affc18f",
   "metadata": {},
   "source": [
    "**The area under ROC curve should be maximum for a good predictive model and the value should lie between 0 to 1. Our ROC Curve area value is 0.86, that indicates our model to be a good predictive model.**"
   ]
  },
  {
   "cell_type": "markdown",
   "id": "58b6410e",
   "metadata": {},
   "source": [
    "- Above we had chosen an arbitrary cut-off value of 0.5.\n",
    "- We need to determine the best cut-off value. Let's do that."
   ]
  },
  {
   "cell_type": "code",
   "execution_count": 914,
   "id": "4cc257cb",
   "metadata": {},
   "outputs": [
    {
     "data": {
      "text/html": [
       "<div>\n",
       "<style scoped>\n",
       "    .dataframe tbody tr th:only-of-type {\n",
       "        vertical-align: middle;\n",
       "    }\n",
       "\n",
       "    .dataframe tbody tr th {\n",
       "        vertical-align: top;\n",
       "    }\n",
       "\n",
       "    .dataframe thead th {\n",
       "        text-align: right;\n",
       "    }\n",
       "</style>\n",
       "<table border=\"1\" class=\"dataframe\">\n",
       "  <thead>\n",
       "    <tr style=\"text-align: right;\">\n",
       "      <th></th>\n",
       "      <th>Converted</th>\n",
       "      <th>Converted_prob</th>\n",
       "      <th>Predicted</th>\n",
       "      <th>0.0</th>\n",
       "      <th>0.1</th>\n",
       "      <th>0.2</th>\n",
       "      <th>0.3</th>\n",
       "      <th>0.4</th>\n",
       "      <th>0.5</th>\n",
       "      <th>0.6</th>\n",
       "      <th>0.7</th>\n",
       "      <th>0.8</th>\n",
       "      <th>0.9</th>\n",
       "    </tr>\n",
       "  </thead>\n",
       "  <tbody>\n",
       "    <tr>\n",
       "      <th>0</th>\n",
       "      <td>1</td>\n",
       "      <td>0.681637</td>\n",
       "      <td>1</td>\n",
       "      <td>1</td>\n",
       "      <td>1</td>\n",
       "      <td>1</td>\n",
       "      <td>1</td>\n",
       "      <td>1</td>\n",
       "      <td>1</td>\n",
       "      <td>1</td>\n",
       "      <td>0</td>\n",
       "      <td>0</td>\n",
       "      <td>0</td>\n",
       "    </tr>\n",
       "    <tr>\n",
       "      <th>1</th>\n",
       "      <td>0</td>\n",
       "      <td>0.601622</td>\n",
       "      <td>1</td>\n",
       "      <td>1</td>\n",
       "      <td>1</td>\n",
       "      <td>1</td>\n",
       "      <td>1</td>\n",
       "      <td>1</td>\n",
       "      <td>1</td>\n",
       "      <td>1</td>\n",
       "      <td>0</td>\n",
       "      <td>0</td>\n",
       "      <td>0</td>\n",
       "    </tr>\n",
       "    <tr>\n",
       "      <th>2</th>\n",
       "      <td>0</td>\n",
       "      <td>0.526006</td>\n",
       "      <td>1</td>\n",
       "      <td>1</td>\n",
       "      <td>1</td>\n",
       "      <td>1</td>\n",
       "      <td>1</td>\n",
       "      <td>1</td>\n",
       "      <td>1</td>\n",
       "      <td>0</td>\n",
       "      <td>0</td>\n",
       "      <td>0</td>\n",
       "      <td>0</td>\n",
       "    </tr>\n",
       "    <tr>\n",
       "      <th>3</th>\n",
       "      <td>1</td>\n",
       "      <td>0.993781</td>\n",
       "      <td>1</td>\n",
       "      <td>1</td>\n",
       "      <td>1</td>\n",
       "      <td>1</td>\n",
       "      <td>1</td>\n",
       "      <td>1</td>\n",
       "      <td>1</td>\n",
       "      <td>1</td>\n",
       "      <td>1</td>\n",
       "      <td>1</td>\n",
       "      <td>1</td>\n",
       "    </tr>\n",
       "    <tr>\n",
       "      <th>4</th>\n",
       "      <td>1</td>\n",
       "      <td>0.352790</td>\n",
       "      <td>0</td>\n",
       "      <td>1</td>\n",
       "      <td>1</td>\n",
       "      <td>1</td>\n",
       "      <td>1</td>\n",
       "      <td>0</td>\n",
       "      <td>0</td>\n",
       "      <td>0</td>\n",
       "      <td>0</td>\n",
       "      <td>0</td>\n",
       "      <td>0</td>\n",
       "    </tr>\n",
       "  </tbody>\n",
       "</table>\n",
       "</div>"
      ],
      "text/plain": [
       "   Converted  Converted_prob  Predicted  0.0  0.1  0.2  0.3  0.4  0.5  0.6  \\\n",
       "0          1        0.681637          1    1    1    1    1    1    1    1   \n",
       "1          0        0.601622          1    1    1    1    1    1    1    1   \n",
       "2          0        0.526006          1    1    1    1    1    1    1    0   \n",
       "3          1        0.993781          1    1    1    1    1    1    1    1   \n",
       "4          1        0.352790          0    1    1    1    1    0    0    0   \n",
       "\n",
       "   0.7  0.8  0.9  \n",
       "0    0    0    0  \n",
       "1    0    0    0  \n",
       "2    0    0    0  \n",
       "3    1    1    1  \n",
       "4    0    0    0  "
      ]
     },
     "execution_count": 914,
     "metadata": {},
     "output_type": "execute_result"
    }
   ],
   "source": [
    "# Let's create columns with different probability cutoffs \n",
    "numbers = [float(x)/10 for x in range(10)]\n",
    "for i in numbers:\n",
    "    y_train_pred_final[i]= y_train_pred_final.Converted_prob.map(lambda x: 1 if x > i else 0)\n",
    "y_train_pred_final.head()"
   ]
  },
  {
   "cell_type": "code",
   "execution_count": 915,
   "id": "51a1a631",
   "metadata": {},
   "outputs": [
    {
     "data": {
      "text/html": [
       "<div>\n",
       "<style scoped>\n",
       "    .dataframe tbody tr th:only-of-type {\n",
       "        vertical-align: middle;\n",
       "    }\n",
       "\n",
       "    .dataframe tbody tr th {\n",
       "        vertical-align: top;\n",
       "    }\n",
       "\n",
       "    .dataframe thead th {\n",
       "        text-align: right;\n",
       "    }\n",
       "</style>\n",
       "<table border=\"1\" class=\"dataframe\">\n",
       "  <thead>\n",
       "    <tr style=\"text-align: right;\">\n",
       "      <th></th>\n",
       "      <th>Converted</th>\n",
       "      <th>Converted_prob</th>\n",
       "      <th>Predicted</th>\n",
       "      <th>0.0</th>\n",
       "      <th>0.1</th>\n",
       "      <th>0.2</th>\n",
       "      <th>0.3</th>\n",
       "      <th>0.4</th>\n",
       "      <th>0.5</th>\n",
       "      <th>0.6</th>\n",
       "      <th>0.7</th>\n",
       "      <th>0.8</th>\n",
       "      <th>0.9</th>\n",
       "    </tr>\n",
       "  </thead>\n",
       "  <tbody>\n",
       "    <tr>\n",
       "      <th>0</th>\n",
       "      <td>1</td>\n",
       "      <td>0.681637</td>\n",
       "      <td>1</td>\n",
       "      <td>1</td>\n",
       "      <td>1</td>\n",
       "      <td>1</td>\n",
       "      <td>1</td>\n",
       "      <td>1</td>\n",
       "      <td>1</td>\n",
       "      <td>1</td>\n",
       "      <td>0</td>\n",
       "      <td>0</td>\n",
       "      <td>0</td>\n",
       "    </tr>\n",
       "    <tr>\n",
       "      <th>1</th>\n",
       "      <td>0</td>\n",
       "      <td>0.601622</td>\n",
       "      <td>1</td>\n",
       "      <td>1</td>\n",
       "      <td>1</td>\n",
       "      <td>1</td>\n",
       "      <td>1</td>\n",
       "      <td>1</td>\n",
       "      <td>1</td>\n",
       "      <td>1</td>\n",
       "      <td>0</td>\n",
       "      <td>0</td>\n",
       "      <td>0</td>\n",
       "    </tr>\n",
       "    <tr>\n",
       "      <th>2</th>\n",
       "      <td>0</td>\n",
       "      <td>0.526006</td>\n",
       "      <td>1</td>\n",
       "      <td>1</td>\n",
       "      <td>1</td>\n",
       "      <td>1</td>\n",
       "      <td>1</td>\n",
       "      <td>1</td>\n",
       "      <td>1</td>\n",
       "      <td>0</td>\n",
       "      <td>0</td>\n",
       "      <td>0</td>\n",
       "      <td>0</td>\n",
       "    </tr>\n",
       "    <tr>\n",
       "      <th>3</th>\n",
       "      <td>1</td>\n",
       "      <td>0.993781</td>\n",
       "      <td>1</td>\n",
       "      <td>1</td>\n",
       "      <td>1</td>\n",
       "      <td>1</td>\n",
       "      <td>1</td>\n",
       "      <td>1</td>\n",
       "      <td>1</td>\n",
       "      <td>1</td>\n",
       "      <td>1</td>\n",
       "      <td>1</td>\n",
       "      <td>1</td>\n",
       "    </tr>\n",
       "    <tr>\n",
       "      <th>4</th>\n",
       "      <td>1</td>\n",
       "      <td>0.352790</td>\n",
       "      <td>0</td>\n",
       "      <td>1</td>\n",
       "      <td>1</td>\n",
       "      <td>1</td>\n",
       "      <td>1</td>\n",
       "      <td>0</td>\n",
       "      <td>0</td>\n",
       "      <td>0</td>\n",
       "      <td>0</td>\n",
       "      <td>0</td>\n",
       "      <td>0</td>\n",
       "    </tr>\n",
       "  </tbody>\n",
       "</table>\n",
       "</div>"
      ],
      "text/plain": [
       "   Converted  Converted_prob  Predicted  0.0  0.1  0.2  0.3  0.4  0.5  0.6  \\\n",
       "0          1        0.681637          1    1    1    1    1    1    1    1   \n",
       "1          0        0.601622          1    1    1    1    1    1    1    1   \n",
       "2          0        0.526006          1    1    1    1    1    1    1    0   \n",
       "3          1        0.993781          1    1    1    1    1    1    1    1   \n",
       "4          1        0.352790          0    1    1    1    1    0    0    0   \n",
       "\n",
       "   0.7  0.8  0.9  \n",
       "0    0    0    0  \n",
       "1    0    0    0  \n",
       "2    0    0    0  \n",
       "3    1    1    1  \n",
       "4    0    0    0  "
      ]
     },
     "execution_count": 915,
     "metadata": {},
     "output_type": "execute_result"
    }
   ],
   "source": [
    "# Let's create columns with different probability cutoffs \n",
    "numbers = [float(x)/10 for x in range(10)]\n",
    "for i in numbers:\n",
    "    y_train_pred_final[i]= y_train_pred_final.Converted_prob.map(lambda x: 1 if x > i else 0)\n",
    "y_train_pred_final.head()"
   ]
  },
  {
   "cell_type": "code",
   "execution_count": 916,
   "id": "11f24e90",
   "metadata": {},
   "outputs": [
    {
     "name": "stdout",
     "output_type": "stream",
     "text": [
      "     prob  accuracy     sensi     speci\n",
      "0.0   0.0  0.375983  1.000000  0.000000\n",
      "0.1   0.1  0.534076  0.966885  0.273300\n",
      "0.2   0.2  0.726081  0.907625  0.616697\n",
      "0.3   0.3  0.780963  0.823965  0.755054\n",
      "0.4   0.4  0.798165  0.745969  0.829614\n",
      "0.5   0.5  0.797837  0.661002  0.880284\n",
      "0.6   0.6  0.781291  0.538998  0.927278\n",
      "0.7   0.7  0.770315  0.467538  0.952744\n",
      "0.8   0.8  0.747870  0.376471  0.971646\n",
      "0.9   0.9  0.706258  0.235730  0.989761\n"
     ]
    }
   ],
   "source": [
    "# Now let's calculate accuracy sensitivity and specificity for various probability cutoffs.\n",
    "cutoff_df = pd.DataFrame( columns = ['prob','accuracy','sensi','speci'])\n",
    "from sklearn.metrics import confusion_matrix\n",
    "\n",
    "num = [0.0,0.1,0.2,0.3,0.4,0.5,0.6,0.7,0.8,0.9]\n",
    "for i in num:\n",
    "    cm1 = metrics.confusion_matrix(y_train_pred_final.Converted, y_train_pred_final[i] )\n",
    "    total1=sum(sum(cm1))\n",
    "    accuracy = (cm1[0,0]+cm1[1,1])/total1\n",
    "    \n",
    "    speci = cm1[0,0]/(cm1[0,0]+cm1[0,1])\n",
    "    sensi = cm1[1,1]/(cm1[1,0]+cm1[1,1])\n",
    "    cutoff_df.loc[i] =[ i ,accuracy,sensi,speci]\n",
    "print(cutoff_df)"
   ]
  },
  {
   "cell_type": "code",
   "execution_count": 917,
   "id": "6f091db7",
   "metadata": {},
   "outputs": [
    {
     "data": {
      "image/png": "[encoded data removed]",
      "text/plain": [
       "<Figure size 432x288 with 1 Axes>"
      ]
     },
     "metadata": {},
     "output_type": "display_data"
    }
   ],
   "source": [
    "# Let's plot accuracy sensitivity and specificity for various probabilities.\n",
    "cutoff_df.plot.line(x='prob', y=['accuracy','sensi','speci'])\n",
    "plt.show()"
   ]
  },
  {
   "cell_type": "markdown",
   "id": "40683c68",
   "metadata": {},
   "source": [
    "**From the above plot we can assume that 0.3 can be considered to be the optimum cut-off probability**"
   ]
  },
  {
   "cell_type": "code",
   "execution_count": 918,
   "id": "c144de3e",
   "metadata": {},
   "outputs": [
    {
     "data": {
      "text/html": [
       "<div>\n",
       "<style scoped>\n",
       "    .dataframe tbody tr th:only-of-type {\n",
       "        vertical-align: middle;\n",
       "    }\n",
       "\n",
       "    .dataframe tbody tr th {\n",
       "        vertical-align: top;\n",
       "    }\n",
       "\n",
       "    .dataframe thead th {\n",
       "        text-align: right;\n",
       "    }\n",
       "</style>\n",
       "<table border=\"1\" class=\"dataframe\">\n",
       "  <thead>\n",
       "    <tr style=\"text-align: right;\">\n",
       "      <th></th>\n",
       "      <th>Converted</th>\n",
       "      <th>Converted_prob</th>\n",
       "      <th>Predicted</th>\n",
       "      <th>0.0</th>\n",
       "      <th>0.1</th>\n",
       "      <th>0.2</th>\n",
       "      <th>0.3</th>\n",
       "      <th>0.4</th>\n",
       "      <th>0.5</th>\n",
       "      <th>0.6</th>\n",
       "      <th>0.7</th>\n",
       "      <th>0.8</th>\n",
       "      <th>0.9</th>\n",
       "      <th>final_Predicted</th>\n",
       "    </tr>\n",
       "  </thead>\n",
       "  <tbody>\n",
       "    <tr>\n",
       "      <th>0</th>\n",
       "      <td>1</td>\n",
       "      <td>0.681637</td>\n",
       "      <td>1</td>\n",
       "      <td>1</td>\n",
       "      <td>1</td>\n",
       "      <td>1</td>\n",
       "      <td>1</td>\n",
       "      <td>1</td>\n",
       "      <td>1</td>\n",
       "      <td>1</td>\n",
       "      <td>0</td>\n",
       "      <td>0</td>\n",
       "      <td>0</td>\n",
       "      <td>1</td>\n",
       "    </tr>\n",
       "    <tr>\n",
       "      <th>1</th>\n",
       "      <td>0</td>\n",
       "      <td>0.601622</td>\n",
       "      <td>1</td>\n",
       "      <td>1</td>\n",
       "      <td>1</td>\n",
       "      <td>1</td>\n",
       "      <td>1</td>\n",
       "      <td>1</td>\n",
       "      <td>1</td>\n",
       "      <td>1</td>\n",
       "      <td>0</td>\n",
       "      <td>0</td>\n",
       "      <td>0</td>\n",
       "      <td>1</td>\n",
       "    </tr>\n",
       "    <tr>\n",
       "      <th>2</th>\n",
       "      <td>0</td>\n",
       "      <td>0.526006</td>\n",
       "      <td>1</td>\n",
       "      <td>1</td>\n",
       "      <td>1</td>\n",
       "      <td>1</td>\n",
       "      <td>1</td>\n",
       "      <td>1</td>\n",
       "      <td>1</td>\n",
       "      <td>0</td>\n",
       "      <td>0</td>\n",
       "      <td>0</td>\n",
       "      <td>0</td>\n",
       "      <td>1</td>\n",
       "    </tr>\n",
       "    <tr>\n",
       "      <th>3</th>\n",
       "      <td>1</td>\n",
       "      <td>0.993781</td>\n",
       "      <td>1</td>\n",
       "      <td>1</td>\n",
       "      <td>1</td>\n",
       "      <td>1</td>\n",
       "      <td>1</td>\n",
       "      <td>1</td>\n",
       "      <td>1</td>\n",
       "      <td>1</td>\n",
       "      <td>1</td>\n",
       "      <td>1</td>\n",
       "      <td>1</td>\n",
       "      <td>1</td>\n",
       "    </tr>\n",
       "    <tr>\n",
       "      <th>4</th>\n",
       "      <td>1</td>\n",
       "      <td>0.352790</td>\n",
       "      <td>0</td>\n",
       "      <td>1</td>\n",
       "      <td>1</td>\n",
       "      <td>1</td>\n",
       "      <td>1</td>\n",
       "      <td>0</td>\n",
       "      <td>0</td>\n",
       "      <td>0</td>\n",
       "      <td>0</td>\n",
       "      <td>0</td>\n",
       "      <td>0</td>\n",
       "      <td>1</td>\n",
       "    </tr>\n",
       "  </tbody>\n",
       "</table>\n",
       "</div>"
      ],
      "text/plain": [
       "   Converted  Converted_prob  Predicted  0.0  0.1  0.2  0.3  0.4  0.5  0.6  \\\n",
       "0          1        0.681637          1    1    1    1    1    1    1    1   \n",
       "1          0        0.601622          1    1    1    1    1    1    1    1   \n",
       "2          0        0.526006          1    1    1    1    1    1    1    0   \n",
       "3          1        0.993781          1    1    1    1    1    1    1    1   \n",
       "4          1        0.352790          0    1    1    1    1    0    0    0   \n",
       "\n",
       "   0.7  0.8  0.9  final_Predicted  \n",
       "0    0    0    0                1  \n",
       "1    0    0    0                1  \n",
       "2    0    0    0                1  \n",
       "3    1    1    1                1  \n",
       "4    0    0    0                1  "
      ]
     },
     "execution_count": 918,
     "metadata": {},
     "output_type": "execute_result"
    }
   ],
   "source": [
    "# the column 'final_Predicted' will be assigned with 1 if Converted_prob > 0.3 else, 0\n",
    "y_train_pred_final['final_Predicted'] = y_train_pred_final.Converted_prob.map( lambda x: 1 if x > 0.3 else 0)\n",
    "\n",
    "y_train_pred_final.head()"
   ]
  },
  {
   "cell_type": "code",
   "execution_count": 920,
   "id": "b86f168c",
   "metadata": {},
   "outputs": [
    {
     "data": {
      "text/html": [
       "<div>\n",
       "<style scoped>\n",
       "    .dataframe tbody tr th:only-of-type {\n",
       "        vertical-align: middle;\n",
       "    }\n",
       "\n",
       "    .dataframe tbody tr th {\n",
       "        vertical-align: top;\n",
       "    }\n",
       "\n",
       "    .dataframe thead th {\n",
       "        text-align: right;\n",
       "    }\n",
       "</style>\n",
       "<table border=\"1\" class=\"dataframe\">\n",
       "  <thead>\n",
       "    <tr style=\"text-align: right;\">\n",
       "      <th></th>\n",
       "      <th>Converted</th>\n",
       "      <th>Converted_prob</th>\n",
       "      <th>final_Predicted</th>\n",
       "      <th>Lead_Score</th>\n",
       "    </tr>\n",
       "  </thead>\n",
       "  <tbody>\n",
       "    <tr>\n",
       "      <th>0</th>\n",
       "      <td>1</td>\n",
       "      <td>0.681637</td>\n",
       "      <td>1</td>\n",
       "      <td>68</td>\n",
       "    </tr>\n",
       "    <tr>\n",
       "      <th>1</th>\n",
       "      <td>0</td>\n",
       "      <td>0.601622</td>\n",
       "      <td>1</td>\n",
       "      <td>60</td>\n",
       "    </tr>\n",
       "    <tr>\n",
       "      <th>2</th>\n",
       "      <td>0</td>\n",
       "      <td>0.526006</td>\n",
       "      <td>1</td>\n",
       "      <td>53</td>\n",
       "    </tr>\n",
       "    <tr>\n",
       "      <th>3</th>\n",
       "      <td>1</td>\n",
       "      <td>0.993781</td>\n",
       "      <td>1</td>\n",
       "      <td>99</td>\n",
       "    </tr>\n",
       "    <tr>\n",
       "      <th>4</th>\n",
       "      <td>1</td>\n",
       "      <td>0.352790</td>\n",
       "      <td>1</td>\n",
       "      <td>35</td>\n",
       "    </tr>\n",
       "  </tbody>\n",
       "</table>\n",
       "</div>"
      ],
      "text/plain": [
       "   Converted  Converted_prob  final_Predicted  Lead_Score\n",
       "0          1        0.681637                1          68\n",
       "1          0        0.601622                1          60\n",
       "2          0        0.526006                1          53\n",
       "3          1        0.993781                1          99\n",
       "4          1        0.352790                1          35"
      ]
     },
     "execution_count": 920,
     "metadata": {},
     "output_type": "execute_result"
    }
   ],
   "source": [
    "y_train_pred_final['Lead_Score'] = y_train_pred_final.Converted_prob.map( lambda x: round(x*100))\n",
    "\n",
    "y_train_pred_final[['Converted','Converted_prob','final_Predicted','Lead_Score']].head()"
   ]
  },
  {
   "cell_type": "code",
   "execution_count": 921,
   "id": "2bee1ae9",
   "metadata": {},
   "outputs": [
    {
     "data": {
      "text/plain": [
       "0.7809633027522935"
      ]
     },
     "execution_count": 921,
     "metadata": {},
     "output_type": "execute_result"
    }
   ],
   "source": [
    "# Let's check the accuracy again\n",
    "metrics.accuracy_score(y_train_pred_final.Converted, y_train_pred_final.final_Predicted)"
   ]
  },
  {
   "cell_type": "markdown",
   "id": "57e0ef60",
   "metadata": {},
   "source": [
    "**Accuracy is 78%**"
   ]
  },
  {
   "cell_type": "code",
   "execution_count": 922,
   "id": "5b3b6986",
   "metadata": {},
   "outputs": [
    {
     "data": {
      "text/plain": [
       "array([[2876,  933],\n",
       "       [ 404, 1891]], dtype=int64)"
      ]
     },
     "execution_count": 922,
     "metadata": {},
     "output_type": "execute_result"
    }
   ],
   "source": [
    "#Let's create another confusion matrix\n",
    "confusion2 = metrics.confusion_matrix(y_train_pred_final.Converted, y_train_pred_final.final_Predicted )\n",
    "confusion2"
   ]
  },
  {
   "cell_type": "code",
   "execution_count": 923,
   "id": "159b7252",
   "metadata": {},
   "outputs": [],
   "source": [
    "# assign variables so that we can calculate sensitivity, specificity etc\n",
    "TP = confusion2[1,1] # true positive \n",
    "TN = confusion2[0,0] # true negatives\n",
    "FP = confusion2[0,1] # false positives\n",
    "FN = confusion2[1,0] # false negatives"
   ]
  },
  {
   "cell_type": "code",
   "execution_count": 924,
   "id": "5557d41d",
   "metadata": {},
   "outputs": [
    {
     "data": {
      "text/plain": [
       "0.8239651416122005"
      ]
     },
     "execution_count": 924,
     "metadata": {},
     "output_type": "execute_result"
    }
   ],
   "source": [
    "# Sensitivity\n",
    "sensi = TP / float(TP+FN)\n",
    "sensi"
   ]
  },
  {
   "cell_type": "markdown",
   "id": "0e0297ee",
   "metadata": {},
   "source": [
    "**Sensitivity is 82%**"
   ]
  },
  {
   "cell_type": "code",
   "execution_count": 925,
   "id": "81a92f7d",
   "metadata": {},
   "outputs": [
    {
     "data": {
      "text/plain": [
       "0.7550538199002362"
      ]
     },
     "execution_count": 925,
     "metadata": {},
     "output_type": "execute_result"
    }
   ],
   "source": [
    "# Specificity\n",
    "speci = TN / float(TN+FP)\n",
    "speci"
   ]
  },
  {
   "cell_type": "markdown",
   "id": "71af6c5b",
   "metadata": {},
   "source": [
    "**Specificity is 76%**"
   ]
  },
  {
   "cell_type": "code",
   "execution_count": 926,
   "id": "600c86a7",
   "metadata": {},
   "outputs": [
    {
     "name": "stdout",
     "output_type": "stream",
     "text": [
      "0.2449461800997637\n"
     ]
    }
   ],
   "source": [
    "# Let's Calculate False Postive Rate - predicting conversion when customer does not convert\n",
    "print(FP/ float(TN+FP))"
   ]
  },
  {
   "cell_type": "markdown",
   "id": "71ad40d0",
   "metadata": {},
   "source": [
    "**False positive rate is 24%**"
   ]
  },
  {
   "cell_type": "code",
   "execution_count": 927,
   "id": "278dc39d",
   "metadata": {},
   "outputs": [
    {
     "name": "stdout",
     "output_type": "stream",
     "text": [
      "0.6696175637393768\n"
     ]
    }
   ],
   "source": [
    "# Positive predictive value \n",
    "print (TP / float(TP+FP))"
   ]
  },
  {
   "cell_type": "markdown",
   "id": "dfaa5440",
   "metadata": {},
   "source": [
    "**Positive Predictive value is 67%**"
   ]
  },
  {
   "cell_type": "code",
   "execution_count": 928,
   "id": "7dc42ebb",
   "metadata": {},
   "outputs": [
    {
     "name": "stdout",
     "output_type": "stream",
     "text": [
      "0.8768292682926829\n"
     ]
    }
   ],
   "source": [
    "# Negative predictive value\n",
    "print (TN / float(TN+ FN))"
   ]
  },
  {
   "cell_type": "markdown",
   "id": "b7cdfb89",
   "metadata": {},
   "source": [
    "**Negative predictive value is 88%**"
   ]
  },
  {
   "cell_type": "code",
   "execution_count": 932,
   "id": "9ad2a089",
   "metadata": {},
   "outputs": [],
   "source": [
    "# Let's import precision_score and recall_score library\n",
    "from sklearn.metrics import precision_score, recall_score"
   ]
  },
  {
   "cell_type": "code",
   "execution_count": 933,
   "id": "438e4035",
   "metadata": {},
   "outputs": [
    {
     "data": {
      "text/plain": [
       "0.6696175637393768"
      ]
     },
     "execution_count": 933,
     "metadata": {},
     "output_type": "execute_result"
    }
   ],
   "source": [
    "precision_score(y_train_pred_final.Converted , y_train_pred_final.final_Predicted)"
   ]
  },
  {
   "cell_type": "code",
   "execution_count": 934,
   "id": "d3232c10",
   "metadata": {},
   "outputs": [
    {
     "data": {
      "text/plain": [
       "0.8239651416122005"
      ]
     },
     "execution_count": 934,
     "metadata": {},
     "output_type": "execute_result"
    }
   ],
   "source": [
    "recall_score(y_train_pred_final.Converted, y_train_pred_final.final_Predicted)"
   ]
  },
  {
   "cell_type": "markdown",
   "id": "a7d2ca48",
   "metadata": {},
   "source": [
    "**Precision is 70% and Recall is 83%**"
   ]
  },
  {
   "cell_type": "code",
   "execution_count": 935,
   "id": "d2a0815d",
   "metadata": {},
   "outputs": [],
   "source": [
    "# Let's plot precision and recall curve\n",
    "from sklearn.metrics import precision_recall_curve"
   ]
  },
  {
   "cell_type": "code",
   "execution_count": 936,
   "id": "08ce81e0",
   "metadata": {},
   "outputs": [],
   "source": [
    "y_train_pred_final.Converted, y_train_pred_final.final_Predicted\n",
    "p, r, thresholds = precision_recall_curve(y_train_pred_final.Converted, y_train_pred_final.Converted_prob)"
   ]
  },
  {
   "cell_type": "code",
   "execution_count": 937,
   "id": "5a457d34",
   "metadata": {},
   "outputs": [
    {
     "data": {
      "image/png": "[encoded data removed]",
      "text/plain": [
       "<Figure size 432x288 with 1 Axes>"
      ]
     },
     "metadata": {},
     "output_type": "display_data"
    }
   ],
   "source": [
    "plt.plot(thresholds, p[:-1], \"b-\")\n",
    "plt.plot(thresholds, r[:-1], \"g-\")\n",
    "plt.show()"
   ]
  },
  {
   "cell_type": "markdown",
   "id": "407d8c25",
   "metadata": {},
   "source": [
    "**Train Data Insights:** After evaluating the model on the Train Data the scores we obtained:\n",
    "\n",
    "- Accuracy : 78%\n",
    "- Sensitivity : 82%\n",
    "- Specificity : 76%\n",
    "- Precision : 70%\n",
    "- Recall : 83%"
   ]
  },
  {
   "cell_type": "markdown",
   "id": "ce3c8672",
   "metadata": {},
   "source": [
    "### Step 7: Model Evaluation: Test Dataset"
   ]
  },
  {
   "cell_type": "markdown",
   "id": "69a1e8b9",
   "metadata": {},
   "source": [
    "**Scaling the test dataset**"
   ]
  },
  {
   "cell_type": "code",
   "execution_count": 938,
   "id": "ea1caf71",
   "metadata": {},
   "outputs": [
    {
     "data": {
      "text/html": [
       "<div>\n",
       "<style scoped>\n",
       "    .dataframe tbody tr th:only-of-type {\n",
       "        vertical-align: middle;\n",
       "    }\n",
       "\n",
       "    .dataframe tbody tr th {\n",
       "        vertical-align: top;\n",
       "    }\n",
       "\n",
       "    .dataframe thead th {\n",
       "        text-align: right;\n",
       "    }\n",
       "</style>\n",
       "<table border=\"1\" class=\"dataframe\">\n",
       "  <thead>\n",
       "    <tr style=\"text-align: right;\">\n",
       "      <th></th>\n",
       "      <th>TotalVisits</th>\n",
       "      <th>Total Time Spent on Website</th>\n",
       "      <th>Page Views Per Visit</th>\n",
       "      <th>Lead Origin_Landing Page Submission</th>\n",
       "      <th>Lead Origin_Lead Add Form</th>\n",
       "      <th>Lead Origin_Lead Import</th>\n",
       "      <th>Lead Source_Direct Traffic</th>\n",
       "      <th>Lead Source_Facebook</th>\n",
       "      <th>Lead Source_Google</th>\n",
       "      <th>Lead Source_Live Chat</th>\n",
       "      <th>...</th>\n",
       "      <th>Last Notable Activity_Email Opened</th>\n",
       "      <th>Last Notable Activity_Modified</th>\n",
       "      <th>Last Notable Activity_Olark Chat Conversation</th>\n",
       "      <th>Last Notable Activity_Other Activities</th>\n",
       "      <th>Last Notable Activity_Page Visited on Website</th>\n",
       "      <th>Last Notable Activity_SMS Sent</th>\n",
       "      <th>occupation_Unemployed</th>\n",
       "      <th>occupation_Working Professional</th>\n",
       "      <th>City_Non-Maharashtra Cities</th>\n",
       "      <th>City_Non-Mumbai Maharashtra Cities</th>\n",
       "    </tr>\n",
       "  </thead>\n",
       "  <tbody>\n",
       "    <tr>\n",
       "      <th>1105</th>\n",
       "      <td>1.64316</td>\n",
       "      <td>-0.592118</td>\n",
       "      <td>0.630267</td>\n",
       "      <td>1</td>\n",
       "      <td>0</td>\n",
       "      <td>0</td>\n",
       "      <td>0</td>\n",
       "      <td>0</td>\n",
       "      <td>1</td>\n",
       "      <td>0</td>\n",
       "      <td>...</td>\n",
       "      <td>0</td>\n",
       "      <td>1</td>\n",
       "      <td>0</td>\n",
       "      <td>0</td>\n",
       "      <td>0</td>\n",
       "      <td>0</td>\n",
       "      <td>1</td>\n",
       "      <td>0</td>\n",
       "      <td>1</td>\n",
       "      <td>0</td>\n",
       "    </tr>\n",
       "    <tr>\n",
       "      <th>5872</th>\n",
       "      <td>-1.15070</td>\n",
       "      <td>-0.863670</td>\n",
       "      <td>-1.141766</td>\n",
       "      <td>0</td>\n",
       "      <td>1</td>\n",
       "      <td>0</td>\n",
       "      <td>0</td>\n",
       "      <td>0</td>\n",
       "      <td>0</td>\n",
       "      <td>0</td>\n",
       "      <td>...</td>\n",
       "      <td>0</td>\n",
       "      <td>0</td>\n",
       "      <td>0</td>\n",
       "      <td>0</td>\n",
       "      <td>0</td>\n",
       "      <td>1</td>\n",
       "      <td>1</td>\n",
       "      <td>0</td>\n",
       "      <td>1</td>\n",
       "      <td>0</td>\n",
       "    </tr>\n",
       "    <tr>\n",
       "      <th>480</th>\n",
       "      <td>-1.15070</td>\n",
       "      <td>-0.863670</td>\n",
       "      <td>-1.141766</td>\n",
       "      <td>0</td>\n",
       "      <td>0</td>\n",
       "      <td>0</td>\n",
       "      <td>0</td>\n",
       "      <td>0</td>\n",
       "      <td>0</td>\n",
       "      <td>0</td>\n",
       "      <td>...</td>\n",
       "      <td>1</td>\n",
       "      <td>0</td>\n",
       "      <td>0</td>\n",
       "      <td>0</td>\n",
       "      <td>0</td>\n",
       "      <td>0</td>\n",
       "      <td>1</td>\n",
       "      <td>0</td>\n",
       "      <td>0</td>\n",
       "      <td>0</td>\n",
       "    </tr>\n",
       "    <tr>\n",
       "      <th>8055</th>\n",
       "      <td>-1.15070</td>\n",
       "      <td>-0.863670</td>\n",
       "      <td>-1.141766</td>\n",
       "      <td>0</td>\n",
       "      <td>1</td>\n",
       "      <td>0</td>\n",
       "      <td>0</td>\n",
       "      <td>0</td>\n",
       "      <td>0</td>\n",
       "      <td>0</td>\n",
       "      <td>...</td>\n",
       "      <td>0</td>\n",
       "      <td>0</td>\n",
       "      <td>0</td>\n",
       "      <td>0</td>\n",
       "      <td>0</td>\n",
       "      <td>1</td>\n",
       "      <td>0</td>\n",
       "      <td>1</td>\n",
       "      <td>0</td>\n",
       "      <td>0</td>\n",
       "    </tr>\n",
       "    <tr>\n",
       "      <th>8214</th>\n",
       "      <td>-1.15070</td>\n",
       "      <td>-0.863670</td>\n",
       "      <td>-1.141766</td>\n",
       "      <td>0</td>\n",
       "      <td>0</td>\n",
       "      <td>0</td>\n",
       "      <td>0</td>\n",
       "      <td>0</td>\n",
       "      <td>0</td>\n",
       "      <td>0</td>\n",
       "      <td>...</td>\n",
       "      <td>0</td>\n",
       "      <td>1</td>\n",
       "      <td>0</td>\n",
       "      <td>0</td>\n",
       "      <td>0</td>\n",
       "      <td>0</td>\n",
       "      <td>0</td>\n",
       "      <td>0</td>\n",
       "      <td>0</td>\n",
       "      <td>0</td>\n",
       "    </tr>\n",
       "  </tbody>\n",
       "</table>\n",
       "<p>5 rows × 38 columns</p>\n",
       "</div>"
      ],
      "text/plain": [
       "      TotalVisits  Total Time Spent on Website  Page Views Per Visit  \\\n",
       "1105      1.64316                    -0.592118              0.630267   \n",
       "5872     -1.15070                    -0.863670             -1.141766   \n",
       "480      -1.15070                    -0.863670             -1.141766   \n",
       "8055     -1.15070                    -0.863670             -1.141766   \n",
       "8214     -1.15070                    -0.863670             -1.141766   \n",
       "\n",
       "      Lead Origin_Landing Page Submission  Lead Origin_Lead Add Form  \\\n",
       "1105                                    1                          0   \n",
       "5872                                    0                          1   \n",
       "480                                     0                          0   \n",
       "8055                                    0                          1   \n",
       "8214                                    0                          0   \n",
       "\n",
       "      Lead Origin_Lead Import  Lead Source_Direct Traffic  \\\n",
       "1105                        0                           0   \n",
       "5872                        0                           0   \n",
       "480                         0                           0   \n",
       "8055                        0                           0   \n",
       "8214                        0                           0   \n",
       "\n",
       "      Lead Source_Facebook  Lead Source_Google  Lead Source_Live Chat  ...  \\\n",
       "1105                     0                   1                      0  ...   \n",
       "5872                     0                   0                      0  ...   \n",
       "480                      0                   0                      0  ...   \n",
       "8055                     0                   0                      0  ...   \n",
       "8214                     0                   0                      0  ...   \n",
       "\n",
       "      Last Notable Activity_Email Opened  Last Notable Activity_Modified  \\\n",
       "1105                                   0                               1   \n",
       "5872                                   0                               0   \n",
       "480                                    1                               0   \n",
       "8055                                   0                               0   \n",
       "8214                                   0                               1   \n",
       "\n",
       "      Last Notable Activity_Olark Chat Conversation  \\\n",
       "1105                                              0   \n",
       "5872                                              0   \n",
       "480                                               0   \n",
       "8055                                              0   \n",
       "8214                                              0   \n",
       "\n",
       "      Last Notable Activity_Other Activities  \\\n",
       "1105                                       0   \n",
       "5872                                       0   \n",
       "480                                        0   \n",
       "8055                                       0   \n",
       "8214                                       0   \n",
       "\n",
       "      Last Notable Activity_Page Visited on Website  \\\n",
       "1105                                              0   \n",
       "5872                                              0   \n",
       "480                                               0   \n",
       "8055                                              0   \n",
       "8214                                              0   \n",
       "\n",
       "      Last Notable Activity_SMS Sent  occupation_Unemployed  \\\n",
       "1105                               0                      1   \n",
       "5872                               1                      1   \n",
       "480                                0                      1   \n",
       "8055                               1                      0   \n",
       "8214                               0                      0   \n",
       "\n",
       "      occupation_Working Professional  City_Non-Maharashtra Cities  \\\n",
       "1105                                0                            1   \n",
       "5872                                0                            1   \n",
       "480                                 0                            0   \n",
       "8055                                1                            0   \n",
       "8214                                0                            0   \n",
       "\n",
       "      City_Non-Mumbai Maharashtra Cities  \n",
       "1105                                   0  \n",
       "5872                                   0  \n",
       "480                                    0  \n",
       "8055                                   0  \n",
       "8214                                   0  \n",
       "\n",
       "[5 rows x 38 columns]"
      ]
     },
     "execution_count": 938,
     "metadata": {},
     "output_type": "execute_result"
    }
   ],
   "source": [
    "#Let's keep all numeric cols together like we did in training data set\n",
    "num_cols=X_test.select_dtypes(include=['float64', 'int64']).columns\n",
    "\n",
    "X_test[num_cols] = scaler.fit_transform(X_test[num_cols])\n",
    "\n",
    "X_test.head()"
   ]
  },
  {
   "cell_type": "code",
   "execution_count": 939,
   "id": "8dfedf51",
   "metadata": {},
   "outputs": [
    {
     "data": {
      "text/html": [
       "<div>\n",
       "<style scoped>\n",
       "    .dataframe tbody tr th:only-of-type {\n",
       "        vertical-align: middle;\n",
       "    }\n",
       "\n",
       "    .dataframe tbody tr th {\n",
       "        vertical-align: top;\n",
       "    }\n",
       "\n",
       "    .dataframe thead th {\n",
       "        text-align: right;\n",
       "    }\n",
       "</style>\n",
       "<table border=\"1\" class=\"dataframe\">\n",
       "  <thead>\n",
       "    <tr style=\"text-align: right;\">\n",
       "      <th></th>\n",
       "      <th>Total Time Spent on Website</th>\n",
       "      <th>Lead Source_Direct Traffic</th>\n",
       "      <th>Lead Source_Google</th>\n",
       "      <th>Lead Source_Organic Search</th>\n",
       "      <th>Lead Source_Reference</th>\n",
       "      <th>Lead Source_Referral Sites</th>\n",
       "      <th>Lead Source_Welingak Website</th>\n",
       "      <th>Last Notable Activity_Modified</th>\n",
       "      <th>Last Notable Activity_Olark Chat Conversation</th>\n",
       "      <th>Last Notable Activity_SMS Sent</th>\n",
       "      <th>occupation_Working Professional</th>\n",
       "    </tr>\n",
       "  </thead>\n",
       "  <tbody>\n",
       "    <tr>\n",
       "      <th>1105</th>\n",
       "      <td>-0.592118</td>\n",
       "      <td>0</td>\n",
       "      <td>1</td>\n",
       "      <td>0</td>\n",
       "      <td>0</td>\n",
       "      <td>0</td>\n",
       "      <td>0</td>\n",
       "      <td>1</td>\n",
       "      <td>0</td>\n",
       "      <td>0</td>\n",
       "      <td>0</td>\n",
       "    </tr>\n",
       "    <tr>\n",
       "      <th>5872</th>\n",
       "      <td>-0.863670</td>\n",
       "      <td>0</td>\n",
       "      <td>0</td>\n",
       "      <td>0</td>\n",
       "      <td>0</td>\n",
       "      <td>0</td>\n",
       "      <td>1</td>\n",
       "      <td>0</td>\n",
       "      <td>0</td>\n",
       "      <td>1</td>\n",
       "      <td>0</td>\n",
       "    </tr>\n",
       "    <tr>\n",
       "      <th>480</th>\n",
       "      <td>-0.863670</td>\n",
       "      <td>0</td>\n",
       "      <td>0</td>\n",
       "      <td>0</td>\n",
       "      <td>0</td>\n",
       "      <td>0</td>\n",
       "      <td>0</td>\n",
       "      <td>0</td>\n",
       "      <td>0</td>\n",
       "      <td>0</td>\n",
       "      <td>0</td>\n",
       "    </tr>\n",
       "    <tr>\n",
       "      <th>8055</th>\n",
       "      <td>-0.863670</td>\n",
       "      <td>0</td>\n",
       "      <td>0</td>\n",
       "      <td>0</td>\n",
       "      <td>1</td>\n",
       "      <td>0</td>\n",
       "      <td>0</td>\n",
       "      <td>0</td>\n",
       "      <td>0</td>\n",
       "      <td>1</td>\n",
       "      <td>1</td>\n",
       "    </tr>\n",
       "    <tr>\n",
       "      <th>8214</th>\n",
       "      <td>-0.863670</td>\n",
       "      <td>0</td>\n",
       "      <td>0</td>\n",
       "      <td>0</td>\n",
       "      <td>0</td>\n",
       "      <td>0</td>\n",
       "      <td>0</td>\n",
       "      <td>1</td>\n",
       "      <td>0</td>\n",
       "      <td>0</td>\n",
       "      <td>0</td>\n",
       "    </tr>\n",
       "  </tbody>\n",
       "</table>\n",
       "</div>"
      ],
      "text/plain": [
       "      Total Time Spent on Website  Lead Source_Direct Traffic  \\\n",
       "1105                    -0.592118                           0   \n",
       "5872                    -0.863670                           0   \n",
       "480                     -0.863670                           0   \n",
       "8055                    -0.863670                           0   \n",
       "8214                    -0.863670                           0   \n",
       "\n",
       "      Lead Source_Google  Lead Source_Organic Search  Lead Source_Reference  \\\n",
       "1105                   1                           0                      0   \n",
       "5872                   0                           0                      0   \n",
       "480                    0                           0                      0   \n",
       "8055                   0                           0                      1   \n",
       "8214                   0                           0                      0   \n",
       "\n",
       "      Lead Source_Referral Sites  Lead Source_Welingak Website  \\\n",
       "1105                           0                             0   \n",
       "5872                           0                             1   \n",
       "480                            0                             0   \n",
       "8055                           0                             0   \n",
       "8214                           0                             0   \n",
       "\n",
       "      Last Notable Activity_Modified  \\\n",
       "1105                               1   \n",
       "5872                               0   \n",
       "480                                0   \n",
       "8055                               0   \n",
       "8214                               1   \n",
       "\n",
       "      Last Notable Activity_Olark Chat Conversation  \\\n",
       "1105                                              0   \n",
       "5872                                              0   \n",
       "480                                               0   \n",
       "8055                                              0   \n",
       "8214                                              0   \n",
       "\n",
       "      Last Notable Activity_SMS Sent  occupation_Working Professional  \n",
       "1105                               0                                0  \n",
       "5872                               1                                0  \n",
       "480                                0                                0  \n",
       "8055                               1                                1  \n",
       "8214                               0                                0  "
      ]
     },
     "execution_count": 939,
     "metadata": {},
     "output_type": "execute_result"
    }
   ],
   "source": [
    "X_test = X_test[col]\n",
    "X_test.head()"
   ]
  },
  {
   "cell_type": "code",
   "execution_count": 940,
   "id": "81b09b1f",
   "metadata": {},
   "outputs": [],
   "source": [
    "#adding constant to X_test var\n",
    "X_test_sm = sm.add_constant(X_test)"
   ]
  },
  {
   "cell_type": "code",
   "execution_count": 941,
   "id": "5ee8f2ad",
   "metadata": {},
   "outputs": [],
   "source": [
    "# assigning y_test_pred\n",
    "y_test_pred = res.predict(X_test_sm)"
   ]
  },
  {
   "cell_type": "code",
   "execution_count": 942,
   "id": "05f8a7af",
   "metadata": {},
   "outputs": [
    {
     "data": {
      "text/plain": [
       "1105    0.077089\n",
       "5872    0.996864\n",
       "480     0.225198\n",
       "8055    0.993867\n",
       "8214    0.118247\n",
       "4641    0.059011\n",
       "5693    0.225198\n",
       "3810    0.712582\n",
       "430     0.090487\n",
       "2085    0.986998\n",
       "dtype: float64"
      ]
     },
     "execution_count": 942,
     "metadata": {},
     "output_type": "execute_result"
    }
   ],
   "source": [
    "y_test_pred[:10]"
   ]
  },
  {
   "cell_type": "code",
   "execution_count": 943,
   "id": "0e378c36",
   "metadata": {},
   "outputs": [],
   "source": [
    "# Let's Convert y_pred to a dataframe which is an array\n",
    "y_pred_1 = pd.DataFrame(y_test_pred)"
   ]
  },
  {
   "cell_type": "code",
   "execution_count": 944,
   "id": "f9fa9e4b",
   "metadata": {},
   "outputs": [
    {
     "data": {
      "text/html": [
       "<div>\n",
       "<style scoped>\n",
       "    .dataframe tbody tr th:only-of-type {\n",
       "        vertical-align: middle;\n",
       "    }\n",
       "\n",
       "    .dataframe tbody tr th {\n",
       "        vertical-align: top;\n",
       "    }\n",
       "\n",
       "    .dataframe thead th {\n",
       "        text-align: right;\n",
       "    }\n",
       "</style>\n",
       "<table border=\"1\" class=\"dataframe\">\n",
       "  <thead>\n",
       "    <tr style=\"text-align: right;\">\n",
       "      <th></th>\n",
       "      <th>0</th>\n",
       "    </tr>\n",
       "  </thead>\n",
       "  <tbody>\n",
       "    <tr>\n",
       "      <th>1105</th>\n",
       "      <td>0.077089</td>\n",
       "    </tr>\n",
       "    <tr>\n",
       "      <th>5872</th>\n",
       "      <td>0.996864</td>\n",
       "    </tr>\n",
       "    <tr>\n",
       "      <th>480</th>\n",
       "      <td>0.225198</td>\n",
       "    </tr>\n",
       "    <tr>\n",
       "      <th>8055</th>\n",
       "      <td>0.993867</td>\n",
       "    </tr>\n",
       "    <tr>\n",
       "      <th>8214</th>\n",
       "      <td>0.118247</td>\n",
       "    </tr>\n",
       "  </tbody>\n",
       "</table>\n",
       "</div>"
      ],
      "text/plain": [
       "             0\n",
       "1105  0.077089\n",
       "5872  0.996864\n",
       "480   0.225198\n",
       "8055  0.993867\n",
       "8214  0.118247"
      ]
     },
     "execution_count": 944,
     "metadata": {},
     "output_type": "execute_result"
    }
   ],
   "source": [
    "# Let's see the first five records\n",
    "y_pred_1.head()"
   ]
  },
  {
   "cell_type": "code",
   "execution_count": 945,
   "id": "089f0ba3",
   "metadata": {},
   "outputs": [],
   "source": [
    "# Let's Convert y_test to dataframe\n",
    "y_test_df = pd.DataFrame(y_test)"
   ]
  },
  {
   "cell_type": "code",
   "execution_count": 946,
   "id": "135100c9",
   "metadata": {},
   "outputs": [],
   "source": [
    "# Let's Append y_test_df and y_pred_1\n",
    "y_pred_final = pd.concat([y_test_df, y_pred_1],axis=1)"
   ]
  },
  {
   "cell_type": "code",
   "execution_count": 947,
   "id": "bee83df5",
   "metadata": {},
   "outputs": [
    {
     "data": {
      "text/html": [
       "<div>\n",
       "<style scoped>\n",
       "    .dataframe tbody tr th:only-of-type {\n",
       "        vertical-align: middle;\n",
       "    }\n",
       "\n",
       "    .dataframe tbody tr th {\n",
       "        vertical-align: top;\n",
       "    }\n",
       "\n",
       "    .dataframe thead th {\n",
       "        text-align: right;\n",
       "    }\n",
       "</style>\n",
       "<table border=\"1\" class=\"dataframe\">\n",
       "  <thead>\n",
       "    <tr style=\"text-align: right;\">\n",
       "      <th></th>\n",
       "      <th>Converted</th>\n",
       "      <th>0</th>\n",
       "    </tr>\n",
       "  </thead>\n",
       "  <tbody>\n",
       "    <tr>\n",
       "      <th>1105</th>\n",
       "      <td>0</td>\n",
       "      <td>0.077089</td>\n",
       "    </tr>\n",
       "    <tr>\n",
       "      <th>5872</th>\n",
       "      <td>1</td>\n",
       "      <td>0.996864</td>\n",
       "    </tr>\n",
       "    <tr>\n",
       "      <th>480</th>\n",
       "      <td>0</td>\n",
       "      <td>0.225198</td>\n",
       "    </tr>\n",
       "    <tr>\n",
       "      <th>8055</th>\n",
       "      <td>1</td>\n",
       "      <td>0.993867</td>\n",
       "    </tr>\n",
       "    <tr>\n",
       "      <th>8214</th>\n",
       "      <td>0</td>\n",
       "      <td>0.118247</td>\n",
       "    </tr>\n",
       "  </tbody>\n",
       "</table>\n",
       "</div>"
      ],
      "text/plain": [
       "      Converted         0\n",
       "1105          0  0.077089\n",
       "5872          1  0.996864\n",
       "480           0  0.225198\n",
       "8055          1  0.993867\n",
       "8214          0  0.118247"
      ]
     },
     "execution_count": 947,
     "metadata": {},
     "output_type": "execute_result"
    }
   ],
   "source": [
    "y_pred_final.head()"
   ]
  },
  {
   "cell_type": "code",
   "execution_count": 948,
   "id": "c52e2c8c",
   "metadata": {},
   "outputs": [],
   "source": [
    "# Let's Rename the column \n",
    "y_pred_final= y_pred_final.rename(columns={ 0 : 'Converted_prob'})"
   ]
  },
  {
   "cell_type": "code",
   "execution_count": 949,
   "id": "37b92464",
   "metadata": {},
   "outputs": [
    {
     "data": {
      "text/html": [
       "<div>\n",
       "<style scoped>\n",
       "    .dataframe tbody tr th:only-of-type {\n",
       "        vertical-align: middle;\n",
       "    }\n",
       "\n",
       "    .dataframe tbody tr th {\n",
       "        vertical-align: top;\n",
       "    }\n",
       "\n",
       "    .dataframe thead th {\n",
       "        text-align: right;\n",
       "    }\n",
       "</style>\n",
       "<table border=\"1\" class=\"dataframe\">\n",
       "  <thead>\n",
       "    <tr style=\"text-align: right;\">\n",
       "      <th></th>\n",
       "      <th>Converted</th>\n",
       "      <th>Converted_prob</th>\n",
       "    </tr>\n",
       "  </thead>\n",
       "  <tbody>\n",
       "    <tr>\n",
       "      <th>1105</th>\n",
       "      <td>0</td>\n",
       "      <td>0.077089</td>\n",
       "    </tr>\n",
       "    <tr>\n",
       "      <th>5872</th>\n",
       "      <td>1</td>\n",
       "      <td>0.996864</td>\n",
       "    </tr>\n",
       "    <tr>\n",
       "      <th>480</th>\n",
       "      <td>0</td>\n",
       "      <td>0.225198</td>\n",
       "    </tr>\n",
       "    <tr>\n",
       "      <th>8055</th>\n",
       "      <td>1</td>\n",
       "      <td>0.993867</td>\n",
       "    </tr>\n",
       "    <tr>\n",
       "      <th>8214</th>\n",
       "      <td>0</td>\n",
       "      <td>0.118247</td>\n",
       "    </tr>\n",
       "  </tbody>\n",
       "</table>\n",
       "</div>"
      ],
      "text/plain": [
       "      Converted  Converted_prob\n",
       "1105          0        0.077089\n",
       "5872          1        0.996864\n",
       "480           0        0.225198\n",
       "8055          1        0.993867\n",
       "8214          0        0.118247"
      ]
     },
     "execution_count": 949,
     "metadata": {},
     "output_type": "execute_result"
    }
   ],
   "source": [
    "y_pred_final.head()"
   ]
  },
  {
   "cell_type": "code",
   "execution_count": 950,
   "id": "c62d9d78",
   "metadata": {},
   "outputs": [
    {
     "data": {
      "text/html": [
       "<div>\n",
       "<style scoped>\n",
       "    .dataframe tbody tr th:only-of-type {\n",
       "        vertical-align: middle;\n",
       "    }\n",
       "\n",
       "    .dataframe tbody tr th {\n",
       "        vertical-align: top;\n",
       "    }\n",
       "\n",
       "    .dataframe thead th {\n",
       "        text-align: right;\n",
       "    }\n",
       "</style>\n",
       "<table border=\"1\" class=\"dataframe\">\n",
       "  <thead>\n",
       "    <tr style=\"text-align: right;\">\n",
       "      <th></th>\n",
       "      <th>Converted</th>\n",
       "      <th>Converted_prob</th>\n",
       "      <th>Lead_Score</th>\n",
       "    </tr>\n",
       "  </thead>\n",
       "  <tbody>\n",
       "    <tr>\n",
       "      <th>1105</th>\n",
       "      <td>0</td>\n",
       "      <td>0.077089</td>\n",
       "      <td>8</td>\n",
       "    </tr>\n",
       "    <tr>\n",
       "      <th>5872</th>\n",
       "      <td>1</td>\n",
       "      <td>0.996864</td>\n",
       "      <td>100</td>\n",
       "    </tr>\n",
       "    <tr>\n",
       "      <th>480</th>\n",
       "      <td>0</td>\n",
       "      <td>0.225198</td>\n",
       "      <td>23</td>\n",
       "    </tr>\n",
       "    <tr>\n",
       "      <th>8055</th>\n",
       "      <td>1</td>\n",
       "      <td>0.993867</td>\n",
       "      <td>99</td>\n",
       "    </tr>\n",
       "    <tr>\n",
       "      <th>8214</th>\n",
       "      <td>0</td>\n",
       "      <td>0.118247</td>\n",
       "      <td>12</td>\n",
       "    </tr>\n",
       "  </tbody>\n",
       "</table>\n",
       "</div>"
      ],
      "text/plain": [
       "      Converted  Converted_prob  Lead_Score\n",
       "1105          0        0.077089           8\n",
       "5872          1        0.996864         100\n",
       "480           0        0.225198          23\n",
       "8055          1        0.993867          99\n",
       "8214          0        0.118247          12"
      ]
     },
     "execution_count": 950,
     "metadata": {},
     "output_type": "execute_result"
    }
   ],
   "source": [
    "y_pred_final['Lead_Score'] = y_pred_final.Converted_prob.map( lambda x: round(x*100))\n",
    "y_pred_final.head()"
   ]
  },
  {
   "cell_type": "code",
   "execution_count": 951,
   "id": "e5345280",
   "metadata": {},
   "outputs": [],
   "source": [
    "# Let's apply the cut-off score 0.3 \n",
    "y_pred_final['final_Predicted'] = y_pred_final.Converted_prob.map(lambda x: 1 if x > 0.3 else 0)"
   ]
  },
  {
   "cell_type": "code",
   "execution_count": 952,
   "id": "35451d01",
   "metadata": {},
   "outputs": [
    {
     "data": {
      "text/html": [
       "<div>\n",
       "<style scoped>\n",
       "    .dataframe tbody tr th:only-of-type {\n",
       "        vertical-align: middle;\n",
       "    }\n",
       "\n",
       "    .dataframe tbody tr th {\n",
       "        vertical-align: top;\n",
       "    }\n",
       "\n",
       "    .dataframe thead th {\n",
       "        text-align: right;\n",
       "    }\n",
       "</style>\n",
       "<table border=\"1\" class=\"dataframe\">\n",
       "  <thead>\n",
       "    <tr style=\"text-align: right;\">\n",
       "      <th></th>\n",
       "      <th>Converted</th>\n",
       "      <th>Converted_prob</th>\n",
       "      <th>Lead_Score</th>\n",
       "      <th>final_Predicted</th>\n",
       "    </tr>\n",
       "  </thead>\n",
       "  <tbody>\n",
       "    <tr>\n",
       "      <th>1105</th>\n",
       "      <td>0</td>\n",
       "      <td>0.077089</td>\n",
       "      <td>8</td>\n",
       "      <td>0</td>\n",
       "    </tr>\n",
       "    <tr>\n",
       "      <th>5872</th>\n",
       "      <td>1</td>\n",
       "      <td>0.996864</td>\n",
       "      <td>100</td>\n",
       "      <td>1</td>\n",
       "    </tr>\n",
       "    <tr>\n",
       "      <th>480</th>\n",
       "      <td>0</td>\n",
       "      <td>0.225198</td>\n",
       "      <td>23</td>\n",
       "      <td>0</td>\n",
       "    </tr>\n",
       "    <tr>\n",
       "      <th>8055</th>\n",
       "      <td>1</td>\n",
       "      <td>0.993867</td>\n",
       "      <td>99</td>\n",
       "      <td>1</td>\n",
       "    </tr>\n",
       "    <tr>\n",
       "      <th>8214</th>\n",
       "      <td>0</td>\n",
       "      <td>0.118247</td>\n",
       "      <td>12</td>\n",
       "      <td>0</td>\n",
       "    </tr>\n",
       "  </tbody>\n",
       "</table>\n",
       "</div>"
      ],
      "text/plain": [
       "      Converted  Converted_prob  Lead_Score  final_Predicted\n",
       "1105          0        0.077089           8                0\n",
       "5872          1        0.996864         100                1\n",
       "480           0        0.225198          23                0\n",
       "8055          1        0.993867          99                1\n",
       "8214          0        0.118247          12                0"
      ]
     },
     "execution_count": 952,
     "metadata": {},
     "output_type": "execute_result"
    }
   ],
   "source": [
    "#Let's check the dataset again\n",
    "y_pred_final.head()"
   ]
  },
  {
   "cell_type": "code",
   "execution_count": 953,
   "id": "4e4332d6",
   "metadata": {},
   "outputs": [
    {
     "data": {
      "text/plain": [
       "0.7756973633931983"
      ]
     },
     "execution_count": 953,
     "metadata": {},
     "output_type": "execute_result"
    }
   ],
   "source": [
    "# Let's check the overall accuracy.\n",
    "metrics.accuracy_score(y_pred_final.Converted, y_pred_final.final_Predicted)"
   ]
  },
  {
   "cell_type": "markdown",
   "id": "3a0920e7",
   "metadata": {},
   "source": [
    "**Accuracy is 78%**"
   ]
  },
  {
   "cell_type": "code",
   "execution_count": 954,
   "id": "7881b459",
   "metadata": {},
   "outputs": [
    {
     "data": {
      "text/plain": [
       "array([[1216,  426],\n",
       "       [ 161,  814]], dtype=int64)"
      ]
     },
     "execution_count": 954,
     "metadata": {},
     "output_type": "execute_result"
    }
   ],
   "source": [
    "#Let's check the confusion matrix\n",
    "confusion2 = metrics.confusion_matrix(y_pred_final.Converted, y_pred_final.final_Predicted )\n",
    "confusion2"
   ]
  },
  {
   "cell_type": "code",
   "execution_count": 955,
   "id": "9c322752",
   "metadata": {},
   "outputs": [],
   "source": [
    "# Let's assign values to TP, TN, FP and FN\n",
    "TP = confusion2[1,1] # true positive \n",
    "TN = confusion2[0,0] # true negatives\n",
    "FP = confusion2[0,1] # false positives\n",
    "FN = confusion2[1,0] # false negatives"
   ]
  },
  {
   "cell_type": "code",
   "execution_count": 956,
   "id": "98dc0479",
   "metadata": {},
   "outputs": [
    {
     "data": {
      "text/plain": [
       "0.8348717948717949"
      ]
     },
     "execution_count": 956,
     "metadata": {},
     "output_type": "execute_result"
    }
   ],
   "source": [
    "# Let's see the sensitivity of our logistic regression model\n",
    "TP / float(TP+FN)"
   ]
  },
  {
   "cell_type": "markdown",
   "id": "29d4032f",
   "metadata": {},
   "source": [
    "**Sensitivity is 84%**"
   ]
  },
  {
   "cell_type": "code",
   "execution_count": 957,
   "id": "9e876c73",
   "metadata": {},
   "outputs": [
    {
     "data": {
      "text/plain": [
       "0.7405602923264312"
      ]
     },
     "execution_count": 957,
     "metadata": {},
     "output_type": "execute_result"
    }
   ],
   "source": [
    "# Let us calculate specificity\n",
    "TN / float(TN+FP)"
   ]
  },
  {
   "cell_type": "markdown",
   "id": "f53e6793",
   "metadata": {},
   "source": [
    "**Specificity is 74%**"
   ]
  },
  {
   "cell_type": "code",
   "execution_count": 958,
   "id": "d00019f3",
   "metadata": {},
   "outputs": [
    {
     "data": {
      "text/plain": [
       "0.6564516129032258"
      ]
     },
     "execution_count": 958,
     "metadata": {},
     "output_type": "execute_result"
    }
   ],
   "source": [
    "precision_score(y_pred_final.Converted , y_pred_final.final_Predicted)"
   ]
  },
  {
   "cell_type": "markdown",
   "id": "c3539267",
   "metadata": {},
   "source": [
    "**Precision is 66%**"
   ]
  },
  {
   "cell_type": "code",
   "execution_count": 959,
   "id": "2917a6b1",
   "metadata": {},
   "outputs": [
    {
     "data": {
      "text/plain": [
       "0.8348717948717949"
      ]
     },
     "execution_count": 959,
     "metadata": {},
     "output_type": "execute_result"
    }
   ],
   "source": [
    "recall_score(y_pred_final.Converted, y_pred_final.final_Predicted)"
   ]
  },
  {
   "cell_type": "markdown",
   "id": "9ec95fff",
   "metadata": {},
   "source": [
    "**Recall score is 84%**"
   ]
  },
  {
   "cell_type": "markdown",
   "id": "a947d639",
   "metadata": {},
   "source": [
    "**Test Data Insights:**\n",
    "After evaluating the model on the Test Dataset the scores we obtained:\n",
    "\n",
    "- Accuracy : 78%\n",
    "- Sensitivity : 84%\n",
    "- Specificity : 74%\n",
    "- Precision : 66%\n",
    "- Recall : 83%"
   ]
  },
  {
   "cell_type": "markdown",
   "id": "777c8a1b",
   "metadata": {},
   "source": [
    "### Final Insights:\n",
    "\n",
    "As we know, when we promote our online education program via many ad campaigns, search engine optimisation, blogging etc we end up with a huge number of leads. However,**only 38% of the whole dataset have 'Converted'** meaning only 38% of the total leads have enrolled with one or more of the online education programs. \n",
    "\n",
    "We, also, saw there are customers with various kind of occupations, for example - Working professionals, unemployed, Students etc who have enrolled for our program. Among those conversions, **most of our leads reside in Mumbai and are Unemployed**. Furthermore, they **found out** about the program **via Google ads and opted for specialization which falls under 'Management' category**.In addition to that, we also noticed the potential leads who **spend maximum time on the website had a high rate of conversion**.\n",
    "\n",
    "We would suggest, to make the Company's **social media presence more prominent** and keep working on the **website content** which would result in **high engagement**. Also, the company could **assign high performing sales team** to be proactive in **Olark Chat** so that we can improve potential lead conversion on that platform as well. We can also, work on **targeting audience residing outside Maharashtra**, as company provides online education program and is suitable for everyone who wants to upskill in their career path.\n",
    "\n",
    "\n",
    "Now, coming to our machine building and prediction part, If we compare the values obtained for Train & Test:\n",
    "\n",
    "**Train Data:** \n",
    "Accuracy : 78%\n",
    "Sensitivity : 82%\n",
    "Specificity : 76%\n",
    "Precision : 70%\n",
    "Recall : 83%\n",
    "\n",
    "**Test Data:**\n",
    "Accuracy : 78%\n",
    "Sensitivity : 84%\n",
    "Specificity : 74%\n",
    "Precision : 66%\n",
    "Recall : 83%\n",
    "\n",
    "The **score of Accuracy, Sensitivity and Accuracy in Train and Test data doesn't vary much**. Which means our **model can predict the conversion rate pretty decently** and we should be able to **give the CEO confidenc**e in making good calls based on this model's **'Hot Lead' prediction**.\n"
   ]
  },
  {
   "cell_type": "markdown",
   "id": "1e79da83",
   "metadata": {},
   "source": [
    "\n",
    "**Submitted by:**\n",
    "**Anugata Mahapatra** And **Bhavya Joshi**\n",
    " "
   ]
  },
  {
   "cell_type": "code",
   "execution_count": null,
   "id": "48a12b78",
   "metadata": {},
   "outputs": [],
   "source": []
  }
 ],
 "metadata": {
  "kernelspec": {
   "display_name": "Python 3 (ipykernel)",
   "language": "python",
   "name": "python3"
  },
  "language_info": {
   "codemirror_mode": {
    "name": "ipython",
    "version": 3
   },
   "file_extension": ".py",
   "mimetype": "text/x-python",
   "name": "python",
   "nbconvert_exporter": "python",
   "pygments_lexer": "ipython3",
   "version": "3.9.7"
  }
 },
 "nbformat": 4,
 "nbformat_minor": 5
}
